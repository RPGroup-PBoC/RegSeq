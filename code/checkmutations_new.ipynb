{
 "cells": [
  {
   "cell_type": "markdown",
   "metadata": {},
   "source": [
    "# Generate mutated sequences"
   ]
  },
  {
   "cell_type": "code",
   "execution_count": 1,
   "metadata": {},
   "outputs": [],
   "source": [
    "import numpy as np\n",
    "import pandas as pd\n",
    "\n",
    "import Bio.SeqIO\n",
    "import RegSeq\n",
    "\n",
    "# import sortseq.utils as utils\n",
    "import mpathic.utils as utils\n",
    "seq_dict,inv_dict = utils.choose_dict('dna')\n"
   ]
  },
  {
   "cell_type": "markdown",
   "metadata": {},
   "source": [
    "First we load the wildtype sequences of the genes of interest. For how these sequences are generated, check the `create_gene_seqs.ipynb` notebook."
   ]
  },
  {
   "cell_type": "code",
   "execution_count": 2,
   "metadata": {},
   "outputs": [
    {
     "data": {
      "text/html": [
       "<div>\n",
       "<style scoped>\n",
       "    .dataframe tbody tr th:only-of-type {\n",
       "        vertical-align: middle;\n",
       "    }\n",
       "\n",
       "    .dataframe tbody tr th {\n",
       "        vertical-align: top;\n",
       "    }\n",
       "\n",
       "    .dataframe thead th {\n",
       "        text-align: right;\n",
       "    }\n",
       "</style>\n",
       "<table border=\"1\" class=\"dataframe\">\n",
       "  <thead>\n",
       "    <tr style=\"text-align: right;\">\n",
       "      <th></th>\n",
       "      <th>name</th>\n",
       "      <th>start_site</th>\n",
       "      <th>rev</th>\n",
       "      <th>geneseq</th>\n",
       "      <th>ssdiff</th>\n",
       "      <th>offset</th>\n",
       "    </tr>\n",
       "  </thead>\n",
       "  <tbody>\n",
       "    <tr>\n",
       "      <th>0</th>\n",
       "      <td>fdoH</td>\n",
       "      <td>4085867.0</td>\n",
       "      <td>rev</td>\n",
       "      <td>CATTATGGTATTCTGTTACAAACCCTTCCTGGATGGAGGGAAATTG...</td>\n",
       "      <td>0.0</td>\n",
       "      <td>0.0</td>\n",
       "    </tr>\n",
       "    <tr>\n",
       "      <th>3</th>\n",
       "      <td>sdaB</td>\n",
       "      <td>2928035.0</td>\n",
       "      <td>fwd</td>\n",
       "      <td>TACATATATTGCGCGCCCCGGAAGAAGTCAGATGTCGTTTAATGGG...</td>\n",
       "      <td>0.0</td>\n",
       "      <td>0.0</td>\n",
       "    </tr>\n",
       "    <tr>\n",
       "      <th>6</th>\n",
       "      <td>thiM</td>\n",
       "      <td>2185451.0</td>\n",
       "      <td>rev</td>\n",
       "      <td>TCTGGATGTCGTTCTGAAGGTGCTGGATTCATATATCAAATAATTT...</td>\n",
       "      <td>0.0</td>\n",
       "      <td>0.0</td>\n",
       "    </tr>\n",
       "    <tr>\n",
       "      <th>7</th>\n",
       "      <td>yedJ</td>\n",
       "      <td>2033449.0</td>\n",
       "      <td>rev</td>\n",
       "      <td>TTTTTCCTGTATTCACTGCCGTTGCGCAAAATTTATCTATTTGTTC...</td>\n",
       "      <td>0.0</td>\n",
       "      <td>0.0</td>\n",
       "    </tr>\n",
       "    <tr>\n",
       "      <th>9</th>\n",
       "      <td>ykgE</td>\n",
       "      <td>321511.0</td>\n",
       "      <td>fwd</td>\n",
       "      <td>TCGATTTCCCCATAAAATGTGAGCGATGCCGAAAGAAATAAAATTA...</td>\n",
       "      <td>0.0</td>\n",
       "      <td>0.0</td>\n",
       "    </tr>\n",
       "    <tr>\n",
       "      <th>...</th>\n",
       "      <td>...</td>\n",
       "      <td>...</td>\n",
       "      <td>...</td>\n",
       "      <td>...</td>\n",
       "      <td>...</td>\n",
       "      <td>...</td>\n",
       "    </tr>\n",
       "    <tr>\n",
       "      <th>27</th>\n",
       "      <td>znuA</td>\n",
       "      <td>1942661.0</td>\n",
       "      <td>rev</td>\n",
       "      <td>TTGGCCCAAGTAAAGTCAAAATTTTTCCAGGTTTAAGTTCCAGCGA...</td>\n",
       "      <td>0.0</td>\n",
       "      <td>0.0</td>\n",
       "    </tr>\n",
       "    <tr>\n",
       "      <th>28</th>\n",
       "      <td>zupT</td>\n",
       "      <td>3182433.0</td>\n",
       "      <td>fwd</td>\n",
       "      <td>TGCCAGCTGCGGGTATACAAATTATCTTCCAGCACGTTCATCGGAC...</td>\n",
       "      <td>0.0</td>\n",
       "      <td>0.0</td>\n",
       "    </tr>\n",
       "    <tr>\n",
       "      <th>29</th>\n",
       "      <td>pitA</td>\n",
       "      <td>3637612.0</td>\n",
       "      <td>fwd</td>\n",
       "      <td>TGCCTGAATTATATAAGATAATTATTTTTTGAGTGAAATCCATACA...</td>\n",
       "      <td>0.0</td>\n",
       "      <td>0.0</td>\n",
       "    </tr>\n",
       "    <tr>\n",
       "      <th>30</th>\n",
       "      <td>ecnB</td>\n",
       "      <td>4376509.0</td>\n",
       "      <td>fwd</td>\n",
       "      <td>GAAGACATCAAACATCTCGGCAACTCCATCTCTCGCGCTGCCAGCT...</td>\n",
       "      <td>0.0</td>\n",
       "      <td>0.0</td>\n",
       "    </tr>\n",
       "    <tr>\n",
       "      <th>31</th>\n",
       "      <td>leuABCD</td>\n",
       "      <td>83735.0</td>\n",
       "      <td>rev</td>\n",
       "      <td>ACTTTAACCACCGCAGCACAATTAGCTAATTTTACGGATGCAGAAC...</td>\n",
       "      <td>0.0</td>\n",
       "      <td>0.0</td>\n",
       "    </tr>\n",
       "  </tbody>\n",
       "</table>\n",
       "<p>103 rows × 6 columns</p>\n",
       "</div>"
      ],
      "text/plain": [
       "       name  start_site  rev  \\\n",
       "0      fdoH   4085867.0  rev   \n",
       "3      sdaB   2928035.0  fwd   \n",
       "6      thiM   2185451.0  rev   \n",
       "7      yedJ   2033449.0  rev   \n",
       "9      ykgE    321511.0  fwd   \n",
       "..      ...         ...  ...   \n",
       "27     znuA   1942661.0  rev   \n",
       "28     zupT   3182433.0  fwd   \n",
       "29     pitA   3637612.0  fwd   \n",
       "30     ecnB   4376509.0  fwd   \n",
       "31  leuABCD     83735.0  rev   \n",
       "\n",
       "                                              geneseq  ssdiff  offset  \n",
       "0   CATTATGGTATTCTGTTACAAACCCTTCCTGGATGGAGGGAAATTG...     0.0     0.0  \n",
       "3   TACATATATTGCGCGCCCCGGAAGAAGTCAGATGTCGTTTAATGGG...     0.0     0.0  \n",
       "6   TCTGGATGTCGTTCTGAAGGTGCTGGATTCATATATCAAATAATTT...     0.0     0.0  \n",
       "7   TTTTTCCTGTATTCACTGCCGTTGCGCAAAATTTATCTATTTGTTC...     0.0     0.0  \n",
       "9   TCGATTTCCCCATAAAATGTGAGCGATGCCGAAAGAAATAAAATTA...     0.0     0.0  \n",
       "..                                                ...     ...     ...  \n",
       "27  TTGGCCCAAGTAAAGTCAAAATTTTTCCAGGTTTAAGTTCCAGCGA...     0.0     0.0  \n",
       "28  TGCCAGCTGCGGGTATACAAATTATCTTCCAGCACGTTCATCGGAC...     0.0     0.0  \n",
       "29  TGCCTGAATTATATAAGATAATTATTTTTTGAGTGAAATCCATACA...     0.0     0.0  \n",
       "30  GAAGACATCAAACATCTCGGCAACTCCATCTCTCGCGCTGCCAGCT...     0.0     0.0  \n",
       "31  ACTTTAACCACCGCAGCACAATTAGCTAATTTTACGGATGCAGAAC...     0.0     0.0  \n",
       "\n",
       "[103 rows x 6 columns]"
      ]
     },
     "execution_count": 2,
     "metadata": {},
     "output_type": "execute_result"
    }
   ],
   "source": [
    "df = pd.read_csv('../data/test_data/wtsequences.csv', index_col=0)\n",
    "df = df.dropna()\n",
    "df"
   ]
  },
  {
   "cell_type": "markdown",
   "metadata": {},
   "source": [
    "Load in primers provided to us by the Kosuri group."
   ]
  },
  {
   "cell_type": "code",
   "execution_count": 3,
   "metadata": {},
   "outputs": [],
   "source": [
    "kosprimefwd = Bio.SeqIO.parse('../data/primers/forward_finalprimers.fasta','fasta')\n",
    "kosprimerev = Bio.SeqIO.parse('../data/primers/reverse_finalprimers.fasta','fasta')"
   ]
  },
  {
   "cell_type": "markdown",
   "metadata": {},
   "source": [
    "Extract the 19 primers from the list."
   ]
  },
  {
   "cell_type": "code",
   "execution_count": 4,
   "metadata": {},
   "outputs": [],
   "source": [
    "fwdprimes, revprimes = RegSeq.utils.get_primers(kosprimefwd, kosprimerev, 100, 118)"
   ]
  },
  {
   "cell_type": "markdown",
   "metadata": {},
   "source": [
    "Determine total number of genes we are ordering."
   ]
  },
  {
   "cell_type": "code",
   "execution_count": 5,
   "metadata": {},
   "outputs": [
    {
     "data": {
      "text/plain": [
       "103"
      ]
     },
     "execution_count": 5,
     "metadata": {},
     "output_type": "execute_result"
    }
   ],
   "source": [
    "ngenes = len(df.index)\n",
    "ngenes"
   ]
  },
  {
   "cell_type": "markdown",
   "metadata": {},
   "source": [
    "Determine number of sequences to order"
   ]
  },
  {
   "cell_type": "code",
   "execution_count": 6,
   "metadata": {},
   "outputs": [
    {
     "data": {
      "text/plain": [
       "1455"
      ]
     },
     "execution_count": 6,
     "metadata": {},
     "output_type": "execute_result"
    }
   ],
   "source": [
    "norder = 150000\n",
    "nseqs = int(np.floor(norder/ngenes)) - 1\n",
    "nseqs"
   ]
  },
  {
   "cell_type": "markdown",
   "metadata": {},
   "source": [
    "Now we generate mutated sequences and create an output data frame with each mutant sequence and associated gene."
   ]
  },
  {
   "cell_type": "code",
   "execution_count": 7,
   "metadata": {},
   "outputs": [],
   "source": [
    "allseqs = RegSeq.utils.mutation_sequences(df, fwdprimes, revprimes, nseqs)"
   ]
  },
  {
   "cell_type": "markdown",
   "metadata": {},
   "source": [
    "Let's store the result in a csv file."
   ]
  },
  {
   "cell_type": "code",
   "execution_count": 8,
   "metadata": {},
   "outputs": [],
   "source": [
    "pd.set_option('max_colwidth',int(1e8))\n",
    "allseqs.to_string(\n",
    "        open('mutatedseqs_test','w'), index=False,col_space=10,float_format=utils.format_string)"
   ]
  },
  {
   "cell_type": "markdown",
   "metadata": {},
   "source": [
    "Now we can evaluate the resulting sequences to check for a good mutation rates. If the reader is interested in details of this function, we recommend the docstring, `?RegSeq.utils.check_mutation_rate`. The full code can be found either in the file `../RegSeq/utils.py`, or by running the last cell in this notebook, and removing the `#`."
   ]
  },
  {
   "cell_type": "code",
   "execution_count": null,
   "metadata": {},
   "outputs": [
    {
     "name": "stdout",
     "output_type": "stream",
     "text": [
      "Base with low mutation rate for gene fdoH \n",
      "Base with low mutation rate for gene yqhC \n",
      "Base with low mutation rate for gene yicI \n",
      "Base with low mutation rate for gene ybjT \n",
      "Base with low mutation rate for gene yncD \n",
      "Base with low mutation rate for gene eco \n",
      "Base with low mutation rate for gene iap \n",
      "Base with low mutation rate for gene ygjP \n",
      "Base with low mutation rate for gene rapA \n",
      "Base with low mutation rate for gene ycgB \n",
      "Base with low mutation rate for gene yehS \n",
      "Base with low mutation rate for gene ydhO \n",
      "Base with low mutation rate for gene modE \n",
      "Base with low mutation rate for gene rcsF \n",
      "Base with low mutation rate for gene ygeR \n",
      "Bad mutation rate for gene mscK.\n",
      "Base with low mutation rate for gene mscK \n",
      "Base with low mutation rate for gene ybdG \n",
      "Base with low mutation rate for gene ydjA \n",
      "Base with low mutation rate for gene yggW \n",
      "Base with low mutation rate for gene ybiO \n",
      "Base with low mutation rate for gene mscL \n",
      "Base with low mutation rate for gene zapB \n",
      "Base with low mutation rate for gene groSL \n",
      "Base with low mutation rate for gene rplKAJL-rpoBC \n",
      "Base with low mutation rate for gene msyB \n",
      "Base with low mutation rate for gene thrLABC \n",
      "Base with low mutation rate for gene arcA \n",
      "Base with low mutation rate for gene xylA \n",
      "Base with low mutation rate for gene dicC \n"
     ]
    }
   ],
   "source": [
    "allseqs = pd.io.parsers.read_csv('mutatedseqs_test',delim_whitespace=True)\n",
    "RegSeq.utils.check_mutation_rate(df, allseqs, buffer=10)"
   ]
  },
  {
   "cell_type": "code",
   "execution_count": null,
   "metadata": {},
   "outputs": [],
   "source": [
    "#import inspect\n",
    "#print(inspect.getsource(RegSeq.utils.check_mutation_rate))"
   ]
  },
  {
   "cell_type": "code",
   "execution_count": null,
   "metadata": {},
   "outputs": [],
   "source": []
  }
 ],
 "metadata": {
  "kernelspec": {
   "display_name": "Python (myenv)",
   "language": "python",
   "name": "myenv"
  },
  "language_info": {
   "codemirror_mode": {
    "name": "ipython",
    "version": 3
   },
   "file_extension": ".py",
   "mimetype": "text/x-python",
   "name": "python",
   "nbconvert_exporter": "python",
   "pygments_lexer": "ipython3",
   "version": "3.6.9"
  }
 },
 "nbformat": 4,
 "nbformat_minor": 4
}
