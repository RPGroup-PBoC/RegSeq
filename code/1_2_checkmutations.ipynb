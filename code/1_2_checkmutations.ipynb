{
 "cells": [
  {
   "cell_type": "markdown",
   "metadata": {},
   "source": [
    "# Generate sequences with mutations"
   ]
  },
  {
   "cell_type": "markdown",
   "metadata": {},
   "source": [
    "The code in this tutorial is released under the [MIT License](https://opensource.org/licenses/MIT). All the content in this notebook is under a [CC-by 4.0 License](https://creativecommons.org/licenses/by/4.0/). "
   ]
  },
  {
   "cell_type": "code",
   "execution_count": 1,
   "metadata": {},
   "outputs": [],
   "source": [
    "import numpy as np\n",
    "import pandas as pd\n",
    "\n",
    "import Bio.SeqIO\n",
    "import regseq\n",
    "\n",
    "# import sortseq.utils as utils\n",
    "import mpathic.utils\n",
    "seq_dict,inv_dict = mpathic.utils.choose_dict('dna')\n"
   ]
  },
  {
   "cell_type": "markdown",
   "metadata": {},
   "source": [
    "For a more detailed explanation of the purpose of this notebook, refer to the [documentation of the regseq experiment](https://github.com/RPGroup-PBoC/regseq/wiki/1.-Sequence-Design)."
   ]
  },
  {
   "cell_type": "markdown",
   "metadata": {},
   "source": [
    "In this notebook, we are generating a collection of mutated sequences based on  sequences obtained from wild type. For a demonstration of how to obtain the necessary wild type sequences, refer to the chapter *Obtaining Wildtype Sequences of Regulatory Binding Sites* in the [documentation of the regseq experiment](https://github.com/RPGroup-PBoC/regseq/wiki/1.-Sequence-Design), as well as the `1_1_create_gene_seqs.ipynb` notebook in this repository."
   ]
  },
  {
   "cell_type": "markdown",
   "metadata": {},
   "source": [
    "First, we are importing the file containing the genes of interest, their transciptional start site, the orientation of the gene, and the genetic sequence. Below is an example file."
   ]
  },
  {
   "cell_type": "code",
   "execution_count": 2,
   "metadata": {},
   "outputs": [
    {
     "data": {
      "text/html": [
       "<div>\n",
       "<style scoped>\n",
       "    .dataframe tbody tr th:only-of-type {\n",
       "        vertical-align: middle;\n",
       "    }\n",
       "\n",
       "    .dataframe tbody tr th {\n",
       "        vertical-align: top;\n",
       "    }\n",
       "\n",
       "    .dataframe thead th {\n",
       "        text-align: right;\n",
       "    }\n",
       "</style>\n",
       "<table border=\"1\" class=\"dataframe\">\n",
       "  <thead>\n",
       "    <tr style=\"text-align: right;\">\n",
       "      <th></th>\n",
       "      <th>name</th>\n",
       "      <th>start_site</th>\n",
       "      <th>rev</th>\n",
       "      <th>geneseq</th>\n",
       "      <th>ssdiff</th>\n",
       "      <th>offset</th>\n",
       "    </tr>\n",
       "  </thead>\n",
       "  <tbody>\n",
       "    <tr>\n",
       "      <th>0</th>\n",
       "      <td>fdoH</td>\n",
       "      <td>4085867.0</td>\n",
       "      <td>rev</td>\n",
       "      <td>CATTATGGTATTCTGTTACAAACCCTTCCTGGATGGAGGGAAATTG...</td>\n",
       "      <td>0.0</td>\n",
       "      <td>0.0</td>\n",
       "    </tr>\n",
       "    <tr>\n",
       "      <th>3</th>\n",
       "      <td>sdaB</td>\n",
       "      <td>2928035.0</td>\n",
       "      <td>fwd</td>\n",
       "      <td>TACATATATTGCGCGCCCCGGAAGAAGTCAGATGTCGTTTAATGGG...</td>\n",
       "      <td>0.0</td>\n",
       "      <td>0.0</td>\n",
       "    </tr>\n",
       "    <tr>\n",
       "      <th>6</th>\n",
       "      <td>thiM</td>\n",
       "      <td>2185451.0</td>\n",
       "      <td>rev</td>\n",
       "      <td>TCTGGATGTCGTTCTGAAGGTGCTGGATTCATATATCAAATAATTT...</td>\n",
       "      <td>0.0</td>\n",
       "      <td>0.0</td>\n",
       "    </tr>\n",
       "    <tr>\n",
       "      <th>7</th>\n",
       "      <td>yedJ</td>\n",
       "      <td>2033449.0</td>\n",
       "      <td>rev</td>\n",
       "      <td>TTTTTCCTGTATTCACTGCCGTTGCGCAAAATTTATCTATTTGTTC...</td>\n",
       "      <td>0.0</td>\n",
       "      <td>0.0</td>\n",
       "    </tr>\n",
       "    <tr>\n",
       "      <th>9</th>\n",
       "      <td>ykgE</td>\n",
       "      <td>321511.0</td>\n",
       "      <td>fwd</td>\n",
       "      <td>TCGATTTCCCCATAAAATGTGAGCGATGCCGAAAGAAATAAAATTA...</td>\n",
       "      <td>0.0</td>\n",
       "      <td>0.0</td>\n",
       "    </tr>\n",
       "  </tbody>\n",
       "</table>\n",
       "</div>"
      ],
      "text/plain": [
       "   name  start_site  rev                                            geneseq  \\\n",
       "0  fdoH   4085867.0  rev  CATTATGGTATTCTGTTACAAACCCTTCCTGGATGGAGGGAAATTG...   \n",
       "3  sdaB   2928035.0  fwd  TACATATATTGCGCGCCCCGGAAGAAGTCAGATGTCGTTTAATGGG...   \n",
       "6  thiM   2185451.0  rev  TCTGGATGTCGTTCTGAAGGTGCTGGATTCATATATCAAATAATTT...   \n",
       "7  yedJ   2033449.0  rev  TTTTTCCTGTATTCACTGCCGTTGCGCAAAATTTATCTATTTGTTC...   \n",
       "9  ykgE    321511.0  fwd  TCGATTTCCCCATAAAATGTGAGCGATGCCGAAAGAAATAAAATTA...   \n",
       "\n",
       "   ssdiff  offset  \n",
       "0     0.0     0.0  \n",
       "3     0.0     0.0  \n",
       "6     0.0     0.0  \n",
       "7     0.0     0.0  \n",
       "9     0.0     0.0  "
      ]
     },
     "execution_count": 2,
     "metadata": {},
     "output_type": "execute_result"
    }
   ],
   "source": [
    "df = pd.read_csv('../data/test_data/wtsequences.csv', index_col=0)\n",
    "df = df.dropna()\n",
    "df.head()"
   ]
  },
  {
   "cell_type": "markdown",
   "metadata": {},
   "source": [
    "There are many orthogonal primer pairs (3,000, to be exact) that can be appended to groups of sequences for selective amplification. We use orthogonal primer pairs that were developed by the Kosuri lab at UCLA, a full list of which can be found in the the data/primers folder of this GitHub repository."
   ]
  },
  {
   "cell_type": "code",
   "execution_count": 3,
   "metadata": {},
   "outputs": [],
   "source": [
    "kosprimefwd = Bio.SeqIO.parse('../data/primers/forward_finalprimers.fasta','fasta')\n",
    "kosprimerev = Bio.SeqIO.parse('../data/primers/reverse_finalprimers.fasta','fasta')"
   ]
  },
  {
   "cell_type": "markdown",
   "metadata": {},
   "source": [
    "There is no reason that we use these specific primer pairs (pairs 101, 111, 112, 113, and 114); there is no logic to the choice whatsoever. We randomly selected these primer pairs in the past, and found that they worked reliably. Thus, we continued to use these pairs. In the primer sequences above, the last 20 nucleotides are the actual, orthogonal primer pairs. These 20-mers are where the amplification primers bind and amplify, and each pair is orthogonal from the others (e.g. they will not cross-amplify).\n",
    "<br><br>\n",
    "We append these primer sequences to the 5' and 3' ends (fwd and rev sequences, respectively) for each mutated promoter sequence that is ordered. The mutated sequences for each promoter are designed computationally such that each base in the 160 bp promoter region has a 10% probability of being mutated. For each given promoter’s library, ensure that the mutation rate as averaged across all sequences is kept between 9.5% and 10.5%, otherwise regenerate the library."
   ]
  },
  {
   "cell_type": "markdown",
   "metadata": {},
   "source": [
    "Genes are being lumped into groups of 5 per primer pair. For details, refer to  the chapter on *Generating Mutated Sequences of Regulatory Binding Sites and Appending Primer Binding Sites* in the [documentation of the regseq experiment](https://github.com/RPGroup-PBoC/regseq/wiki/1.-Sequence-Design)."
   ]
  },
  {
   "cell_type": "code",
   "execution_count": 4,
   "metadata": {},
   "outputs": [
    {
     "name": "stdout",
     "output_type": "stream",
     "text": [
      "Number of genes: 103\n",
      "Number of primer pairs: 21\n"
     ]
    }
   ],
   "source": [
    "ngenes = len(df.index)\n",
    "print(\"Number of genes: {}\".format(ngenes))\n",
    "num_groups = int(np.ceil(ngenes/5))\n",
    "print(\"Number of primer pairs: {}\".format(num_groups))"
   ]
  },
  {
   "cell_type": "markdown",
   "metadata": {},
   "source": [
    "Using this information, we can extract the right number of primer pairs from the list. "
   ]
  },
  {
   "cell_type": "code",
   "execution_count": 5,
   "metadata": {},
   "outputs": [],
   "source": [
    "fwdprimes, revprimes = regseq.utils.get_primers(kosprimefwd, kosprimerev, 100, 100+num_groups-1)"
   ]
  },
  {
   "cell_type": "markdown",
   "metadata": {},
   "source": [
    "In total, we ordered 150000 sequences. This number can be adjusted, but usually there should be at least 1200-1500 sequences for each TSS."
   ]
  },
  {
   "cell_type": "code",
   "execution_count": 6,
   "metadata": {},
   "outputs": [
    {
     "data": {
      "text/plain": [
       "1455"
      ]
     },
     "execution_count": 6,
     "metadata": {},
     "output_type": "execute_result"
    }
   ],
   "source": [
    "norder = 150000\n",
    "nseqs = int(np.floor(norder/ngenes))-1\n",
    "nseqs"
   ]
  },
  {
   "cell_type": "markdown",
   "metadata": {},
   "source": [
    "Now we generate mutated sequences and create an output data frame with each mutant sequence and associated gene. For information on this function, either type `?regseq.utils.mutation_sequences`, or find the function in the `../regseq/utils.py` file. In short, we are generating sequences from the wild type sequence, with a mutation rate of .1/bp. This this process is completely random, is possible that some sequences end up with a higher or lower rate than this, or that some nucleotides are underrepresented. We tackle that issue later in this notebook."
   ]
  },
  {
   "cell_type": "code",
   "execution_count": 7,
   "metadata": {},
   "outputs": [],
   "source": [
    "allseqs, primer_df = regseq.utils.mutation_sequences(df, fwdprimes, revprimes, nseqs)"
   ]
  },
  {
   "cell_type": "markdown",
   "metadata": {},
   "source": [
    "Now we can evaluate the resulting sequences to check for a good mutation rates. If the reader is interested in details of this function, we recommend the docstring, `?regseq.utils.check_mutation_rate`. The full code can be found in the file `../regseq/utils.py`. The function checks the generated sequences for repeated sequences, either very high or very total mutation rates computed from all generated sequences, and exceptionally rare nucleotides. The user can decide if a just a warning should be returned if a criteria is not met, or if new sequences should be generated to fulfill the criteria.\n",
    "<br>\n",
    "For example, in the cell below we want to generate new sequences in case that a nucleotide is underrepresented, since this issue is occuring quite frequently. "
   ]
  },
  {
   "cell_type": "code",
   "execution_count": 8,
   "metadata": {},
   "outputs": [
    {
     "name": "stdout",
     "output_type": "stream",
     "text": [
      "Gene fdoH done.\n",
      "Gene sdaB done.\n",
      "Gene thiM done.\n",
      "Gene yedJ done.\n",
      "Gene ykgE done.\n",
      "Gene sdiA done.\n",
      "Gene yqhC done.\n",
      "Gene yicI done.\n",
      "Gene ybjT done.\n",
      "Gene mtgA done.\n",
      "Gene aphA done.\n",
      "Gene bdcR done.\n",
      "Gene yncD done.\n",
      "Gene rumB done.\n",
      "Gene yagH done.\n",
      "Gene eco done.\n",
      "Gene yfhG done.\n",
      "Gene htrB done.\n",
      "Gene iap done.\n",
      "Gene ygjP done.\n",
      "Gene yedK done.\n",
      "Gene holC done.\n",
      "Gene rapA done.\n",
      "Gene dusC done.\n",
      "Gene fdhE done.\n",
      "Gene ycgB done.\n",
      "Gene yehS done.\n",
      "Gene yeiQ done.\n",
      "Gene ydhO done.\n",
      "Gene hslU done.\n",
      "Gene ymgG done.\n",
      "Gene rlmA done.\n",
      "Gene modE done.\n",
      "Gene yajL done.\n",
      "Gene yecE done.\n",
      "Gene ybiP done.\n",
      "Gene ybjL done.\n",
      "Gene ygdH done.\n",
      "Gene pcm done.\n",
      "Gene rcsF done.\n",
      "Gene sbcB done.\n",
      "Gene ygeR done.\n",
      "Gene mscK done.\n",
      "Gene mscS done.\n",
      "Gene ynaI done.\n",
      "Gene ybdG done.\n",
      "Gene hicB done.\n",
      "Gene arcB done.\n",
      "Gene minC done.\n",
      "Gene ybeZ done.\n",
      "Gene ydjA done.\n",
      "Gene yggW done.\n",
      "Gene acuI done.\n",
      "Gene yehU done.\n",
      "Gene yehT done.\n",
      "Gene ybiO done.\n",
      "Gene mscL done.\n",
      "Gene zapB done.\n",
      "Gene WaaA-coaD done.\n",
      "Gene coaA done.\n",
      "Gene yjjJ done.\n",
      "Gene groSL done.\n",
      "Gene pyrLBI done.\n",
      "Gene rplKAJL-rpoBC done.\n",
      "Gene yodB done.\n",
      "Gene atpIBEFHAGDC done.\n",
      "Gene msyB done.\n",
      "Gene ndk done.\n",
      "Gene thrLABC done.\n",
      "Gene tig done.\n",
      "Gene tff-rpsB-tsf done.\n",
      "Gene maoP done.\n",
      "Gene poxB done.\n",
      "Gene rspA done.\n",
      "Gene mscM done.\n",
      "Gene arcA done.\n",
      "Gene tar done.\n",
      "Gene dpiBA done.\n",
      "Gene araAB done.\n",
      "Gene araC done.\n",
      "Gene xylF done.\n",
      "Gene xylA done.\n",
      "Gene dicA done.\n",
      "Gene dicC done.\n",
      "Gene dicB done.\n",
      "Gene ompR done.\n",
      "Gene xapAB done.\n",
      "Gene ilvC done.\n",
      "Gene asnA done.\n",
      "Gene idnK done.\n",
      "Gene dinJ done.\n",
      "Gene yjiY done.\n",
      "Gene motAB-cheAW done.\n",
      "Gene ftsK done.\n",
      "Gene cra done.\n",
      "Gene uvrD done.\n",
      "Gene adiY done.\n",
      "Gene znuCB done.\n",
      "Gene znuA done.\n",
      "Gene zupT done.\n",
      "Gene pitA done.\n",
      "Gene ecnB done.\n",
      "Gene leuABCD done.\n"
     ]
    }
   ],
   "source": [
    "allseqs = regseq.utils.check_mutation_rate(df, allseqs, buffer=10, fix_low_base=True, primer_df=primer_df)"
   ]
  },
  {
   "cell_type": "markdown",
   "metadata": {},
   "source": [
    "Let's store the result in a csv file."
   ]
  },
  {
   "cell_type": "code",
   "execution_count": 10,
   "metadata": {},
   "outputs": [],
   "source": [
    "pd.set_option('max_colwidth',int(1e8))\n",
    "allseqs.to_string(\n",
    "        open('mutatedseqs_test','w'), index=False,col_space=10,float_format=regseq.seq_utils.format_string)"
   ]
  },
  {
   "cell_type": "markdown",
   "metadata": {},
   "source": [
    "Finally, here are the versions of packages used in this notebook. To display the versions, we are using the Jupyter Lab extension `watermark`, which can be found [here](https://github.com/rasbt/watermark). (This will already be installed if you use the environment we prepared.)"
   ]
  },
  {
   "cell_type": "markdown",
   "metadata": {},
   "source": [
    "## Computing environment"
   ]
  },
  {
   "cell_type": "code",
   "execution_count": 11,
   "metadata": {},
   "outputs": [
    {
     "name": "stdout",
     "output_type": "stream",
     "text": [
      "CPython 3.6.9\n",
      "IPython 7.13.0\n",
      "\n",
      "jupyterlab not installed\n",
      "numpy 1.18.1\n",
      "pandas 1.0.3\n",
      "Bio 1.76\n",
      "mpathic 0.1.20\n",
      "regseq 0.0.2\n"
     ]
    }
   ],
   "source": [
    "%load_ext watermark\n",
    "%watermark -v -p jupyterlab,numpy,pandas,Bio,mpathic,regseq"
   ]
  }
 ],
 "metadata": {
  "kernelspec": {
   "display_name": "Python (mpathic)",
   "language": "python",
   "name": "mpathic_env"
  },
  "language_info": {
   "codemirror_mode": {
    "name": "ipython",
    "version": 3
   },
   "file_extension": ".py",
   "mimetype": "text/x-python",
   "name": "python",
   "nbconvert_exporter": "python",
   "pygments_lexer": "ipython3",
   "version": "3.6.9"
  }
 },
 "nbformat": 4,
 "nbformat_minor": 4
}
