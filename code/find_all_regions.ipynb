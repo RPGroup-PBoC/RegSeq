{
 "cells": [
  {
   "cell_type": "code",
   "execution_count": 1,
   "metadata": {},
   "outputs": [],
   "source": [
    "#import basic modules\n",
    "import glob\n",
    "import numpy as np\n",
    "import matplotlib.pyplot as plt\n",
    "import pandas as pd"
   ]
  },
  {
   "cell_type": "code",
   "execution_count": 6,
   "metadata": {},
   "outputs": [],
   "source": [
    "#designate location of data files and growth condition. We will assume that the files are stored in this folder.\n",
    "folder = '../MCMC/'\n",
    "growth = 'metal'\n",
    "#find names of all the files where we labeled each significant base pair.\n",
    "allnames = glob.glob(folder + '*' +  growth + '*195*auto_p1percentv2_15.txt')"
   ]
  },
  {
   "cell_type": "code",
   "execution_count": 7,
   "metadata": {},
   "outputs": [
    {
     "data": {
      "text/plain": [
       "['../MCMC/iapmetaldataset_alldone_with_largeMCMC195_0_0_mut_window_auto_p1percentv2_15.txt',\n",
       " '../MCMC/aphAmetaldataset_alldone_with_largeMCMC195_0_0_mut_window_auto_p1percentv2_15.txt',\n",
       " '../MCMC/rspAmetaldataset_alldone_with_largeMCMC195_0_0_mut_window_auto_p1percentv2_15.txt',\n",
       " '../MCMC/bdcRmetaldataset_alldone_with_largeMCMC195_0_0_mut_window_auto_p1percentv2_15.txt']"
      ]
     },
     "execution_count": 7,
     "metadata": {},
     "output_type": "execute_result"
    }
   ],
   "source": [
    "allnames"
   ]
  },
  {
   "cell_type": "code",
   "execution_count": 8,
   "metadata": {},
   "outputs": [],
   "source": [
    "#initialize output df with columns for the gene name, number of features for the gene,start location of\n",
    "#feature, end location of feature (this will be 15 base pairs short of the true end of the region due to the\n",
    "#fact that the analysis averages over 15 base pairs to find these regions), and whether the region is an \n",
    "#activator or repressor (which we determine based on if expression shift is positive or negative.)\n",
    "outdf = pd.DataFrame(columns=['gene','feat_num','start','end','type'])\n",
    "counter = 0\n",
    "for z,name in enumerate(allnames):\n",
    "    \n",
    "    #load in file that says where signficant bases are.\n",
    "    temp_significant = np.loadtxt(name)\n",
    "    #need to automatically determine gene name. to do this we will remove any leading directory information\n",
    "    #then pull the gene from the start of the file name\n",
    "    noleader = name.split('/')[-1]\n",
    "    gene = noleader.split(growth)[0]\n",
    "    #initialize the variable 'ongoing'. this shows whether or not the current base is part of a binding site\n",
    "    #or if its starting a new one.\n",
    "    ongoing = 0\n",
    "    TF_type = 'None'\n",
    "    num_feat = 0\n",
    "    #loop through only 145 base pairs (we don't go to 160 becuase the regions are 15 base pairs long.)\n",
    "    for i in range(0,145):\n",
    "        \n",
    "        #if we are not currently part of a binding site then we do this...\n",
    "        if not ongoing:\n",
    "            #if we have a new significant base pair we will start to log a new binding site.\n",
    "            if (temp_significant[i-1] == 0 or i == 0) and temp_significant[i] == 1:\n",
    "                start = i\n",
    "                ongoing = 1\n",
    "                #we checked whether temp_signficant was '1' which means the effect of mutation on expression\n",
    "                #is positive. This would indicate that the transcription factor type is 'repressor' \n",
    "                TF_type = 'rep'\n",
    "            elif (temp_significant[i-1] == 0 or i == 0) and temp_significant[i] == -1:\n",
    "                start = i\n",
    "                ongoing = 1\n",
    "                #we checked whether temp_signficant was '-1' which means the effect of mutation on expression\n",
    "                #is negative. This would indicate that the transcription factor type is 'activator' \n",
    "                TF_type = 'act'\n",
    "        elif ongoing:\n",
    "            #if we are currently within an ongoing binding site we need to see whether or not the binding site\n",
    "            #has ended at the current base. To do that we first check if the new base is not significant.\n",
    "            if temp_significant[i] == 0:\n",
    "                #next, if there is only a 1-4 base pair break in which bases are significant, the whole\n",
    "                #thing is probably still part of one binding site. So we check whether or not the next 4\n",
    "                #base pairs are not significant, if they are not we declare the binding site ended.\n",
    "                future_sum = temp_significant[i:i+4].sum()\n",
    "                #if the binding site is an activator, and none of the next four bases are also activator like\n",
    "                #we end the binding site (if instead they are repressor like, in other words if\n",
    "                #significant is > 0, then we can still assume the binding site has ended)\n",
    "                if future_sum > -.5 and (TF_type == 'act'):\n",
    "                    end = i\n",
    "                    ongoing = 0\n",
    "                    \n",
    "                    #now that the current binding site has ended we will update the list of binding sites.\n",
    "                    outdf.loc[counter,['gene','feat_num','start','end','type']] = [gene,num_feat,start,end,TF_type]\n",
    "                    num_feat = num_feat + 1\n",
    "                    TF_type = 'None'\n",
    "                    counter = counter + 1\n",
    "                #now do the same in the case that the current binding site is a repressor.\n",
    "                elif future_sum < .5 and (TF_type == 'rep'):\n",
    "                    end = i\n",
    "                    ongoing = 0\n",
    "                    outdf.loc[counter,['gene','feat_num','start','end','type']] = [gene,num_feat,start,end,TF_type]\n",
    "                    num_feat = num_feat + 1\n",
    "                    TF_type = 'None'\n",
    "                    counter = counter + 1\n",
    "                else:\n",
    "                    pass\n",
    "                \n",
    "                    "
   ]
  },
  {
   "cell_type": "code",
   "execution_count": 10,
   "metadata": {},
   "outputs": [],
   "source": [
    "#save list of all binding sites.\n",
    "outdf.to_csv('../MCMC/all_regions_' + growth + '_p1percent')"
   ]
  },
  {
   "cell_type": "code",
   "execution_count": null,
   "metadata": {},
   "outputs": [],
   "source": []
  }
 ],
 "metadata": {
  "kernelspec": {
   "display_name": "Python 3",
   "language": "python",
   "name": "python3"
  },
  "language_info": {
   "codemirror_mode": {
    "name": "ipython",
    "version": 3
   },
   "file_extension": ".py",
   "mimetype": "text/x-python",
   "name": "python",
   "nbconvert_exporter": "python",
   "pygments_lexer": "ipython3",
   "version": "3.6.9"
  }
 },
 "nbformat": 4,
 "nbformat_minor": 2
}
