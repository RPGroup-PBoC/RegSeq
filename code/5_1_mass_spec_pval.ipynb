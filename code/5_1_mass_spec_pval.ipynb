{
 "cells": [
  {
   "cell_type": "markdown",
   "metadata": {},
   "source": [
    "# Compute p-values from mass spectrometry data"
   ]
  },
  {
   "cell_type": "code",
   "execution_count": 1,
   "metadata": {},
   "outputs": [],
   "source": [
    "#import basic modules\n",
    "import glob\n",
    "import numpy as np\n",
    "import pandas as pd\n",
    "import os\n",
    "\n",
    "import regseq.utils"
   ]
  },
  {
   "cell_type": "markdown",
   "metadata": {},
   "source": [
    "First we load in all the file names for protein groups. The files contain the normalized heavy to light ratios for all\n",
    "#identified proteins."
   ]
  },
  {
   "cell_type": "code",
   "execution_count": 2,
   "metadata": {},
   "outputs": [],
   "source": [
    "allnames = glob.glob('../data/massspec/proteinGroups*.txt')\n",
    "# File that gives an error message\n",
    "allnames.remove(\"../data/massspec/proteinGroups_Oct5v2.txt\")"
   ]
  },
  {
   "cell_type": "markdown",
   "metadata": {},
   "source": [
    "We can also load in the protein group files for only the targets we will be summarizing."
   ]
  },
  {
   "cell_type": "code",
   "execution_count": 3,
   "metadata": {},
   "outputs": [
    {
     "data": {
      "text/plain": [
       "[]"
      ]
     },
     "execution_count": 3,
     "metadata": {},
     "output_type": "execute_result"
    }
   ],
   "source": [
    "all_filtered = glob.glob('../data/massspec/filtered/*')\n",
    "all_filtered"
   ]
  },
  {
   "cell_type": "markdown",
   "metadata": {},
   "source": [
    "We will format an output dataframe that contains a mean value and variance the most highly enriched protein and for all background proteins."
   ]
  },
  {
   "cell_type": "code",
   "execution_count": 4,
   "metadata": {},
   "outputs": [],
   "source": [
    "#create a dataframe for pvals\n",
    "out_pval = pd.DataFrame(columns=['pval'])\n",
    "\n",
    "#format the output look of each dataframe.\n",
    "pd.set_option('max_colwidth', 999)\n",
    "pd.set_option('display.float_format', '{:10,.9f}'.format)"
   ]
  },
  {
   "cell_type": "markdown",
   "metadata": {},
   "source": [
    "We will loop through all enriched proteins displayed in the figures in the Reg-Seq paper. The following function stores the resilts "
   ]
  },
  {
   "cell_type": "code",
   "execution_count": 5,
   "metadata": {},
   "outputs": [],
   "source": [
    "regseq.utils.cox_mann_p_values(allnames)"
   ]
  },
  {
   "cell_type": "code",
   "execution_count": 6,
   "metadata": {},
   "outputs": [
    {
     "name": "stdout",
     "output_type": "stream",
     "text": [
      "Gene: nan, Ratio H/L normalized: 0.04156737421458918\n",
      "Gene: Uncharacterized protein YciY, Ratio H/L normalized: 4.0905076191844943e-25\n",
      "Gene: nan, Ratio H/L normalized: 7.697686989943431e-08\n",
      "Gene: nan, Ratio H/L normalized: 0.5445888606520145\n",
      "Gene: nan, Ratio H/L normalized: 1.481930862706421\n",
      "Gene: nan, Ratio H/L normalized: 4.2487795175108825e-05\n",
      "Gene: nan, Ratio H/L normalized: 1.7054642629426723e-05\n",
      "Gene: nan, Ratio H/L normalized: 1.703257594770442e-05\n",
      "Gene: nan, Ratio H/L normalized: 0.0009230952646035802\n",
      "Gene: nan, Ratio H/L normalized: 21.581386214107415\n",
      "Gene: nan, Ratio H/L normalized: 4.669167169207635e-06\n",
      "Gene: nan, Ratio H/L normalized: 2.9399170892494926\n",
      "Gene: nan, Ratio H/L normalized: 2.2455639864951904e-65\n",
      "Gene: nan, Ratio H/L normalized: 9.88962448267779e-10\n",
      "Gene: nan, Ratio H/L normalized: 0.21097364249287381\n",
      "Gene: nan, Ratio H/L normalized: 3.6512191316700407e-06\n",
      "Gene: Putative protein YmiB, Ratio H/L normalized: 2.0915428294698634e-08\n",
      "Gene: nan, Ratio H/L normalized: 1.4091182795008732\n",
      "Gene: nan, Ratio H/L normalized: 0.7213368982105296\n",
      "Gene: nan, Ratio H/L normalized: 1.4427080714551304\n",
      "Gene: nan, Ratio H/L normalized: 0.6161881955315434\n",
      "Gene: nan, Ratio H/L normalized: 4.187937188361403e-17\n",
      "Gene: nan, Ratio H/L normalized: 0.11670684379012024\n",
      "Gene: nan, Ratio H/L normalized: 0.04156737421458918\n",
      "Gene: Uncharacterized protein YciY, Ratio H/L normalized: 4.0905076191844943e-25\n",
      "Gene: nan, Ratio H/L normalized: 7.697686989943431e-08\n",
      "Gene: nan, Ratio H/L normalized: 0.5445888606520145\n",
      "Gene: nan, Ratio H/L normalized: 1.481930862706421\n",
      "Gene: nan, Ratio H/L normalized: 4.2487795175108825e-05\n",
      "Gene: nan, Ratio H/L normalized: 1.7054642629426723e-05\n",
      "Gene: nan, Ratio H/L normalized: 1.703257594770442e-05\n",
      "Gene: nan, Ratio H/L normalized: 0.0009230952646035802\n",
      "Gene: nan, Ratio H/L normalized: 21.581386214107415\n",
      "Gene: nan, Ratio H/L normalized: 4.669167169207635e-06\n",
      "Gene: nan, Ratio H/L normalized: 2.9399170892494926\n",
      "Gene: nan, Ratio H/L normalized: 2.2455639864951904e-65\n",
      "Gene: nan, Ratio H/L normalized: 9.88962448267779e-10\n",
      "Gene: nan, Ratio H/L normalized: 0.21097364249287381\n",
      "Gene: nan, Ratio H/L normalized: 3.6512191316700407e-06\n",
      "Gene: Putative protein YmiB, Ratio H/L normalized: 2.0915428294698634e-08\n",
      "Gene: nan, Ratio H/L normalized: 1.4091182795008732\n",
      "Gene: nan, Ratio H/L normalized: 0.7213368982105296\n",
      "Gene: nan, Ratio H/L normalized: 1.4427080714551304\n",
      "Gene: nan, Ratio H/L normalized: 0.6161881955315434\n",
      "Gene: nan, Ratio H/L normalized: 4.187937188361403e-17\n",
      "Gene: nan, Ratio H/L normalized: 0.11670684379012024\n",
      "Gene: nan, Ratio H/L normalized: 0.04156737421458918\n",
      "Gene: Uncharacterized protein YciY, Ratio H/L normalized: 4.0905076191844943e-25\n",
      "Gene: nan, Ratio H/L normalized: 7.697686989943431e-08\n",
      "Gene: nan, Ratio H/L normalized: 0.5445888606520145\n",
      "Gene: nan, Ratio H/L normalized: 1.481930862706421\n",
      "Gene: nan, Ratio H/L normalized: 4.2487795175108825e-05\n",
      "Gene: nan, Ratio H/L normalized: 1.7054642629426723e-05\n",
      "Gene: nan, Ratio H/L normalized: 1.703257594770442e-05\n",
      "Gene: nan, Ratio H/L normalized: 0.0009230952646035802\n",
      "Gene: nan, Ratio H/L normalized: 21.581386214107415\n",
      "Gene: nan, Ratio H/L normalized: 4.669167169207635e-06\n",
      "Gene: nan, Ratio H/L normalized: 2.9399170892494926\n",
      "Gene: nan, Ratio H/L normalized: 2.2455639864951904e-65\n",
      "Gene: nan, Ratio H/L normalized: 9.88962448267779e-10\n",
      "Gene: nan, Ratio H/L normalized: 0.21097364249287381\n",
      "Gene: nan, Ratio H/L normalized: 3.6512191316700407e-06\n",
      "Gene: Putative protein YmiB, Ratio H/L normalized: 2.0915428294698634e-08\n",
      "Gene: nan, Ratio H/L normalized: 1.4091182795008732\n",
      "Gene: nan, Ratio H/L normalized: 0.7213368982105296\n",
      "Gene: nan, Ratio H/L normalized: 1.4427080714551304\n",
      "Gene: nan, Ratio H/L normalized: 0.6161881955315434\n",
      "Gene: nan, Ratio H/L normalized: 4.187937188361403e-17\n",
      "Gene: nan, Ratio H/L normalized: 0.11670684379012024\n",
      "Gene: nan, Ratio H/L normalized: 0.04156737421458918\n",
      "Gene: Uncharacterized protein YciY, Ratio H/L normalized: 4.0905076191844943e-25\n",
      "Gene: nan, Ratio H/L normalized: 7.697686989943431e-08\n",
      "Gene: nan, Ratio H/L normalized: 0.5445888606520145\n",
      "Gene: nan, Ratio H/L normalized: 1.481930862706421\n",
      "Gene: nan, Ratio H/L normalized: 4.2487795175108825e-05\n",
      "Gene: nan, Ratio H/L normalized: 1.7054642629426723e-05\n",
      "Gene: nan, Ratio H/L normalized: 1.703257594770442e-05\n",
      "Gene: nan, Ratio H/L normalized: 0.0009230952646035802\n",
      "Gene: nan, Ratio H/L normalized: 21.581386214107415\n",
      "Gene: nan, Ratio H/L normalized: 4.669167169207635e-06\n",
      "Gene: nan, Ratio H/L normalized: 2.9399170892494926\n",
      "Gene: nan, Ratio H/L normalized: 2.2455639864951904e-65\n",
      "Gene: nan, Ratio H/L normalized: 9.88962448267779e-10\n",
      "Gene: nan, Ratio H/L normalized: 0.21097364249287381\n",
      "Gene: nan, Ratio H/L normalized: 3.6512191316700407e-06\n",
      "Gene: Putative protein YmiB, Ratio H/L normalized: 2.0915428294698634e-08\n",
      "Gene: nan, Ratio H/L normalized: 1.4091182795008732\n",
      "Gene: nan, Ratio H/L normalized: 0.7213368982105296\n",
      "Gene: nan, Ratio H/L normalized: 1.4427080714551304\n",
      "Gene: nan, Ratio H/L normalized: 0.6161881955315434\n",
      "Gene: nan, Ratio H/L normalized: 4.187937188361403e-17\n",
      "Gene: nan, Ratio H/L normalized: 0.11670684379012024\n",
      "Gene: nan, Ratio H/L normalized: 0.04156737421458918\n",
      "Gene: Uncharacterized protein YciY, Ratio H/L normalized: 4.0905076191844943e-25\n",
      "Gene: nan, Ratio H/L normalized: 7.697686989943431e-08\n",
      "Gene: nan, Ratio H/L normalized: 0.5445888606520145\n",
      "Gene: nan, Ratio H/L normalized: 1.481930862706421\n",
      "Gene: nan, Ratio H/L normalized: 4.2487795175108825e-05\n",
      "Gene: nan, Ratio H/L normalized: 1.7054642629426723e-05\n",
      "Gene: nan, Ratio H/L normalized: 1.703257594770442e-05\n",
      "Gene: nan, Ratio H/L normalized: 0.0009230952646035802\n",
      "Gene: nan, Ratio H/L normalized: 21.581386214107415\n",
      "Gene: nan, Ratio H/L normalized: 4.669167169207635e-06\n",
      "Gene: nan, Ratio H/L normalized: 2.9399170892494926\n",
      "Gene: nan, Ratio H/L normalized: 2.2455639864951904e-65\n",
      "Gene: nan, Ratio H/L normalized: 9.88962448267779e-10\n",
      "Gene: nan, Ratio H/L normalized: 0.21097364249287381\n",
      "Gene: nan, Ratio H/L normalized: 3.6512191316700407e-06\n",
      "Gene: Putative protein YmiB, Ratio H/L normalized: 2.0915428294698634e-08\n",
      "Gene: nan, Ratio H/L normalized: 1.4091182795008732\n",
      "Gene: nan, Ratio H/L normalized: 0.7213368982105296\n",
      "Gene: nan, Ratio H/L normalized: 1.4427080714551304\n",
      "Gene: nan, Ratio H/L normalized: 0.6161881955315434\n",
      "Gene: nan, Ratio H/L normalized: 4.187937188361403e-17\n",
      "Gene: nan, Ratio H/L normalized: 0.11670684379012024\n",
      "Gene: nan, Ratio H/L normalized: 0.04156737421458918\n",
      "Gene: Uncharacterized protein YciY, Ratio H/L normalized: 4.0905076191844943e-25\n",
      "Gene: nan, Ratio H/L normalized: 7.697686989943431e-08\n",
      "Gene: nan, Ratio H/L normalized: 0.5445888606520145\n",
      "Gene: nan, Ratio H/L normalized: 1.481930862706421\n",
      "Gene: nan, Ratio H/L normalized: 4.2487795175108825e-05\n",
      "Gene: nan, Ratio H/L normalized: 1.7054642629426723e-05\n",
      "Gene: nan, Ratio H/L normalized: 1.703257594770442e-05\n",
      "Gene: nan, Ratio H/L normalized: 0.0009230952646035802\n",
      "Gene: nan, Ratio H/L normalized: 21.581386214107415\n",
      "Gene: nan, Ratio H/L normalized: 4.669167169207635e-06\n",
      "Gene: nan, Ratio H/L normalized: 2.9399170892494926\n",
      "Gene: nan, Ratio H/L normalized: 2.2455639864951904e-65\n",
      "Gene: nan, Ratio H/L normalized: 9.88962448267779e-10\n",
      "Gene: nan, Ratio H/L normalized: 0.21097364249287381\n",
      "Gene: nan, Ratio H/L normalized: 3.6512191316700407e-06\n",
      "Gene: Putative protein YmiB, Ratio H/L normalized: 2.0915428294698634e-08\n",
      "Gene: nan, Ratio H/L normalized: 1.4091182795008732\n",
      "Gene: nan, Ratio H/L normalized: 0.7213368982105296\n",
      "Gene: nan, Ratio H/L normalized: 1.4427080714551304\n",
      "Gene: nan, Ratio H/L normalized: 0.6161881955315434\n",
      "Gene: nan, Ratio H/L normalized: 4.187937188361403e-17\n",
      "Gene: nan, Ratio H/L normalized: 0.11670684379012024\n",
      "\n"
     ]
    }
   ],
   "source": [
    "with open('test_pval.txt') as f:\n",
    "    for line in f:\n",
    "        print(line.strip())"
   ]
  },
  {
   "cell_type": "markdown",
   "metadata": {},
   "source": [
    "Finally, here are the versions of packages used in this notebook. To display the versions, we are using the Jupyter Lab extension `watermark`, which can be found [here](https://github.com/rasbt/watermark)."
   ]
  },
  {
   "cell_type": "markdown",
   "metadata": {},
   "source": [
    "## Computing Environment"
   ]
  },
  {
   "cell_type": "code",
   "execution_count": 7,
   "metadata": {},
   "outputs": [
    {
     "name": "stdout",
     "output_type": "stream",
     "text": [
      "CPython 3.6.9\n",
      "IPython 7.13.0\n",
      "\n",
      "jupyterlab not installed\n",
      "pandas 1.0.3\n",
      "numpy 1.18.1\n",
      "regseq 0.0.2\n"
     ]
    }
   ],
   "source": [
    "%load_ext watermark\n",
    "%watermark -v -p jupyterlab,pandas,numpy,regseq"
   ]
  }
 ],
 "metadata": {
  "kernelspec": {
   "display_name": "Python (mpathic)",
   "language": "python",
   "name": "mpathic_env"
  },
  "language_info": {
   "codemirror_mode": {
    "name": "ipython",
    "version": 3
   },
   "file_extension": ".py",
   "mimetype": "text/x-python",
   "name": "python",
   "nbconvert_exporter": "python",
   "pygments_lexer": "ipython3",
   "version": "3.6.9"
  }
 },
 "nbformat": 4,
 "nbformat_minor": 4
}
