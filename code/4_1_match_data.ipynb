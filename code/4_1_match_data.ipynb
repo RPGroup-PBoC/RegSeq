{
 "cells": [
  {
   "cell_type": "markdown",
   "metadata": {},
   "source": [
    "# Match mRNA and DNA counts"
   ]
  },
  {
   "cell_type": "markdown",
   "metadata": {},
   "source": [
    "The code in this tutorial is released under the [MIT License](https://opensource.org/licenses/MIT). All the content in this notebook is under a [CC-by 4.0 License](https://creativecommons.org/licenses/by/4.0/). "
   ]
  },
  {
   "cell_type": "code",
   "execution_count": 2,
   "metadata": {},
   "outputs": [],
   "source": [
    "import regseq.match_data as md\n",
    "import pandas as pd"
   ]
  },
  {
   "cell_type": "markdown",
   "metadata": {},
   "source": [
    "For a detailed explanation of the steps leading to this notebook, as well as the experimental context, refer to the [RegSeq wiki](https://github.com/RPGroup-PBoC/RegSeq/wiki)."
   ]
  },
  {
   "cell_type": "markdown",
   "metadata": {},
   "source": [
    "After retrieving quality-filtered, split sequencing file with data for each biological replicate, DNA vs. RNA, and growth condition, we need to prepare the data in a format to use it for further statistical inference. Therefore, we store the data in a table that contains both RNA and DNA counts for each sequence. In the end, a table will have the following format\n",
    "\n",
    "|ct|ct_0|ct_1|seq|\n",
    "|----|----|----|----|\n",
    "|10|5|5|AAACAAAAAAAC...|\n",
    "|2|2|0|AAACAAAAAATC...|\n",
    "\n",
    "where the sequence column contains the full sequence, which is shortened here for displaying purposes. In the third step of the protocol, we generated a unique mapping of barcodes to sequences, which we need to use in this step. In the module `regseq.match_data`, you can find functions which perform the matching step, and are combined in `regseq.match_data.combine_counts`. Let's have a look at the docstring."
   ]
  },
  {
   "cell_type": "code",
   "execution_count": 3,
   "metadata": {},
   "outputs": [
    {
     "data": {
      "text/plain": [
       "\u001b[0;31mSignature:\u001b[0m \u001b[0mmd\u001b[0m\u001b[0;34m.\u001b[0m\u001b[0mcombine_counts\u001b[0m\u001b[0;34m(\u001b[0m\u001b[0mmRNA_file\u001b[0m\u001b[0;34m,\u001b[0m \u001b[0mDNA_file\u001b[0m\u001b[0;34m,\u001b[0m \u001b[0mtag_key_file\u001b[0m\u001b[0;34m,\u001b[0m \u001b[0moutput_file\u001b[0m\u001b[0;34m)\u001b[0m\u001b[0;34m\u001b[0m\u001b[0;34m\u001b[0m\u001b[0m\n",
       "\u001b[0;31mDocstring:\u001b[0m\n",
       "Compute counts for sequences from mRNA and DNA.\n",
       "\n",
       "Parameters\n",
       "----------\n",
       "mRNA_file : str\n",
       "    Path of file for mRNA sequencing\n",
       "DNA_file : str\n",
       "    Path of file for DNA sequencing\n",
       "tag_key_file : str\n",
       "    Path of file for barcode/sequence mapping\n",
       "output_file : str\n",
       "    Path of file constructed for output\n",
       "\u001b[0;31mFile:\u001b[0m      ~/git/RegSeq/regseq/match_data.py\n",
       "\u001b[0;31mType:\u001b[0m      function\n"
      ]
     },
     "metadata": {},
     "output_type": "display_data"
    }
   ],
   "source": [
    "?md.combine_counts"
   ]
  },
  {
   "cell_type": "markdown",
   "metadata": {},
   "source": [
    "For demonstration purposes, let's use the same gene we used in the previous step, `bdcR`."
   ]
  },
  {
   "cell_type": "code",
   "execution_count": 4,
   "metadata": {},
   "outputs": [],
   "source": [
    "tag_key_file = \"../data/test_data/bdcR_barcode_key.csv\"\n",
    "mRNA_file = \"../data/sequencing_data/BI94_102_mRNA\"\n",
    "DNA_file = \"../data/sequencing_data/BI95_102_DNA\"\n",
    "output_file = \"../data/sequencing_data/bdcRAnaerodataset\""
   ]
  },
  {
   "cell_type": "code",
   "execution_count": 5,
   "metadata": {},
   "outputs": [],
   "source": [
    "md.combine_counts(mRNA_file, DNA_file, tag_key_file, output_file)"
   ]
  },
  {
   "cell_type": "markdown",
   "metadata": {},
   "source": [
    "**RIGHT NOW GENE IS A COLUMN, BUT ONLY ONE GENE PER FILE, SO REDUNDANT**"
   ]
  },
  {
   "cell_type": "code",
   "execution_count": 7,
   "metadata": {},
   "outputs": [
    {
     "data": {
      "text/html": [
       "<div>\n",
       "<style scoped>\n",
       "    .dataframe tbody tr th:only-of-type {\n",
       "        vertical-align: middle;\n",
       "    }\n",
       "\n",
       "    .dataframe tbody tr th {\n",
       "        vertical-align: top;\n",
       "    }\n",
       "\n",
       "    .dataframe thead th {\n",
       "        text-align: right;\n",
       "    }\n",
       "</style>\n",
       "<table border=\"1\" class=\"dataframe\">\n",
       "  <thead>\n",
       "    <tr style=\"text-align: right;\">\n",
       "      <th></th>\n",
       "      <th>ct</th>\n",
       "      <th>ct_0</th>\n",
       "      <th>ct_1</th>\n",
       "      <th>gene</th>\n",
       "      <th>seq</th>\n",
       "    </tr>\n",
       "  </thead>\n",
       "  <tbody>\n",
       "    <tr>\n",
       "      <th>0</th>\n",
       "      <td>3.0</td>\n",
       "      <td>1.0</td>\n",
       "      <td>2.0</td>\n",
       "      <td>bdcR</td>\n",
       "      <td>AAATACGATAGCGGCATCGATTCAACGACTTGCACCGAGGATGTGAACTGTCATATCTGAAAAAGCGCCCATAAGGACTCCTTGATTTATTATGTAATATGCATTACAAAACTGTTTTAACTTTTTGCCGACAGGTTTTGCAATGGTAAATAAAACACAATTCCCGAACCTGGCTGATCC</td>\n",
       "    </tr>\n",
       "    <tr>\n",
       "      <th>1</th>\n",
       "      <td>2.0</td>\n",
       "      <td>2.0</td>\n",
       "      <td>0.0</td>\n",
       "      <td>bdcR</td>\n",
       "      <td>AACTAAGAGAGGGGCACCGATACCACGACTGACACCGAGGATGCGAACTCTCTTAGTTGTAAAAGCGCCCATAAGGAGTCCTTGATTTATTTTGTAACATGCATTACAAAACTGTTTTAACTTTCTGTCAACAGGTTTTGCAATGGGCACTGAACCGTAAAGGCTTGGGGTGTCCGGAGG</td>\n",
       "    </tr>\n",
       "    <tr>\n",
       "      <th>2</th>\n",
       "      <td>1.0</td>\n",
       "      <td>1.0</td>\n",
       "      <td>0.0</td>\n",
       "      <td>bdcR</td>\n",
       "      <td>AACTAAGAGAGGGGCACCGATACCACGACTGACACCGAGGATGCGAACTCTCTTAGTTGTAAAAGCGCCCATAAGGAGTCCTTGATTTATTTTGTAACATGCATTACAAAACTGTTTTAACTTTCTGTCAACAGGTTTTGCAATGGGCACTGAACCGTAAATGACGGCGGTATTGTCAAC</td>\n",
       "    </tr>\n",
       "    <tr>\n",
       "      <th>3</th>\n",
       "      <td>3.0</td>\n",
       "      <td>3.0</td>\n",
       "      <td>0.0</td>\n",
       "      <td>bdcR</td>\n",
       "      <td>AACTAAGAGAGGGGCACCGATACCACGACTGACACCGAGGATGCGAACTCTCTTAGTTGTAAAAGCGCCCATAAGGAGTCCTTGATTTATTTTGTAACATGCATTACAAAACTGTTTTAACTTTCTGTCAACAGGTTTTGCAATGGGCACTGAACCGTAACACCATCGCTTAAATCTTTA</td>\n",
       "    </tr>\n",
       "    <tr>\n",
       "      <th>4</th>\n",
       "      <td>4.0</td>\n",
       "      <td>4.0</td>\n",
       "      <td>0.0</td>\n",
       "      <td>bdcR</td>\n",
       "      <td>AACTAAGAGAGGGGCACCGATACCACGACTGACACCGAGGATGCGAACTCTCTTAGTTGTAAAAGCGCCCATAAGGAGTCCTTGATTTATTTTGTAACATGCATTACAAAACTGTTTTAACTTTCTGTCAACAGGTTTTGCAATGGGCACTGAACCGTAACATAGTATAGTCGATTTTAT</td>\n",
       "    </tr>\n",
       "  </tbody>\n",
       "</table>\n",
       "</div>"
      ],
      "text/plain": [
       "    ct  ct_0  ct_1  gene  \\\n",
       "0  3.0   1.0   2.0  bdcR   \n",
       "1  2.0   2.0   0.0  bdcR   \n",
       "2  1.0   1.0   0.0  bdcR   \n",
       "3  3.0   3.0   0.0  bdcR   \n",
       "4  4.0   4.0   0.0  bdcR   \n",
       "\n",
       "                                                                                                                                                                                    seq  \n",
       "0  AAATACGATAGCGGCATCGATTCAACGACTTGCACCGAGGATGTGAACTGTCATATCTGAAAAAGCGCCCATAAGGACTCCTTGATTTATTATGTAATATGCATTACAAAACTGTTTTAACTTTTTGCCGACAGGTTTTGCAATGGTAAATAAAACACAATTCCCGAACCTGGCTGATCC  \n",
       "1  AACTAAGAGAGGGGCACCGATACCACGACTGACACCGAGGATGCGAACTCTCTTAGTTGTAAAAGCGCCCATAAGGAGTCCTTGATTTATTTTGTAACATGCATTACAAAACTGTTTTAACTTTCTGTCAACAGGTTTTGCAATGGGCACTGAACCGTAAAGGCTTGGGGTGTCCGGAGG  \n",
       "2  AACTAAGAGAGGGGCACCGATACCACGACTGACACCGAGGATGCGAACTCTCTTAGTTGTAAAAGCGCCCATAAGGAGTCCTTGATTTATTTTGTAACATGCATTACAAAACTGTTTTAACTTTCTGTCAACAGGTTTTGCAATGGGCACTGAACCGTAAATGACGGCGGTATTGTCAAC  \n",
       "3  AACTAAGAGAGGGGCACCGATACCACGACTGACACCGAGGATGCGAACTCTCTTAGTTGTAAAAGCGCCCATAAGGAGTCCTTGATTTATTTTGTAACATGCATTACAAAACTGTTTTAACTTTCTGTCAACAGGTTTTGCAATGGGCACTGAACCGTAACACCATCGCTTAAATCTTTA  \n",
       "4  AACTAAGAGAGGGGCACCGATACCACGACTGACACCGAGGATGCGAACTCTCTTAGTTGTAAAAGCGCCCATAAGGAGTCCTTGATTTATTTTGTAACATGCATTACAAAACTGTTTTAACTTTCTGTCAACAGGTTTTGCAATGGGCACTGAACCGTAACATAGTATAGTCGATTTTAT  "
      ]
     },
     "execution_count": 7,
     "metadata": {},
     "output_type": "execute_result"
    }
   ],
   "source": [
    "pd.read_csv(output_file).head()"
   ]
  },
  {
   "cell_type": "markdown",
   "metadata": {},
   "source": [
    "Finally, here are the versions of packages used in this notebook. To display the versions, we are using the Jupyter Lab extension `watermark`, which can be found [here](https://github.com/rasbt/watermark). (This will already be installed if you use the environment we prepared.)"
   ]
  },
  {
   "cell_type": "markdown",
   "metadata": {},
   "source": [
    "## Computing Environment "
   ]
  },
  {
   "cell_type": "code",
   "execution_count": 5,
   "metadata": {},
   "outputs": [
    {
     "name": "stdout",
     "output_type": "stream",
     "text": [
      "CPython 3.6.9\n",
      "IPython 7.13.0\n",
      "\n",
      "regseq 0.0.2\n"
     ]
    }
   ],
   "source": [
    "%load_ext watermark\n",
    "%watermark -v -p regseq"
   ]
  }
 ],
 "metadata": {
  "kernelspec": {
   "display_name": "Python (mpathic)",
   "language": "python",
   "name": "mpathic_env"
  },
  "language_info": {
   "codemirror_mode": {
    "name": "ipython",
    "version": 3
   },
   "file_extension": ".py",
   "mimetype": "text/x-python",
   "name": "python",
   "nbconvert_exporter": "python",
   "pygments_lexer": "ipython3",
   "version": "3.6.9"
  }
 },
 "nbformat": 4,
 "nbformat_minor": 4
}
