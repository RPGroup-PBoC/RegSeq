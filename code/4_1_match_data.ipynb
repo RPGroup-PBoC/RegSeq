{
 "cells": [
  {
   "cell_type": "markdown",
   "metadata": {},
   "source": [
    "# Match mRNA and DNA counts"
   ]
  },
  {
   "cell_type": "code",
   "execution_count": 4,
   "metadata": {},
   "outputs": [],
   "source": [
    "import regseq.match_data as md"
   ]
  },
  {
   "cell_type": "code",
   "execution_count": 5,
   "metadata": {},
   "outputs": [
    {
     "data": {
      "text/plain": [
       "\u001b[0;31mSignature:\u001b[0m \u001b[0mmd\u001b[0m\u001b[0;34m.\u001b[0m\u001b[0mcombine_counts\u001b[0m\u001b[0;34m(\u001b[0m\u001b[0mmRNA_file\u001b[0m\u001b[0;34m,\u001b[0m \u001b[0mDNA_file\u001b[0m\u001b[0;34m,\u001b[0m \u001b[0mtag_key_file\u001b[0m\u001b[0;34m,\u001b[0m \u001b[0moutput_file\u001b[0m\u001b[0;34m)\u001b[0m\u001b[0;34m\u001b[0m\u001b[0;34m\u001b[0m\u001b[0m\n",
       "\u001b[0;31mDocstring:\u001b[0m\n",
       "Compute counts for sequences from mRNA and DNA.\n",
       "\n",
       "Parameters\n",
       "----------\n",
       "mRNA_file : str\n",
       "    Path of file for mRNA sequencing\n",
       "DNA_file : str\n",
       "    Path of file for DNA sequencing\n",
       "tag_key_file : str\n",
       "    Path of file for barcode/sequence mapping\n",
       "output_file : str\n",
       "    Path of file constructed for output\n",
       "\u001b[0;31mFile:\u001b[0m      ~/git/RegSeq/regseq/match_data.py\n",
       "\u001b[0;31mType:\u001b[0m      function\n"
      ]
     },
     "metadata": {},
     "output_type": "display_data"
    }
   ],
   "source": [
    "?md.combine_counts"
   ]
  },
  {
   "cell_type": "code",
   "execution_count": 6,
   "metadata": {},
   "outputs": [],
   "source": [
    "tag_key_file = \"../data/test_data/bdcR_barcode_key\"\n",
    "mRNA_file = \"../data/sequencing_data/BI94_102_mRNA\"\n",
    "DNA_file = \"../data/sequencing_data/BI95_102_DNA\"\n",
    "output_file = \"../data/sequencing_data/bdcRAnaerodataset\""
   ]
  },
  {
   "cell_type": "code",
   "execution_count": 10,
   "metadata": {},
   "outputs": [],
   "source": [
    "md.combine_counts(mRNA_file, DNA_file, tag_key_file, output_file)"
   ]
  },
  {
   "cell_type": "markdown",
   "metadata": {},
   "source": [
    "## Computing Environment "
   ]
  },
  {
   "cell_type": "code",
   "execution_count": 12,
   "metadata": {},
   "outputs": [
    {
     "name": "stdout",
     "output_type": "stream",
     "text": [
      "CPython 3.6.9\n",
      "IPython 7.13.0\n",
      "\n",
      "regseq 0.0.2\n"
     ]
    }
   ],
   "source": [
    "%load_ext watermark\n",
    "%watermark -v -p regseq"
   ]
  }
 ],
 "metadata": {
  "kernelspec": {
   "display_name": "Python (mpathic)",
   "language": "python",
   "name": "mpathic_env"
  },
  "language_info": {
   "codemirror_mode": {
    "name": "ipython",
    "version": 3
   },
   "file_extension": ".py",
   "mimetype": "text/x-python",
   "name": "python",
   "nbconvert_exporter": "python",
   "pygments_lexer": "ipython3",
   "version": "3.6.9"
  }
 },
 "nbformat": 4,
 "nbformat_minor": 4
}
