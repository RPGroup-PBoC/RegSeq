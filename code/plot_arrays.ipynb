{
 "cells": [
  {
   "cell_type": "code",
   "execution_count": 1,
   "metadata": {},
   "outputs": [],
   "source": [
    "import numpy as np\n",
    "import matplotlib.pyplot as plt\n",
    "import glob\n",
    "import pandas as pd\n",
    "import scipy as sp"
   ]
  },
  {
   "cell_type": "markdown",
   "metadata": {},
   "source": [
    "We will be plotting heatmaps of all arrays in the 'example arrays' folder, so first we will get the file names of the listed arrays"
   ]
  },
  {
   "cell_type": "code",
   "execution_count": 2,
   "metadata": {},
   "outputs": [],
   "source": [
    "names = glob.glob('../data/example_arrays/aphAAnaerodataset_alldone_with_largeMCMC194_activator')"
   ]
  },
  {
   "cell_type": "code",
   "execution_count": 3,
   "metadata": {},
   "outputs": [
    {
     "data": {
      "image/png": "[encoded data removed]",
      "text/plain": [
       "<Figure size 720x144 with 2 Axes>"
      ]
     },
     "metadata": {
      "needs_background": "light"
     },
     "output_type": "display_data"
    }
   ],
   "source": [
    "for n in names:\n",
    "    tempdf = pd.io.parsers.read_csv(n,delim_whitespace=True)\n",
    "    #convert the dataframe storage format into a numpy array (of shape 4xL) that can be more easily\n",
    "    #plotted\n",
    "    temparr = np.array(tempdf[['val_A','val_C','val_G','val_T']])\n",
    "    \n",
    "    #we want to make sure the color bar is symmetric around zero, so we need to find the maximum value,\n",
    "    #in the energy matrix, so we can set the upper and lower extent of the color bar\n",
    "    maximum = np.max(np.abs(temparr))\n",
    "    \n",
    "    #now plot using matplotlib\n",
    "    fig,ax = plt.subplots(figsize=((10,2)))\n",
    "    plt.imshow(temparr.T,aspect='auto',interpolation='nearest',cmap='coolwarm',vmin=-maximum,vmax=maximum)\n",
    "    plt.colorbar()\n",
    "    plt.xlabel('Position')\n",
    "    #ax.set_yticks([0,1,2,3,4])\n",
    "    ax.set_yticklabels(['','A','C','G','T'])\n",
    "    #save the output image in the same file location as the input array.\n",
    "    plt.savefig(n+'_array',format='png')"
   ]
  },
  {
   "cell_type": "code",
   "execution_count": null,
   "metadata": {},
   "outputs": [],
   "source": []
  }
 ],
 "metadata": {
  "kernelspec": {
   "display_name": "Python 3",
   "language": "python",
   "name": "python3"
  },
  "language_info": {
   "codemirror_mode": {
    "name": "ipython",
    "version": 3
   },
   "file_extension": ".py",
   "mimetype": "text/x-python",
   "name": "python",
   "nbconvert_exporter": "python",
   "pygments_lexer": "ipython3",
   "version": "3.7.5"
  }
 },
 "nbformat": 4,
 "nbformat_minor": 4
}
