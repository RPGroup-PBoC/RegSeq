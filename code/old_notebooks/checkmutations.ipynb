{
 "cells": [
  {
   "cell_type": "code",
   "execution_count": 1,
   "metadata": {},
   "outputs": [],
   "source": [
    "from __future__ import division\n",
    "import numpy as np\n",
    "import pandas as pd\n",
    "\n",
    "import mpathic.utils as utils\n",
    "from Bio.Seq import Seq\n",
    "import Bio.SeqIO\n",
    "import Bio.Seq as Seq\n",
    "import mpathic.simulate_library as simulate_library\n",
    "import mpathic.profile_mut as profile_mut\n",
    "import mpathic.profile_freq as profile_freq\n",
    "seq_dict,inv_dict = utils.choose_dict('dna')\n"
   ]
  },
  {
   "cell_type": "code",
   "execution_count": 2,
   "metadata": {},
   "outputs": [],
   "source": [
    "def mut_seq_random(s,fwdprimer,revprimer):\n",
    "    '''mutate sequence at 10 percent rate and add primers to each side of the sequence.'''\n",
    "    \n",
    "    #need to convert wild type sequence to list for input. \n",
    "    s_temp = list(s)\n",
    "    #mutate interal 140 bp.\n",
    "    firstbase = 10\n",
    "    finalbase = 150\n",
    "    #use mpathic function to generate randomly mutated library\n",
    "    seqs_df = simulate_library.main(wtseq=s[firstbase:finalbase],numseq=nseqs)\n",
    "    #We don't want duplicates, so we'll only take independent sequences.\n",
    "    seqs_df = utils.collapse_further(seqs_df)\n",
    "    seqs = list(seqs_df['seq'])\n",
    "    #make sure we have wild type sequence in the list\n",
    "    outseqs = [fwdprimer + s + revprimer]  + [fwdprimer + s[:firstbase] + str(x) + s[finalbase:] + revprimer  for x in seqs]\n",
    "    outdf = pd.DataFrame()\n",
    "    outdf['seq'] = outseqs\n",
    "    return outdf"
   ]
  },
  {
   "cell_type": "code",
   "execution_count": 3,
   "metadata": {},
   "outputs": [],
   "source": [
    "df = pd.io.parsers.read_csv('../data/test_data/wtsequences.csv')"
   ]
  },
  {
   "cell_type": "code",
   "execution_count": 4,
   "metadata": {},
   "outputs": [],
   "source": [
    "#load in primers provided to us by the kosuri group.\n",
    "kosprimefwd = Bio.SeqIO.parse('../data/primers/forward_finalprimers.fasta','fasta')\n",
    "kosprimerev = Bio.SeqIO.parse('../data/primers/reverse_finalprimers.fasta','fasta')"
   ]
  },
  {
   "cell_type": "code",
   "execution_count": 5,
   "metadata": {},
   "outputs": [],
   "source": [
    "#we want 19 primer pairs, we will take 100 to 119 in the associated files.\n",
    "fwdprimes = []\n",
    "for i,record in enumerate(kosprimefwd):\n",
    "    if i >= 100 and i < 120:\n",
    "        prime = str(record.seq)\n",
    "        fwdprimes.append(prime)"
   ]
  },
  {
   "cell_type": "code",
   "execution_count": 6,
   "metadata": {},
   "outputs": [],
   "source": [
    "revprimes = []\n",
    "for i,record in enumerate(kosprimerev):\n",
    "    if i >= 100 and i < 120:\n",
    "        prime = str(record.seq.reverse_complement())\n",
    "        revprimes.append(prime)"
   ]
  },
  {
   "cell_type": "code",
   "execution_count": 7,
   "metadata": {},
   "outputs": [
    {
     "data": {
      "text/plain": [
       "107"
      ]
     },
     "execution_count": 7,
     "metadata": {},
     "output_type": "execute_result"
    }
   ],
   "source": [
    "#determine total number of genes we are ordering.\n",
    "ngenes = len(df.index)\n",
    "ngenes"
   ]
  },
  {
   "cell_type": "code",
   "execution_count": 8,
   "metadata": {},
   "outputs": [
    {
     "data": {
      "text/plain": [
       "1400"
      ]
     },
     "execution_count": 8,
     "metadata": {},
     "output_type": "execute_result"
    }
   ],
   "source": [
    "#determine number of sequences to order\n",
    "norder = 150000\n",
    "nseqs = int(np.floor(norder/ngenes)) - 1\n",
    "nseqs"
   ]
  },
  {
   "cell_type": "code",
   "execution_count": 9,
   "metadata": {},
   "outputs": [],
   "source": [
    "#now we do mutations and create an output data frame with each mutant sequence\n",
    "#and associated gene.\n",
    "allseqs = pd.DataFrame()\n",
    "for i,row in df.iterrows():\n",
    "    #we group the genes into 18 groups with different primers, we need to establish\n",
    "    #which group we are in.\n",
    "    primernum = int(np.floor(i/6))\n",
    "    #get fwd and rev primer.\n",
    "    thefwdprimer = fwdprimes[primernum]\n",
    "    therevprimer = revprimes[primernum]\n",
    "    #mutate the sequence\n",
    "    tempdf =  mut_seq_random(row['geneseq'],thefwdprimer,therevprimer)\n",
    "    #set which gene the group of sequences comes from.\n",
    "    tempdf['gene'] = row['name']\n",
    "    #we will build up the final dataframe of mutated sequences from the individual\n",
    "    #dataframes of sequences. \n",
    "    allseqs = pd.concat([allseqs,tempdf],axis=0)"
   ]
  },
  {
   "cell_type": "code",
   "execution_count": 10,
   "metadata": {},
   "outputs": [],
   "source": [
    "#save the output.\n",
    "pd.set_option('max_colwidth',int(1e8))\n",
    "allseqs.to_string(\n",
    "        open('mutatedseqs_test','w'), index=False,col_space=10,float_format=utils.format_string)"
   ]
  },
  {
   "cell_type": "code",
   "execution_count": 11,
   "metadata": {},
   "outputs": [
    {
     "data": {
      "text/html": [
       "<div>\n",
       "<style scoped>\n",
       "    .dataframe tbody tr th:only-of-type {\n",
       "        vertical-align: middle;\n",
       "    }\n",
       "\n",
       "    .dataframe tbody tr th {\n",
       "        vertical-align: top;\n",
       "    }\n",
       "\n",
       "    .dataframe thead th {\n",
       "        text-align: right;\n",
       "    }\n",
       "</style>\n",
       "<table border=\"1\" class=\"dataframe\">\n",
       "  <thead>\n",
       "    <tr style=\"text-align: right;\">\n",
       "      <th></th>\n",
       "      <th>seq</th>\n",
       "      <th>gene</th>\n",
       "    </tr>\n",
       "  </thead>\n",
       "  <tbody>\n",
       "    <tr>\n",
       "      <th>0</th>\n",
       "      <td>GCTTATTCGTGCCGTGTTATCATTATGGTATTCTGTTACAAACCCTTCCTGGATGGAGGGAAATTGAGCCAATTCTGGACCTTTGCGGCCCCTTCCGCAAAGAAAAATAACTCCCACTCCCTGCACACGCAGCAAGCGAATGTAAATGGGACGTGACAATGTCGAAACAAGGAGCAATCCGGGCACAGCAATCAAAAGTA</td>\n",
       "      <td>fdoH</td>\n",
       "    </tr>\n",
       "    <tr>\n",
       "      <th>1</th>\n",
       "      <td>GCTTATTCGTGCCGTGTTATCATTATGGTAAACTATTACAAACCCTTGCTGGATGGAGGCAAATTGAGCCACTTCTGGACCTTTGCGGCCCCTTCCCCAAGGAAAAATAACTCCCACTCCCTGCATACGCAGGAAGCTAACGTAAAGGGGACGTCACGATGTCGAAACAAGGAGCAATCCGGGCACAGCAATCAAAAGTA</td>\n",
       "      <td>fdoH</td>\n",
       "    </tr>\n",
       "    <tr>\n",
       "      <th>2</th>\n",
       "      <td>GCTTATTCGTGCCGTGTTATCATTATGGTAAACTGTTACAAACCCTTCCTGGATGGAGGGAAATTGAGCAAATTCTCGACTTTTGCGGCCTCCTCTGCAAAGAAAAATAACTCCCACTCCCTGCACACGCATCAAGCGAATGTTTGTGGGAAGTGACAAGGTCGAAAGAAGGAGCAATCCGGGCACAGCAATCAAAAGTA</td>\n",
       "      <td>fdoH</td>\n",
       "    </tr>\n",
       "    <tr>\n",
       "      <th>3</th>\n",
       "      <td>GCTTATTCGTGCCGTGTTATCATTATGGTAAACTGTTACAAACCTTTCCTGGTTGGAGGGAAATTGACCCAAATCTGGACCTTTGCGGCCCCTTCAGCATCGAAAAATACCTCCCACTCCCTGCACACGCAGCAAACGAATGTAAATGGAACGTGACAAAGTCGAAAACAGGAGCAATCCGGGCACAGCAATCAAAAGTA</td>\n",
       "      <td>fdoH</td>\n",
       "    </tr>\n",
       "    <tr>\n",
       "      <th>4</th>\n",
       "      <td>GCTTATTCGTGCCGTGTTATCATTATGGTAACATGTTACGCACCCTTCGTGGATGGAGGGAAATAATGTCAATTCTGGACCTTTGCGGCCCCTCCCGCAAAACAAAATAACCCCCACTCCCTGCACACCTCCCAAGCGAAAGTAAATGGGACGTGACAATGTCGAAACACGGAGCAATCCGGGCACAGCAATCAAAAGTA</td>\n",
       "      <td>fdoH</td>\n",
       "    </tr>\n",
       "    <tr>\n",
       "      <th>...</th>\n",
       "      <td>...</td>\n",
       "      <td>...</td>\n",
       "    </tr>\n",
       "    <tr>\n",
       "      <th>1396</th>\n",
       "      <td>TCTTAGAAATCCACGGGTCCACTTTAACCATCGGAGCACACTTAGCTAATTTTACGGATGCGGCGCTTACGCTGGCGGGGCGCTATTATTGCTTCAGGGTTTACATCCGCTCTTCTACCCAGTAACTCTAAAAGCATAGCGCATTCATCTGGAGCTGATTTAATGTCTTACATCGTTCGCGGCACCAGGTACATATCTCA</td>\n",
       "      <td>leuABCD</td>\n",
       "    </tr>\n",
       "    <tr>\n",
       "      <th>1397</th>\n",
       "      <td>TCTTAGAAATCCACGGGTCCACTTTAACCATCGGAGCAGAATTGACTAATTTTAAGGATGCAGAACTCACGCTGGGGGGACGTTTTTAATGCGTCAGGGAAGACATCCGTTTTTGAATACAGTAACTCTAAAAGATTATAGCATTCATCTGGAGCTGATTTAATGACTCCCATCGTTCGCGGCACCAGGTACATATCTCA</td>\n",
       "      <td>leuABCD</td>\n",
       "    </tr>\n",
       "    <tr>\n",
       "      <th>1398</th>\n",
       "      <td>TCTTAGAAATCCACGGGTCCACTTTAACCATCGTAACACCATTAGCTAATTGTACGAATGCAGAAATCACGCTGCCGGGACGTTTTTATTGCGTCAGGGTTTACATCCGTCTTAGATTCCAGTAACTCTAATAGCATAACACATTCCTCTGGAGCTGAGTTAATGGCTCACATCGTTCGCGGCACCAGGTACATATCTCA</td>\n",
       "      <td>leuABCD</td>\n",
       "    </tr>\n",
       "    <tr>\n",
       "      <th>1399</th>\n",
       "      <td>TCTTAGAAATCCACGGGTCCACTTTAACCATCGTAGCACCATTAGCTACTTTTACGGATGCAGAACTGACGCTGGCGGTACTTTTTTATTACGTTAGGGTCGACATCCGTTTTTTTATCAAGGAACTCTAAAAGCATATCCCACTCATCTGTAGCTGATTTAATGTCTCACATCGTTCGCGGCACCAGGTACATATCTCA</td>\n",
       "      <td>leuABCD</td>\n",
       "    </tr>\n",
       "    <tr>\n",
       "      <th>1400</th>\n",
       "      <td>TCTTAGAAATCCACGGGTCCACTTTAACCATTGTAGCACAAATACCTAATTTTAGGGAGGCAGAACTCACGCTGGCGGGACAATTTTATTGCGACAGGGTTGACATCCGTTTTTGTAGCCAGTAACTCTAGAAGCATATCGCATTAATCTGGAGCTGATTTAATGACTCACATCGTTCGCGGCACCAGGTACATATCTCA</td>\n",
       "      <td>leuABCD</td>\n",
       "    </tr>\n",
       "  </tbody>\n",
       "</table>\n",
       "<p>149907 rows × 2 columns</p>\n",
       "</div>"
      ],
      "text/plain": [
       "                                                                                                                                                                                                           seq  \\\n",
       "0     GCTTATTCGTGCCGTGTTATCATTATGGTATTCTGTTACAAACCCTTCCTGGATGGAGGGAAATTGAGCCAATTCTGGACCTTTGCGGCCCCTTCCGCAAAGAAAAATAACTCCCACTCCCTGCACACGCAGCAAGCGAATGTAAATGGGACGTGACAATGTCGAAACAAGGAGCAATCCGGGCACAGCAATCAAAAGTA   \n",
       "1     GCTTATTCGTGCCGTGTTATCATTATGGTAAACTATTACAAACCCTTGCTGGATGGAGGCAAATTGAGCCACTTCTGGACCTTTGCGGCCCCTTCCCCAAGGAAAAATAACTCCCACTCCCTGCATACGCAGGAAGCTAACGTAAAGGGGACGTCACGATGTCGAAACAAGGAGCAATCCGGGCACAGCAATCAAAAGTA   \n",
       "2     GCTTATTCGTGCCGTGTTATCATTATGGTAAACTGTTACAAACCCTTCCTGGATGGAGGGAAATTGAGCAAATTCTCGACTTTTGCGGCCTCCTCTGCAAAGAAAAATAACTCCCACTCCCTGCACACGCATCAAGCGAATGTTTGTGGGAAGTGACAAGGTCGAAAGAAGGAGCAATCCGGGCACAGCAATCAAAAGTA   \n",
       "3     GCTTATTCGTGCCGTGTTATCATTATGGTAAACTGTTACAAACCTTTCCTGGTTGGAGGGAAATTGACCCAAATCTGGACCTTTGCGGCCCCTTCAGCATCGAAAAATACCTCCCACTCCCTGCACACGCAGCAAACGAATGTAAATGGAACGTGACAAAGTCGAAAACAGGAGCAATCCGGGCACAGCAATCAAAAGTA   \n",
       "4     GCTTATTCGTGCCGTGTTATCATTATGGTAACATGTTACGCACCCTTCGTGGATGGAGGGAAATAATGTCAATTCTGGACCTTTGCGGCCCCTCCCGCAAAACAAAATAACCCCCACTCCCTGCACACCTCCCAAGCGAAAGTAAATGGGACGTGACAATGTCGAAACACGGAGCAATCCGGGCACAGCAATCAAAAGTA   \n",
       "...                                                                                                                                                                                                        ...   \n",
       "1396  TCTTAGAAATCCACGGGTCCACTTTAACCATCGGAGCACACTTAGCTAATTTTACGGATGCGGCGCTTACGCTGGCGGGGCGCTATTATTGCTTCAGGGTTTACATCCGCTCTTCTACCCAGTAACTCTAAAAGCATAGCGCATTCATCTGGAGCTGATTTAATGTCTTACATCGTTCGCGGCACCAGGTACATATCTCA   \n",
       "1397  TCTTAGAAATCCACGGGTCCACTTTAACCATCGGAGCAGAATTGACTAATTTTAAGGATGCAGAACTCACGCTGGGGGGACGTTTTTAATGCGTCAGGGAAGACATCCGTTTTTGAATACAGTAACTCTAAAAGATTATAGCATTCATCTGGAGCTGATTTAATGACTCCCATCGTTCGCGGCACCAGGTACATATCTCA   \n",
       "1398  TCTTAGAAATCCACGGGTCCACTTTAACCATCGTAACACCATTAGCTAATTGTACGAATGCAGAAATCACGCTGCCGGGACGTTTTTATTGCGTCAGGGTTTACATCCGTCTTAGATTCCAGTAACTCTAATAGCATAACACATTCCTCTGGAGCTGAGTTAATGGCTCACATCGTTCGCGGCACCAGGTACATATCTCA   \n",
       "1399  TCTTAGAAATCCACGGGTCCACTTTAACCATCGTAGCACCATTAGCTACTTTTACGGATGCAGAACTGACGCTGGCGGTACTTTTTTATTACGTTAGGGTCGACATCCGTTTTTTTATCAAGGAACTCTAAAAGCATATCCCACTCATCTGTAGCTGATTTAATGTCTCACATCGTTCGCGGCACCAGGTACATATCTCA   \n",
       "1400  TCTTAGAAATCCACGGGTCCACTTTAACCATTGTAGCACAAATACCTAATTTTAGGGAGGCAGAACTCACGCTGGCGGGACAATTTTATTGCGACAGGGTTGACATCCGTTTTTGTAGCCAGTAACTCTAGAAGCATATCGCATTAATCTGGAGCTGATTTAATGACTCACATCGTTCGCGGCACCAGGTACATATCTCA   \n",
       "\n",
       "         gene  \n",
       "0        fdoH  \n",
       "1        fdoH  \n",
       "2        fdoH  \n",
       "3        fdoH  \n",
       "4        fdoH  \n",
       "...       ...  \n",
       "1396  leuABCD  \n",
       "1397  leuABCD  \n",
       "1398  leuABCD  \n",
       "1399  leuABCD  \n",
       "1400  leuABCD  \n",
       "\n",
       "[149907 rows x 2 columns]"
      ]
     },
     "execution_count": 11,
     "metadata": {},
     "output_type": "execute_result"
    }
   ],
   "source": [
    "allseqs"
   ]
  },
  {
   "cell_type": "markdown",
   "metadata": {},
   "source": [
    "now we can evaluate the resulting sequences to check for a good mutation rate."
   ]
  },
  {
   "cell_type": "code",
   "execution_count": 12,
   "metadata": {},
   "outputs": [],
   "source": [
    "allseqs = pd.io.parsers.read_csv('mutatedseqs_test',delim_whitespace=True)"
   ]
  },
  {
   "cell_type": "code",
   "execution_count": 13,
   "metadata": {},
   "outputs": [
    {
     "name": "stdout",
     "output_type": "stream",
     "text": [
      "0.01998572448251249\n",
      "0.01998572448251249\n",
      "0.017844396859386154\n",
      "0.01998572448251249\n",
      "0.017844396859386154\n",
      "0.018558172733761598\n",
      "0.018558172733761598\n",
      "0.01998572448251249\n",
      "0.018558172733761598\n",
      "0.019271948608137045\n",
      "0.01998572448251249\n",
      "0.019271948608137045\n",
      "0.017130620985010708\n",
      "0.01998572448251249\n",
      "0.019271948608137045\n",
      "0.01998572448251249\n",
      "0.01998572448251249\n",
      "0.017844396859386154\n",
      "0.019271948608137045\n",
      "0.01998572448251249\n",
      "0.01998572448251249\n",
      "0.018558172733761598\n",
      "0.019271948608137045\n",
      "0.01998572448251249\n",
      "0.019271948608137045\n",
      "0.01998572448251249\n",
      "0.018558172733761598\n",
      "0.01998572448251249\n",
      "0.017844396859386154\n",
      "0.019271948608137045\n",
      "0.01998572448251249\n",
      "0.018558172733761598\n",
      "0.019271948608137045\n",
      "0.019271948608137045\n",
      "0.01998572448251249\n",
      "0.017844396859386154\n",
      "0.01998572448251249\n",
      "0.017130620985010708\n",
      "0.015703069236259814\n",
      "0.019271948608137045\n",
      "0.019271948608137045\n",
      "0.018558172733761598\n",
      "0.019271948608137045\n",
      "0.01998572448251249\n",
      "0.019271948608137045\n",
      "0.019271948608137045\n",
      "0.017844396859386154\n",
      "0.019271948608137045\n",
      "0.018558172733761598\n",
      "0.01998572448251249\n",
      "0.017130620985010708\n",
      "bad mutation rate!\n",
      "0.019271948608137045\n",
      "0.018558172733761598\n",
      "0.017844396859386154\n",
      "0.01998572448251249\n",
      "0.01998572448251249\n",
      "0.019271948608137045\n",
      "0.015703069236259814\n",
      "0.019271948608137045\n"
     ]
    }
   ],
   "source": [
    "#now lets check each gene.\n",
    "buffer = 10\n",
    "for i,row in df.iterrows():\n",
    "    gene = row['name']\n",
    "    #dnaE gene is bugged out right now, just skip it for the moment.\n",
    "    if gene == 'dnaE':\n",
    "        continue\n",
    "    #only look at the part of the mutated genes df that are from the target gene.\n",
    "    partialdf = allseqs.loc[allseqs['gene'] == gene,['seq']]\n",
    "    \n",
    "    #for the purposes of the evalution we will asign a test count of 1 for each\n",
    "    #sequence, this needs to be formatted that way to use the mpathic functions.\n",
    "    partialdf['ct'] = 1\n",
    "    partialdf = partialdf[['ct','seq']]\n",
    "    partialdf = partialdf.reset_index(drop=True)\n",
    "    \n",
    "    #we can now check mutation rate of each sequence.\n",
    "    mut = profile_mut.main(partialdf)\n",
    "    \n",
    "    #look at mutation rate of non-primer and non-wildtype bases (we have a buffer of\n",
    "    #wildtype bases of 10 on both sides.)\n",
    "    relevantmuts = mut.loc[buffer + 20:179-buffer*2,'mut']\n",
    "    \n",
    "    #now we check to be sure that each position has a mutation rate within target\n",
    "    #parameters\n",
    "    if (relevantmuts > .14).any() or (relevantmuts < .07).any():\n",
    "        print('bad mutation rate!')\n",
    "    #do some checking to make sure we don't have repeat sequences.\n",
    "    if len(partialdf['seq'].index) != len(set(partialdf['seq'])):\n",
    "        print('repeat')\n",
    "    #now we can look at the frequency of each base in the sequence range\n",
    "    freqmat = profile_freq.main(partialdf)\n",
    "    relevantfreq = freqmat.loc[20 + buffer:179-buffer*2,:]\n",
    "    #now we will check to make sure that each of the individual bases don't have\n",
    "    #abnormally low mutation rates.\n",
    "    freqmin = relevantfreq[['freq_A','freq_C','freq_G','freq_T']].min(axis=1)\n",
    "    relevantfreqmat = np.array(relevantfreq[['freq_A','freq_C','freq_G','freq_T']])\n",
    "    if (freqmin < .02).any():\n",
    "        print(freqmin.min())\n",
    "    "
   ]
  },
  {
   "cell_type": "code",
   "execution_count": 14,
   "metadata": {},
   "outputs": [
    {
     "data": {
      "text/plain": [
       "True"
      ]
     },
     "execution_count": 14,
     "metadata": {},
     "output_type": "execute_result"
    }
   ],
   "source": [
    "np.array([not False, not False]).any()"
   ]
  },
  {
   "cell_type": "code",
   "execution_count": 15,
   "metadata": {},
   "outputs": [
    {
     "data": {
      "text/html": [
       "<div>\n",
       "<style scoped>\n",
       "    .dataframe tbody tr th:only-of-type {\n",
       "        vertical-align: middle;\n",
       "    }\n",
       "\n",
       "    .dataframe tbody tr th {\n",
       "        vertical-align: top;\n",
       "    }\n",
       "\n",
       "    .dataframe thead th {\n",
       "        text-align: right;\n",
       "    }\n",
       "</style>\n",
       "<table border=\"1\" class=\"dataframe\">\n",
       "  <thead>\n",
       "    <tr style=\"text-align: right;\">\n",
       "      <th></th>\n",
       "      <th>A</th>\n",
       "    </tr>\n",
       "  </thead>\n",
       "  <tbody>\n",
       "    <tr>\n",
       "      <th>0</th>\n",
       "      <td>1</td>\n",
       "    </tr>\n",
       "  </tbody>\n",
       "</table>\n",
       "</div>"
      ],
      "text/plain": [
       "   A\n",
       "0  1"
      ]
     },
     "execution_count": 15,
     "metadata": {},
     "output_type": "execute_result"
    }
   ],
   "source": [
    "pd.DataFrame({\"A\":[1]})"
   ]
  },
  {
   "cell_type": "code",
   "execution_count": null,
   "metadata": {},
   "outputs": [],
   "source": []
  }
 ],
 "metadata": {
  "kernelspec": {
   "display_name": "Python (myenv)",
   "language": "python",
   "name": "myenv"
  },
  "language_info": {
   "codemirror_mode": {
    "name": "ipython",
    "version": 3
   },
   "file_extension": ".py",
   "mimetype": "text/x-python",
   "name": "python",
   "nbconvert_exporter": "python",
   "pygments_lexer": "ipython3",
   "version": "3.6.9"
  }
 },
 "nbformat": 4,
 "nbformat_minor": 4
}
