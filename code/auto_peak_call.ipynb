{
 "cells": [
  {
   "cell_type": "code",
   "execution_count": 1,
   "metadata": {},
   "outputs": [],
   "source": [
    "#import basic modules\n",
    "import glob\n",
    "import numpy as np\n",
    "import matplotlib.pyplot as plt\n",
    "import pandas as pd\n",
    "import scipy as sp\n",
    "import peak_utils"
   ]
  },
  {
   "cell_type": "markdown",
   "metadata": {},
   "source": [
    "We will now load in all models so we can check which parts are significant. Only an example subset is stored on the github repo. You can download this data from the github repo or as a .tar.gz file from the website under the datasets section.\n"
   ]
  },
  {
   "cell_type": "code",
   "execution_count": 2,
   "metadata": {},
   "outputs": [],
   "source": [
    "#this command will load in all datasets, each is a numpy pickle file.\n",
    "allnames = glob.glob('../MCMC/*.npy')"
   ]
  },
  {
   "cell_type": "code",
   "execution_count": 3,
   "metadata": {},
   "outputs": [
    {
     "data": {
      "text/plain": [
       "['../MCMC/rspAmetaldataset_alldone_with_largeMCMC195_0_0_mut.npy',\n",
       " '../MCMC/iapmetaldataset_alldone_with_largeMCMC194_0_0_mut.npy',\n",
       " '../MCMC/aphAmetaldataset_alldone_with_largeMCMC195_0_0_mut.npy',\n",
       " '../MCMC/bdcRmetaldataset_alldone_with_largeMCMC195_0_0_mut.npy',\n",
       " '../MCMC/iapmetaldataset_alldone_with_largeMCMC195_0_0_mut.npy']"
      ]
     },
     "execution_count": 3,
     "metadata": {},
     "output_type": "execute_result"
    }
   ],
   "source": [
    "allnames"
   ]
  },
  {
   "cell_type": "code",
   "execution_count": 4,
   "metadata": {},
   "outputs": [
    {
     "data": {
      "text/plain": [
       "<Figure size 432x288 with 0 Axes>"
      ]
     },
     "metadata": {},
     "output_type": "display_data"
    },
    {
     "data": {
      "text/plain": [
       "<Figure size 432x288 with 0 Axes>"
      ]
     },
     "metadata": {},
     "output_type": "display_data"
    },
    {
     "data": {
      "text/plain": [
       "<Figure size 432x288 with 0 Axes>"
      ]
     },
     "metadata": {},
     "output_type": "display_data"
    },
    {
     "data": {
      "text/plain": [
       "<Figure size 432x288 with 0 Axes>"
      ]
     },
     "metadata": {},
     "output_type": "display_data"
    },
    {
     "data": {
      "text/plain": [
       "<Figure size 432x288 with 0 Axes>"
      ]
     },
     "metadata": {},
     "output_type": "display_data"
    }
   ],
   "source": [
    "#we set an averaging size of 15, as this is a typical size for a binding site.\n",
    "windowsize = 15\n",
    "def do_sum2(s):\n",
    "    '''this function does a summation 15 base pairs from the experession shifts models.\n",
    "    We will be seeing if the summation of 15 consecutive base pairs are significant for gene\n",
    "    expression (99% confidence interval).'''\n",
    "    outarr = np.zeros((9000,160 - windowsize))\n",
    "    for i in range(160-windowsize):\n",
    "        outarr[:,i] = s[:,i:(i+windowsize)].sum(axis=1)\n",
    "    return outarr\n",
    "\n",
    "#we define some column names. The only purpose of that these are the columns that are used in \n",
    "#the any energy matrices.\n",
    "val_cols = ['val_A','val_C','val_G','val_T']\n",
    "\n",
    "\n",
    "    \n",
    "for name in allnames:\n",
    "    try:\n",
    "        #we will use pymc to load in the database of all MCMC steps.\n",
    "        em = np.load(name)\n",
    "        \n",
    "        \n",
    "        #we have removed 1000 burnin steps. Due to the thinning of 60, this is\n",
    "        #actually 60000 steps.\n",
    "        emat = em[:,:]\n",
    "\n",
    "        #sum into groupings of 15 base pairs so that we can see if large regions are statistically\n",
    "        #signficant for expression.\n",
    "        summedarr2 = do_sum2(emat)\n",
    "\n",
    "        #initialize array where we will store whether or not the outcome is signficant.\n",
    "        is_significant = np.zeros(160-windowsize)\n",
    "        for i in range(160-windowsize):\n",
    "            #make a 99.5 percent confidence interval\n",
    "            #to do this we will check from .5 to .95 because we want to know if 0 \n",
    "            #is in the range (.5% to 100%) or (0 to 99.5%) range, depending on\n",
    "            #whether the shift is positive or negative.\n",
    "            CI = np.percentile(summedarr2[:,i],[.5,99.5])\n",
    "            #if zero is in interval, the base is not signficant, otherwise it is.\n",
    "            if CI[0] < 0 and CI[1] > 0:\n",
    "                pass\n",
    "            elif CI[0] > 0:\n",
    "                is_significant[i] = 1\n",
    "            else:\n",
    "                is_significant[i] = -1\n",
    "        #both plot and save signficance results. signficant sites will end 15 base pairs after the last\n",
    "        #shown signficant base because we average over 15 bases.\n",
    "        fig,ax = plt.subplots()\n",
    "        plt.bar(range(7,167-windowsize),is_significant)\n",
    "        ax.set_xlabel('position')\n",
    "        ax.set_ylabel('significant shift')\n",
    "        plt.savefig(name.split('.npy')[0] + '_window_autocall_p1percentv2_' + str(windowsize),format='eps')\n",
    "        np.savetxt(name.split('.npy')[0] + '_window_auto_p1percentv2_' + str(windowsize) + '.txt',is_significant)\n",
    "        plt.clf()\n",
    "    except Exception as e:\n",
    "        print(e)"
   ]
  },
  {
   "cell_type": "markdown",
   "metadata": {},
   "source": [
    "The resulting figure shows a 0 for bases that are not significant, 1 for bases that have a significant positive impact, and a -1 for bases that have a signficant negative impact. The results are also saved as a text file."
   ]
  }
 ],
 "metadata": {
  "kernelspec": {
   "display_name": "Python 3",
   "language": "python",
   "name": "python3"
  },
  "language_info": {
   "codemirror_mode": {
    "name": "ipython",
    "version": 3
   },
   "file_extension": ".py",
   "mimetype": "text/x-python",
   "name": "python",
   "nbconvert_exporter": "python",
   "pygments_lexer": "ipython3",
   "version": "3.6.9"
  }
 },
 "nbformat": 4,
 "nbformat_minor": 2
}
