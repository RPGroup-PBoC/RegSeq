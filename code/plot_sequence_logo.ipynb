{
 "cells": [
  {
   "cell_type": "markdown",
   "metadata": {},
   "source": [
    "## Plotting sequence logos\n",
    "\n",
    "The code in this tutorial is released under the [MIT License](https://opensource.org/licenses/MIT). All the content in this notebook is under a [CC-by 4.0 License](https://creativecommons.org/licenses/by/4.0/). "
   ]
  },
  {
   "cell_type": "code",
   "execution_count": 29,
   "metadata": {},
   "outputs": [],
   "source": [
    "import numpy as np\n",
    "import pandas as pd\n",
    "import matplotlib.pyplot as plt\n",
    "import sys\n",
    "sys.path.append('../RegSeq/')\n",
    "import utils\n",
    "#import RegSeq"
   ]
  },
  {
   "cell_type": "code",
   "execution_count": 30,
   "metadata": {},
   "outputs": [],
   "source": [
    "%matplotlib inline\n",
    "\n",
    "# logomaker import\n",
    "import logomaker"
   ]
  },
  {
   "cell_type": "code",
   "execution_count": 31,
   "metadata": {},
   "outputs": [],
   "source": [
    "#We will first load in a binding site matrix.\n",
    "arraydf = pd.io.parsers.read_csv('../data/example_arrays/aphAAnaerodataset_alldone_with_largeMCMC194_activator',\n",
    "                                 delim_whitespace=True,index_col='pos')\n",
    "#We will rename columns to be useable by the logomaker package\n",
    "arraydf = arraydf.rename(columns={'val_A':'A','val_C':'C','val_G':'G','val_T':'T'})"
   ]
  },
  {
   "cell_type": "markdown",
   "metadata": {},
   "source": [
    "We first need to find the proper scaling factor for conversion to information logo. Empirically, it is known\n",
    "that binding sites have approximately 1 bit of information per base pair."
   ]
  },
  {
   "cell_type": "code",
   "execution_count": 32,
   "metadata": {},
   "outputs": [],
   "source": [
    "def get_info(df):\n",
    "    '''This function finds the total information content of a binding site'''\n",
    "    #define the background probabilities for E. coli bases.\n",
    "    gc = .508\n",
    "    background_array =np.array([(1-gc)/2,gc/2,gc/2,(1-gc)/2])\n",
    "    #add in small value to make sure no probabilities are exactly zero.\n",
    "    df = df + 1e-7\n",
    "    \n",
    "    return np.sum(df.values*np.log2(df.values/background_array))"
   ]
  },
  {
   "cell_type": "code",
   "execution_count": 33,
   "metadata": {},
   "outputs": [],
   "source": [
    "def get_beta_for_effect_df(effect_df,target_info,\\\n",
    "    min_beta=.001,max_beta=100,num_betas=1000):\n",
    "    '''This function finds the appropriate scaling factor for displaying sequence\n",
    "    logos. From empirical results, most binding sites will ahve approximately\n",
    "    1 bit per base pair of information'''\n",
    "    betas = np.exp(np.linspace(np.log(min_beta),np.log(max_beta),num_betas))\n",
    "    infos = np.zeros(len(betas))\n",
    "    for i, beta in enumerate(betas):\n",
    "        prob_df = logomaker.transform_matrix(df=beta*effect_df,from_type='weight',to_type='probability')\n",
    "        infos[i] = get_info(prob_df)\n",
    "    i = np.argmin(np.abs(infos-target_info))\n",
    "    beta = betas[i]\n",
    "    return beta"
   ]
  },
  {
   "cell_type": "code",
   "execution_count": null,
   "metadata": {},
   "outputs": [],
   "source": [
    "#finding scaling factor\n",
    "target_info = len(arraydf.index)\n",
    "beta = get_beta_for_effect_df(arraydf,target_info)\n",
    "\n",
    "#we will now use logomaker to convert our energy matrix to an information matrix for plotting\n",
    "binding_info = logomaker.transform_matrix(df=beta*arraydf,from_type='weight',to_type='information')"
   ]
  },
  {
   "cell_type": "code",
   "execution_count": null,
   "metadata": {},
   "outputs": [],
   "source": [
    "binding_logo = logomaker.Logo(binding_info,\n",
    "                         font_name='Stencil Std',\n",
    "                         vpad=.1,\n",
    "                         width=.8)\n",
    "\n",
    "# style using Logo methods\n",
    "binding_logo.style_spines(visible=False)\n",
    "binding_logo.style_spines(spines=['left', 'bottom'], visible=True)\n",
    "binding_logo.style_xticks(rotation=90, fmt='%d', anchor=0)\n",
    "\n",
    "# style using Axes methods\n",
    "binding_logo.ax.set_ylabel(\"Information (bits)\", labelpad=-1)\n",
    "binding_logo.ax.xaxis.set_ticks_position('none')\n",
    "binding_logo.ax.xaxis.set_tick_params(pad=-1)"
   ]
  },
  {
   "cell_type": "code",
   "execution_count": null,
   "metadata": {},
   "outputs": [],
   "source": []
  },
  {
   "cell_type": "code",
   "execution_count": null,
   "metadata": {},
   "outputs": [],
   "source": []
  },
  {
   "cell_type": "code",
   "execution_count": null,
   "metadata": {},
   "outputs": [],
   "source": []
  }
 ],
 "metadata": {
  "kernelspec": {
   "display_name": "Python 3",
   "language": "python",
   "name": "python3"
  },
  "language_info": {
   "codemirror_mode": {
    "name": "ipython",
    "version": 3
   },
   "file_extension": ".py",
   "mimetype": "text/x-python",
   "name": "python",
   "nbconvert_exporter": "python",
   "pygments_lexer": "ipython3",
   "version": "3.7.7"
  }
 },
 "nbformat": 4,
 "nbformat_minor": 4
}
