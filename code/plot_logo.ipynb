{
 "cells": [
  {
   "cell_type": "code",
   "execution_count": 12,
   "metadata": {},
   "outputs": [],
   "source": [
    "import numpy as np\n",
    "import pandas as pd\n",
    "import matplotlib.pyplot as plt\n",
    "import sys\n",
    "sys.path.append('../RegSeq/')\n",
    "import utils"
   ]
  },
  {
   "cell_type": "code",
   "execution_count": 13,
   "metadata": {},
   "outputs": [],
   "source": [
    "%matplotlib inline\n",
    "\n",
    "# logomaker import\n",
    "import logomaker"
   ]
  },
  {
   "cell_type": "code",
   "execution_count": 14,
   "metadata": {},
   "outputs": [],
   "source": [
    "#We will first load in a binding site matrix.\n",
    "arraydf = pd.io.parsers.read_csv('../data/example_arrays/aphAAnaerodataset_alldone_with_largeMCMC194_activator',\n",
    "                                 delim_whitespace=True,index_col='pos')\n",
    "#We will rename columns to be useable by the logomaker package\n",
    "arraydf = arraydf.rename(columns={'val_A':'A','val_C':'C','val_G':'G','val_T':'T'})"
   ]
  },
  {
   "cell_type": "markdown",
   "metadata": {},
   "source": [
    "We first need to find the proper scaling factor for conversion to information logo. Empirically, it is known\n",
    "that binding sites have approximately 1 bit of information per base pair."
   ]
  },
  {
   "cell_type": "code",
   "execution_count": null,
   "metadata": {},
   "outputs": [],
   "source": [
    "#finding scaling factor\n",
    "target_info = len(arraydf.index)\n",
    "beta = utils.get_beta_for_effect_df(arraydf,target_info)\n",
    "\n",
    "#we will now use logomaker to convert our energy matrix to an information matrix for plotting\n",
    "binding_info = logomaker.transform_matrix(df=beta*arraydf,from_type='weight',to_type='information')"
   ]
  },
  {
   "cell_type": "code",
   "execution_count": null,
   "metadata": {},
   "outputs": [],
   "source": [
    "binding_logo = logomaker.Logo(binding_info,\n",
    "                         font_name='Stencil Std',\n",
    "                         vpad=.1,\n",
    "                         width=.8)\n",
    "\n",
    "# style using Logo methods\n",
    "binding_logo.style_spines(visible=False)\n",
    "binding_logo.style_spines(spines=['left', 'bottom'], visible=True)\n",
    "binding_logo.style_xticks(rotation=90, fmt='%d', anchor=0)\n",
    "\n",
    "# style using Axes methods\n",
    "binding_logo.ax.set_ylabel(\"Information (bits)\", labelpad=-1)\n",
    "binding_logo.ax.xaxis.set_ticks_position('none')\n",
    "binding_logo.ax.xaxis.set_tick_params(pad=-1)"
   ]
  }
 ],
 "metadata": {
  "kernelspec": {
   "display_name": "Python 3",
   "language": "python",
   "name": "python3"
  },
  "language_info": {
   "codemirror_mode": {
    "name": "ipython",
    "version": 3
   },
   "file_extension": ".py",
   "mimetype": "text/x-python",
   "name": "python",
   "nbconvert_exporter": "python",
   "pygments_lexer": "ipython3",
   "version": "3.6.9"
  }
 },
 "nbformat": 4,
 "nbformat_minor": 2
}
