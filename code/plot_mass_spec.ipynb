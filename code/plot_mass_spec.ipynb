{
 "cells": [
  {
   "cell_type": "code",
   "execution_count": 6,
   "metadata": {},
   "outputs": [],
   "source": [
    "#load in plotting tools\n",
    "import matplotlib.pyplot as plt"
   ]
  },
  {
   "cell_type": "code",
   "execution_count": 7,
   "metadata": {},
   "outputs": [],
   "source": [
    "import pandas as pd\n",
    "import seaborn as sns\n",
    "import numpy as np"
   ]
  },
  {
   "cell_type": "code",
   "execution_count": 8,
   "metadata": {},
   "outputs": [],
   "source": [
    "#load in mass spec data file.\n",
    "df = pd.io.parsers.read_csv('massspec/proteinGroups20June19.txt',sep='\\t')"
   ]
  },
  {
   "cell_type": "code",
   "execution_count": 9,
   "metadata": {},
   "outputs": [],
   "source": [
    "#set the plotting style\n",
    "def pboc_style_mpl():\n",
    "    \"\"\"\n",
    "    Formats matplotlib plotting enviroment to that used in\n",
    "    Physical Biology of the Cell, 2nd edition.\n",
    "    \"\"\"\n",
    "    rc = {'lines.linewidth': 1.25,\n",
    "          'axes.labelsize': 8,\n",
    "          'axes.titlesize': 9,\n",
    "          'axes.facecolor': '#E3DCD0',\n",
    "          'xtick.labelsize': 7,\n",
    "          'ytick.labelsize': 7,\n",
    "          'font.family': 'Lucida Sans Unicode',\n",
    "          'grid.linestyle': '-',\n",
    "          'grid.linewidth': 0.5,\n",
    "          'grid.color': '#ffffff',\n",
    "          'legend.fontsize': 8,\n",
    "          'figure.dpi': 300,\n",
    "          'savefig.dpi': 300}\n",
    "    plt.rc('text.latex', preamble=r'\\usepackage{sfmath}')\n",
    "    plt.rc('xtick.major', pad=-1)\n",
    "    plt.rc('ytick.major', pad=-1)\n",
    "    plt.rc('mathtext', fontset='stixsans', sf='sansserif')\n",
    "    plt.rc('figure', figsize=[3.5, 2.5])\n",
    "    plt.rc('svg', fonttype='none')\n",
    "    plt.rc('legend', title_fontsize='8', frameon=True,\n",
    "           facecolor='#E3DCD0', framealpha=1)\n",
    "    sns.set_style('darkgrid', rc=rc)\n",
    "    sns.set_palette(\"colorblind\", color_codes=True)\n",
    "    sns.set_context('notebook', rc=rc)\n",
    "pboc_style_mpl()"
   ]
  },
  {
   "cell_type": "code",
   "execution_count": 22,
   "metadata": {},
   "outputs": [],
   "source": [
    "#set the column name that contains the normal\n",
    "inname = 'A5'\n",
    "good_column = 'Ratio H/L normalized ' + inname\n",
    "#extract the only necessary columns, protein name and normalized ratio\n",
    "enrichment = df[['Protein names',good_column]]"
   ]
  },
  {
   "cell_type": "code",
   "execution_count": 23,
   "metadata": {},
   "outputs": [],
   "source": [
    "#remove any rows which don't actually have ratios (those proteins where we did not find enough peptides\n",
    "#will have an np.NaN for enrichment)\n",
    "enrichment2 = enrichment.dropna()"
   ]
  },
  {
   "cell_type": "code",
   "execution_count": 24,
   "metadata": {},
   "outputs": [],
   "source": [
    "#sort the entries so that they go from highest enrichment to lowest.\n",
    "enrichment2 = enrichment2.sort_values(by=good_column,ascending=False)"
   ]
  },
  {
   "cell_type": "code",
   "execution_count": 25,
   "metadata": {},
   "outputs": [],
   "source": [
    "def check_DNA(s):\n",
    "    '''This function will return only those proteins which have DNA binding activity.'''\n",
    "    with open('massspec/DNAbinding_genenames.txt') as f:\n",
    "        genenames = f.read()\n",
    "        genenames = genenames.split(',')\n",
    "    if s in genenames:\n",
    "        return True\n",
    "    else:\n",
    "        return False"
   ]
  },
  {
   "cell_type": "code",
   "execution_count": 26,
   "metadata": {},
   "outputs": [],
   "source": [
    "#filter for only proteins that bind DNA.\n",
    "goodrows = enrichment2['Protein names'].apply(check_DNA)\n",
    "enrichment3 = enrichment2[goodrows]"
   ]
  },
  {
   "cell_type": "code",
   "execution_count": 27,
   "metadata": {},
   "outputs": [
    {
     "data": {
      "image/png": "[encoded data removed]",
      "text/plain": [
       "<Figure size 252x180 with 1 Axes>"
      ]
     },
     "metadata": {},
     "output_type": "display_data"
    }
   ],
   "source": [
    "#plot results\n",
    "fig,ax = plt.subplots()\n",
    "ax.set_xlabel('')\n",
    "ax.set_ylabel('enrichment')\n",
    "sns.stripplot(data= list(enrichment3[good_column]),jitter=True,size=12)\n",
    "plt.savefig(inname + '_output.eps',format='eps')\n"
   ]
  },
  {
   "cell_type": "code",
   "execution_count": null,
   "metadata": {},
   "outputs": [],
   "source": []
  }
 ],
 "metadata": {
  "kernelspec": {
   "display_name": "Python 3",
   "language": "python",
   "name": "python3"
  },
  "language_info": {
   "codemirror_mode": {
    "name": "ipython",
    "version": 3
   },
   "file_extension": ".py",
   "mimetype": "text/x-python",
   "name": "python",
   "nbconvert_exporter": "python",
   "pygments_lexer": "ipython3",
   "version": "3.6.9"
  }
 },
 "nbformat": 4,
 "nbformat_minor": 2
}
