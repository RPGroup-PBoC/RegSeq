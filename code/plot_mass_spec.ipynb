{
 "cells": [
  {
   "cell_type": "markdown",
   "metadata": {},
   "source": [
    "# Plot Mass spectometry"
   ]
  },
  {
   "cell_type": "code",
   "execution_count": 1,
   "metadata": {},
   "outputs": [],
   "source": [
    "#load in plotting tools\n",
    "import matplotlib.pyplot as plt\n",
    "import seaborn as sns\n",
    "\n",
    "#Load in analysis workhorses\n",
    "import pandas as pd\n",
    "import numpy as np\n",
    "\n",
    "# Set the PBoC plotting style\n",
    "from regseq.utils import pboc_style_mpl\n",
    "#pboc_style_mpl()"
   ]
  },
  {
   "cell_type": "markdown",
   "metadata": {},
   "source": [
    "For a more detailed explanation of the purpose of this notebook, refer to the [documentation of the regseq experiment](https://github.com/RPGroup-PBoC/regseq/wiki/5.-Mass-Spectrometry).<br>\n",
    "First we load in the mass spectometry data."
   ]
  },
  {
   "cell_type": "code",
   "execution_count": 2,
   "metadata": {},
   "outputs": [],
   "source": [
    "df = pd.io.parsers.read_csv('../data/massspec/proteinGroups20June19.txt', sep='\\t')\n",
    "# Column name that contains the normal\n",
    "inname = 'A5'\n",
    "good_column = 'Ratio H/L normalized ' + inname\n",
    "# Extract the only necessary columns, protein name and normalized ratio\n",
    "enrichment = df[['Protein names',good_column]]"
   ]
  },
  {
   "cell_type": "markdown",
   "metadata": {},
   "source": [
    "Remove any rows which don't actually have ratios (those proteins where we did not find enough peptides will have an NaN for enrichment)"
   ]
  },
  {
   "cell_type": "code",
   "execution_count": 3,
   "metadata": {},
   "outputs": [
    {
     "data": {
      "text/html": [
       "<div>\n",
       "<style scoped>\n",
       "    .dataframe tbody tr th:only-of-type {\n",
       "        vertical-align: middle;\n",
       "    }\n",
       "\n",
       "    .dataframe tbody tr th {\n",
       "        vertical-align: top;\n",
       "    }\n",
       "\n",
       "    .dataframe thead th {\n",
       "        text-align: right;\n",
       "    }\n",
       "</style>\n",
       "<table border=\"1\" class=\"dataframe\">\n",
       "  <thead>\n",
       "    <tr style=\"text-align: right;\">\n",
       "      <th></th>\n",
       "      <th>Protein names</th>\n",
       "      <th>Ratio H/L normalized A5</th>\n",
       "    </tr>\n",
       "  </thead>\n",
       "  <tbody>\n",
       "    <tr>\n",
       "      <th>22</th>\n",
       "      <td>6-phosphogluconate dehydrogenase, decarboxylating</td>\n",
       "      <td>9.47610</td>\n",
       "    </tr>\n",
       "    <tr>\n",
       "      <th>25</th>\n",
       "      <td>NADH dehydrogenase</td>\n",
       "      <td>0.39684</td>\n",
       "    </tr>\n",
       "    <tr>\n",
       "      <th>26</th>\n",
       "      <td>Superoxide dismutase [Mn]</td>\n",
       "      <td>14.84700</td>\n",
       "    </tr>\n",
       "    <tr>\n",
       "      <th>27</th>\n",
       "      <td>Ribonucleoside-diphosphate reductase 1 subunit...</td>\n",
       "      <td>0.92589</td>\n",
       "    </tr>\n",
       "    <tr>\n",
       "      <th>28</th>\n",
       "      <td>Maltodextrin phosphorylase</td>\n",
       "      <td>4.08510</td>\n",
       "    </tr>\n",
       "  </tbody>\n",
       "</table>\n",
       "</div>"
      ],
      "text/plain": [
       "                                        Protein names  Ratio H/L normalized A5\n",
       "22  6-phosphogluconate dehydrogenase, decarboxylating                  9.47610\n",
       "25                                 NADH dehydrogenase                  0.39684\n",
       "26                          Superoxide dismutase [Mn]                 14.84700\n",
       "27  Ribonucleoside-diphosphate reductase 1 subunit...                  0.92589\n",
       "28                         Maltodextrin phosphorylase                  4.08510"
      ]
     },
     "execution_count": 3,
     "metadata": {},
     "output_type": "execute_result"
    }
   ],
   "source": [
    "enrichment2 = enrichment.dropna()\n",
    "enrichment2.head()"
   ]
  },
  {
   "cell_type": "markdown",
   "metadata": {},
   "source": [
    "Sort the entries so that they go from highest enrichment to lowest."
   ]
  },
  {
   "cell_type": "code",
   "execution_count": 4,
   "metadata": {},
   "outputs": [
    {
     "data": {
      "text/html": [
       "<div>\n",
       "<style scoped>\n",
       "    .dataframe tbody tr th:only-of-type {\n",
       "        vertical-align: middle;\n",
       "    }\n",
       "\n",
       "    .dataframe tbody tr th {\n",
       "        vertical-align: top;\n",
       "    }\n",
       "\n",
       "    .dataframe thead th {\n",
       "        text-align: right;\n",
       "    }\n",
       "</style>\n",
       "<table border=\"1\" class=\"dataframe\">\n",
       "  <thead>\n",
       "    <tr style=\"text-align: right;\">\n",
       "      <th></th>\n",
       "      <th>Protein names</th>\n",
       "      <th>Ratio H/L normalized A5</th>\n",
       "    </tr>\n",
       "  </thead>\n",
       "  <tbody>\n",
       "    <tr>\n",
       "      <th>738</th>\n",
       "      <td>ABC transporter arginine-binding protein 1</td>\n",
       "      <td>40.932</td>\n",
       "    </tr>\n",
       "    <tr>\n",
       "      <th>441</th>\n",
       "      <td>Leu/Ile/Val-binding protein</td>\n",
       "      <td>24.829</td>\n",
       "    </tr>\n",
       "    <tr>\n",
       "      <th>674</th>\n",
       "      <td>Periplasmic dipeptide transport protein</td>\n",
       "      <td>24.088</td>\n",
       "    </tr>\n",
       "    <tr>\n",
       "      <th>872</th>\n",
       "      <td>Malate dehydrogenase</td>\n",
       "      <td>20.293</td>\n",
       "    </tr>\n",
       "    <tr>\n",
       "      <th>628</th>\n",
       "      <td>Thiosulfate-binding protein</td>\n",
       "      <td>19.558</td>\n",
       "    </tr>\n",
       "  </tbody>\n",
       "</table>\n",
       "</div>"
      ],
      "text/plain": [
       "                                  Protein names  Ratio H/L normalized A5\n",
       "738  ABC transporter arginine-binding protein 1                   40.932\n",
       "441                 Leu/Ile/Val-binding protein                   24.829\n",
       "674     Periplasmic dipeptide transport protein                   24.088\n",
       "872                        Malate dehydrogenase                   20.293\n",
       "628                 Thiosulfate-binding protein                   19.558"
      ]
     },
     "execution_count": 4,
     "metadata": {},
     "output_type": "execute_result"
    }
   ],
   "source": [
    "enrichment2 = enrichment2.sort_values(by=good_column,ascending=False)\n",
    "enrichment2.head()"
   ]
  },
  {
   "cell_type": "markdown",
   "metadata": {},
   "source": [
    "We are looking for proteins that are binding DNA. The function below loads a file containing all genes which are encoding DNA binding genes, and returns a list of booleans if genes from the mass spec data are in this list."
   ]
  },
  {
   "cell_type": "code",
   "execution_count": 5,
   "metadata": {},
   "outputs": [],
   "source": [
    "def check_DNA(s):\n",
    "    '''This function will return only those proteins which have DNA binding activity.'''\n",
    "    with open('../data/massspec/DNAbinding_genenames.txt') as f:\n",
    "        genenames = f.read()\n",
    "        genenames = genenames.split(',\\n')\n",
    "    if s in genenames:\n",
    "        return True\n",
    "    else:\n",
    "        return False"
   ]
  },
  {
   "cell_type": "markdown",
   "metadata": {},
   "source": [
    "Now we can apply this function to the mass spectometry data, and find DNA binding proteins."
   ]
  },
  {
   "cell_type": "code",
   "execution_count": 6,
   "metadata": {},
   "outputs": [],
   "source": [
    "goodrows = enrichment2['Protein names'].apply(check_DNA)\n",
    "enrichment3 = enrichment2[goodrows]"
   ]
  },
  {
   "cell_type": "code",
   "execution_count": 7,
   "metadata": {},
   "outputs": [
    {
     "data": {
      "image/png": "[encoded data removed]",
      "text/plain": [
       "<Figure size 252x180 with 1 Axes>"
      ]
     },
     "metadata": {},
     "output_type": "display_data"
    }
   ],
   "source": [
    "#plot results\n",
    "fig,ax = plt.subplots()\n",
    "ax.set_xlabel('')\n",
    "ax.set_ylabel('enrichment')\n",
    "sns.stripplot(data=list(enrichment3[good_column]),jitter=True,size=12)\n",
    "plt.savefig(inname + '_output.eps', format='eps')\n"
   ]
  },
  {
   "cell_type": "markdown",
   "metadata": {},
   "source": [
    "Finally, here are the versions of packages used in this notebook. To display the versions, we are using the Jupyter Lab extension `watermark`, which can be found [here](https://github.com/rasbt/watermark)."
   ]
  },
  {
   "cell_type": "markdown",
   "metadata": {},
   "source": [
    "## Computing Environment"
   ]
  },
  {
   "cell_type": "code",
   "execution_count": 16,
   "metadata": {},
   "outputs": [
    {
     "name": "stdout",
     "output_type": "stream",
     "text": [
      "CPython 3.6.10\n",
      "IPython 7.13.0\n",
      "\n",
      "jupyterlab 1.2.6\n",
      "matplotlib 3.1.3\n",
      "seaborn 0.10.0\n",
      "pandas 1.0.3\n",
      "numpy 1.18.1\n",
      "RegSeq 0.0.1\n"
     ]
    }
   ],
   "source": [
    "%load_ext watermark\n",
    "%watermark -v -p jupyterlab,matplotlib,seaborn,pandas,numpy,regseq"
   ]
  }
 ],
 "metadata": {
  "kernelspec": {
   "display_name": "Python (myenv)",
   "language": "python",
   "name": "myenv"
  },
  "language_info": {
   "codemirror_mode": {
    "name": "ipython",
    "version": 3
   },
   "file_extension": ".py",
   "mimetype": "text/x-python",
   "name": "python",
   "nbconvert_exporter": "python",
   "pygments_lexer": "ipython3",
   "version": "3.6.10"
  }
 },
 "nbformat": 4,
 "nbformat_minor": 4
}
