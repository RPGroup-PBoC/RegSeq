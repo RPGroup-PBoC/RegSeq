{
 "cells": [
  {
   "cell_type": "code",
   "execution_count": 2,
   "metadata": {
    "collapsed": true
   },
   "outputs": [],
   "source": [
    "import pandas as pd\n",
    "import Bio.SeqIO\n",
    "import Bio.Seq as Seq\n",
    "import numpy as np"
   ]
  },
  {
   "cell_type": "code",
   "execution_count": 3,
   "metadata": {
    "collapsed": true
   },
   "outputs": [],
   "source": [
    "#load in genome (that we downloaded from NCBI)\n",
    "for record in Bio.SeqIO.parse('sequencev3.fasta', \"fasta\"):\n",
    "    genome = str(record.seq)"
   ]
  },
  {
   "cell_type": "code",
   "execution_count": 4,
   "metadata": {
    "collapsed": true
   },
   "outputs": [],
   "source": [
    "#load in files containing start sites locations\n",
    "totdf = pd.io.parsers.read_csv('../manu_genes.csv')"
   ]
  },
  {
   "cell_type": "code",
   "execution_count": 5,
   "metadata": {},
   "outputs": [
    {
     "data": {
      "text/html": [
       "<div>\n",
       "<style>\n",
       "    .dataframe thead tr:only-child th {\n",
       "        text-align: right;\n",
       "    }\n",
       "\n",
       "    .dataframe thead th {\n",
       "        text-align: left;\n",
       "    }\n",
       "\n",
       "    .dataframe tbody tr th {\n",
       "        vertical-align: top;\n",
       "    }\n",
       "</style>\n",
       "<table border=\"1\" class=\"dataframe\">\n",
       "  <thead>\n",
       "    <tr style=\"text-align: right;\">\n",
       "      <th></th>\n",
       "      <th>name</th>\n",
       "      <th>start_site</th>\n",
       "      <th>rev</th>\n",
       "      <th>notes</th>\n",
       "    </tr>\n",
       "  </thead>\n",
       "  <tbody>\n",
       "    <tr>\n",
       "      <th>0</th>\n",
       "      <td>livM</td>\n",
       "      <td>3597755</td>\n",
       "      <td>rev</td>\n",
       "      <td>NaN</td>\n",
       "    </tr>\n",
       "    <tr>\n",
       "      <th>1</th>\n",
       "      <td>ygbI</td>\n",
       "      <td>2861256</td>\n",
       "      <td>rev</td>\n",
       "      <td>race over comput</td>\n",
       "    </tr>\n",
       "    <tr>\n",
       "      <th>2</th>\n",
       "      <td>deaD</td>\n",
       "      <td>3308086</td>\n",
       "      <td>rev</td>\n",
       "      <td>full operon over compute</td>\n",
       "    </tr>\n",
       "    <tr>\n",
       "      <th>3</th>\n",
       "      <td>frlR</td>\n",
       "      <td>3504043</td>\n",
       "      <td>fwd</td>\n",
       "      <td>NaN</td>\n",
       "    </tr>\n",
       "    <tr>\n",
       "      <th>4</th>\n",
       "      <td>slyA</td>\n",
       "      <td>1720870</td>\n",
       "      <td>rev</td>\n",
       "      <td>NaN</td>\n",
       "    </tr>\n",
       "    <tr>\n",
       "      <th>5</th>\n",
       "      <td>wzxC</td>\n",
       "      <td>2120337</td>\n",
       "      <td>rev</td>\n",
       "      <td>comp</td>\n",
       "    </tr>\n",
       "    <tr>\n",
       "      <th>6</th>\n",
       "      <td>ycgB</td>\n",
       "      <td>1237285</td>\n",
       "      <td>rev</td>\n",
       "      <td>comp</td>\n",
       "    </tr>\n",
       "    <tr>\n",
       "      <th>7</th>\n",
       "      <td>ymgC</td>\n",
       "      <td>1215752</td>\n",
       "      <td>fwd</td>\n",
       "      <td>operator</td>\n",
       "    </tr>\n",
       "    <tr>\n",
       "      <th>8</th>\n",
       "      <td>tff</td>\n",
       "      <td>0</td>\n",
       "      <td>fwd</td>\n",
       "      <td>already done.</td>\n",
       "    </tr>\n",
       "  </tbody>\n",
       "</table>\n",
       "</div>"
      ],
      "text/plain": [
       "   name  start_site  rev                     notes\n",
       "0  livM     3597755  rev                       NaN\n",
       "1  ygbI     2861256  rev          race over comput\n",
       "2  deaD     3308086  rev  full operon over compute\n",
       "3  frlR     3504043  fwd                       NaN\n",
       "4  slyA     1720870  rev                       NaN\n",
       "5  wzxC     2120337  rev                      comp\n",
       "6  ycgB     1237285  rev                      comp\n",
       "7  ymgC     1215752  fwd                  operator\n",
       "8   tff           0  fwd             already done."
      ]
     },
     "execution_count": 5,
     "metadata": {},
     "output_type": "execute_result"
    }
   ],
   "source": [
    "totdf"
   ]
  },
  {
   "cell_type": "code",
   "execution_count": 6,
   "metadata": {
    "collapsed": true
   },
   "outputs": [],
   "source": [
    "#look at only relevant colums for gene name, location of TSS, and whether the\n",
    "#gene transcribes in the reverse direction.\n",
    "totdf = totdf.loc[:,['name','start_site','rev']]"
   ]
  },
  {
   "cell_type": "code",
   "execution_count": 7,
   "metadata": {
    "collapsed": true
   },
   "outputs": [],
   "source": [
    "def find_seq(s):\n",
    "    '''this function gets the 115 base pairs upstream and 45 base pairs downstream\n",
    "    of the TSS. If the gene transcribes in the reverse direction it returns\n",
    "    the reverse complement of this.'''\n",
    "    ss = int(s[1])\n",
    "    if s[2] == 'rev':\n",
    "        \n",
    "        gene = genome[ss-45:ss+115]\n",
    "        tempgene = Seq.Seq(gene)\n",
    "        outgene = str(tempgene.reverse_complement())\n",
    "    elif s[2] == 'fwd':\n",
    "        outgene = genome[ss-115:ss+45]\n",
    "    return outgene"
   ]
  },
  {
   "cell_type": "code",
   "execution_count": 8,
   "metadata": {
    "collapsed": true
   },
   "outputs": [],
   "source": [
    "#get wild type sequence for each TSS.\n",
    "totdf['geneseq'] = totdf.apply(find_seq,axis=1)"
   ]
  },
  {
   "cell_type": "code",
   "execution_count": 9,
   "metadata": {
    "scrolled": true
   },
   "outputs": [
    {
     "data": {
      "text/html": [
       "<div>\n",
       "<style>\n",
       "    .dataframe thead tr:only-child th {\n",
       "        text-align: right;\n",
       "    }\n",
       "\n",
       "    .dataframe thead th {\n",
       "        text-align: left;\n",
       "    }\n",
       "\n",
       "    .dataframe tbody tr th {\n",
       "        vertical-align: top;\n",
       "    }\n",
       "</style>\n",
       "<table border=\"1\" class=\"dataframe\">\n",
       "  <thead>\n",
       "    <tr style=\"text-align: right;\">\n",
       "      <th></th>\n",
       "      <th>name</th>\n",
       "      <th>start_site</th>\n",
       "      <th>rev</th>\n",
       "      <th>geneseq</th>\n",
       "    </tr>\n",
       "  </thead>\n",
       "  <tbody>\n",
       "    <tr>\n",
       "      <th>0</th>\n",
       "      <td>livM</td>\n",
       "      <td>3597755</td>\n",
       "      <td>rev</td>\n",
       "      <td>ACAAAATTAAAACATTAGAGAATGAAAAATGTCCAGCATAATCCCC...</td>\n",
       "    </tr>\n",
       "    <tr>\n",
       "      <th>1</th>\n",
       "      <td>ygbI</td>\n",
       "      <td>2861256</td>\n",
       "      <td>rev</td>\n",
       "      <td>AAGATAACGGTATGGTGATCTGATTCACATAAATTAACATTGTGTG...</td>\n",
       "    </tr>\n",
       "    <tr>\n",
       "      <th>2</th>\n",
       "      <td>deaD</td>\n",
       "      <td>3308086</td>\n",
       "      <td>rev</td>\n",
       "      <td>AAGTACTACCTAAGTCTGGGGGATTTGGACAGCGCCACGGCACTGT...</td>\n",
       "    </tr>\n",
       "    <tr>\n",
       "      <th>3</th>\n",
       "      <td>frlR</td>\n",
       "      <td>3504043</td>\n",
       "      <td>fwd</td>\n",
       "      <td>ATTCAGTACCACGGTGCCTGGTAGGTATAACGTTGGCGTGAGCATC...</td>\n",
       "    </tr>\n",
       "    <tr>\n",
       "      <th>4</th>\n",
       "      <td>slyA</td>\n",
       "      <td>1720870</td>\n",
       "      <td>rev</td>\n",
       "      <td>TAATAAATATTCTTTAAGTGCGAAAAATTTACGCGCAATTTCTGAA...</td>\n",
       "    </tr>\n",
       "    <tr>\n",
       "      <th>5</th>\n",
       "      <td>wzxC</td>\n",
       "      <td>2120337</td>\n",
       "      <td>rev</td>\n",
       "      <td>TCAATGTGCTGACCGGGGGGATGTCGATTGTCGGTCCACGTCCGCA...</td>\n",
       "    </tr>\n",
       "    <tr>\n",
       "      <th>6</th>\n",
       "      <td>ycgB</td>\n",
       "      <td>1237285</td>\n",
       "      <td>rev</td>\n",
       "      <td>TATCCAGCATAAAATTCCGTTCAGAAGCGGATTAGTGGCACTCTGA...</td>\n",
       "    </tr>\n",
       "    <tr>\n",
       "      <th>7</th>\n",
       "      <td>ymgC</td>\n",
       "      <td>1215752</td>\n",
       "      <td>fwd</td>\n",
       "      <td>ATGATGCAATATGTTTTATCATAACACATTGTTTTATATGCATTAG...</td>\n",
       "    </tr>\n",
       "    <tr>\n",
       "      <th>8</th>\n",
       "      <td>tff</td>\n",
       "      <td>0</td>\n",
       "      <td>fwd</td>\n",
       "      <td></td>\n",
       "    </tr>\n",
       "  </tbody>\n",
       "</table>\n",
       "</div>"
      ],
      "text/plain": [
       "   name  start_site  rev                                            geneseq\n",
       "0  livM     3597755  rev  ACAAAATTAAAACATTAGAGAATGAAAAATGTCCAGCATAATCCCC...\n",
       "1  ygbI     2861256  rev  AAGATAACGGTATGGTGATCTGATTCACATAAATTAACATTGTGTG...\n",
       "2  deaD     3308086  rev  AAGTACTACCTAAGTCTGGGGGATTTGGACAGCGCCACGGCACTGT...\n",
       "3  frlR     3504043  fwd  ATTCAGTACCACGGTGCCTGGTAGGTATAACGTTGGCGTGAGCATC...\n",
       "4  slyA     1720870  rev  TAATAAATATTCTTTAAGTGCGAAAAATTTACGCGCAATTTCTGAA...\n",
       "5  wzxC     2120337  rev  TCAATGTGCTGACCGGGGGGATGTCGATTGTCGGTCCACGTCCGCA...\n",
       "6  ycgB     1237285  rev  TATCCAGCATAAAATTCCGTTCAGAAGCGGATTAGTGGCACTCTGA...\n",
       "7  ymgC     1215752  fwd  ATGATGCAATATGTTTTATCATAACACATTGTTTTATATGCATTAG...\n",
       "8   tff           0  fwd                                                   "
      ]
     },
     "execution_count": 9,
     "metadata": {},
     "output_type": "execute_result"
    }
   ],
   "source": [
    "totdf"
   ]
  },
  {
   "cell_type": "code",
   "execution_count": 11,
   "metadata": {
    "collapsed": true
   },
   "outputs": [],
   "source": [
    "#save resulting wild type sequences\n",
    "totdf.to_csv(open('manu_wtseqs.csv','w'))"
   ]
  }
 ],
 "metadata": {
  "kernelspec": {
   "display_name": "Python 2",
   "language": "python",
   "name": "python2"
  },
  "language_info": {
   "codemirror_mode": {
    "name": "ipython",
    "version": 2
   },
   "file_extension": ".py",
   "mimetype": "text/x-python",
   "name": "python",
   "nbconvert_exporter": "python",
   "pygments_lexer": "ipython2",
   "version": "2.7.15"
  }
 },
 "nbformat": 4,
 "nbformat_minor": 2
}
