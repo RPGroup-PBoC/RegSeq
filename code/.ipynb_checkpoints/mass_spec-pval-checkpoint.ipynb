{
 "cells": [
  {
   "cell_type": "code",
   "execution_count": 32,
   "metadata": {},
   "outputs": [],
   "source": [
    "#import basic modules\n",
    "import glob\n",
    "import numpy as np\n",
    "import pandas as pd\n",
    "import matplotlib.pyplot as plt\n",
    "import scipy.stats"
   ]
  },
  {
   "cell_type": "code",
   "execution_count": 33,
   "metadata": {},
   "outputs": [],
   "source": [
    "#load in all mass spec proteinGroup files. These contain the normalized heavy to light ratios for all\n",
    "#identified proteins.\n",
    "allnames = glob.glob('massspec/protein*.txt')"
   ]
  },
  {
   "cell_type": "code",
   "execution_count": 34,
   "metadata": {},
   "outputs": [],
   "source": [
    "#we can also load in the proteinGroup files for only the targets we will be summarizing.\n",
    "all_filtered = glob.glob('massspec/filtered/*')"
   ]
  },
  {
   "cell_type": "code",
   "execution_count": 38,
   "metadata": {},
   "outputs": [],
   "source": [
    "#we will format an output dataframe that contains a mean value and variance the most highly enriched protein\n",
    "#and for all background proteins.\n",
    "#create a dataframe for pvals\n",
    "out_pval = pd.DataFrame(columns=['pval'])\n",
    "#format the output look of each dataframe.\n",
    "pd.set_option('display.max_colwidth', -1)\n",
    "pd.set_option('display.float_format', '{:10,.9f}'.format)"
   ]
  },
  {
   "cell_type": "code",
   "execution_count": 39,
   "metadata": {},
   "outputs": [],
   "source": [
    "#We will loop through all enriched proteins displayed in the figures in the Reg-Seq paper.\n",
    "for z,filtered_name in enumerate(all_filtered):\n",
    "    #load in file with proteins and enrichments\n",
    "    indf = pd.io.parsers.read_csv(filtered_name)\n",
    "    #get the correct column name that contains the heavy to light ratio.\n",
    "    indf_ratio_col = indf.columns[-1]\n",
    "    row = indf.loc[0,:]\n",
    "    name = row['Protein names']\n",
    "\n",
    "    #We use the p-value calculation of cox and mann.\n",
    "    #first we get the column of all enrichment ratios.\n",
    "    q = indf.loc[:,indf_ratio_col]\n",
    "    \n",
    "    #drop any ratios equal to zero.\n",
    "    q = q[q > 1e-8]\n",
    "    #we need to log transform ratios in order to do the p-value calculation.\n",
    "    allratios = np.log(np.array(list(q)))\n",
    "    #we will estimate the S.D. by looking making the following calculations.\n",
    "    [rlow,r0,r1] = np.percentile(allratios,[15.87,50,84.13])\n",
    "    #using the calculated S.D. we can compute the test stat z from the cox and mann paper.\n",
    "    test_stats = calc_test_stat(allratios,r0=r0,r1=r1)\n",
    "    #now we calculate the p_values for each ratio to be an outlier.\n",
    "    p = .5*erfc(test_stats/np.sqrt(2))\n",
    "    #we will look at the lowest p-value to see if the most enriched protein is an outlier\n",
    "    pval = p.min()\n",
    "    #to correct for multiple hypothesis testing we will multiply by the number of enrichment ratios\n",
    "    pval = pval*\n",
    "    #write results to file. To correct for multiple hypothesis testing \n",
    "    with open('test_pval','a') as f:\n",
    "        f.write(indf_ratio_col + ',' + str(p.min()*len(allratios)) + '\\n')"
   ]
  }
 ],
 "metadata": {
  "kernelspec": {
   "display_name": "Python 3",
   "language": "python",
   "name": "python3"
  },
  "language_info": {
   "codemirror_mode": {
    "name": "ipython",
    "version": 3
   },
   "file_extension": ".py",
   "mimetype": "text/x-python",
   "name": "python",
   "nbconvert_exporter": "python",
   "pygments_lexer": "ipython3",
   "version": "3.6.9"
  }
 },
 "nbformat": 4,
 "nbformat_minor": 2
}
