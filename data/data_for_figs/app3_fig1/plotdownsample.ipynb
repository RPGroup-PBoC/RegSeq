{
 "cells": [
  {
   "cell_type": "markdown",
   "metadata": {},
   "source": [
    "# Appendix 3 Figure 1"
   ]
  },
  {
   "cell_type": "markdown",
   "metadata": {},
   "source": [
    "The code in this tutorial is released under the [MIT License](https://opensource.org/licenses/MIT). All the content in this notebook is under a [CC-by 4.0 License](https://creativecommons.org/licenses/by/4.0/). "
   ]
  },
  {
   "cell_type": "code",
   "execution_count": 1,
   "metadata": {},
   "outputs": [],
   "source": [
    "import matplotlib.pyplot as plt\n",
    "import numpy as np\n",
    "import pandas as pd\n",
    "import seaborn as sns\n",
    "import regseq.utils\n",
    "\n",
    "# Set plotting theme for matplotlib\n",
    "regseq.utils.pboc_style_mpl()"
   ]
  },
  {
   "cell_type": "markdown",
   "metadata": {},
   "source": [
    "In this plot we show the Pearson correlation as a function of the number of unique DNA sequences. For seven different genes, we studied how the number of mutated DNA sequences affects the reproducibility of our MCMC inference models. As the number of unique sequences increases, so too does the Pearson correlation value, approaching 1.0.\n",
    "\n",
    "First we load in the dataframe with the data."
   ]
  },
  {
   "cell_type": "code",
   "execution_count": 2,
   "metadata": {},
   "outputs": [
    {
     "data": {
      "text/html": [
       "<div>\n",
       "<style scoped>\n",
       "    .dataframe tbody tr th:only-of-type {\n",
       "        vertical-align: middle;\n",
       "    }\n",
       "\n",
       "    .dataframe tbody tr th {\n",
       "        vertical-align: top;\n",
       "    }\n",
       "\n",
       "    .dataframe thead th {\n",
       "        text-align: right;\n",
       "    }\n",
       "</style>\n",
       "<table border=\"1\" class=\"dataframe\">\n",
       "  <thead>\n",
       "    <tr style=\"text-align: right;\">\n",
       "      <th></th>\n",
       "      <th>gene</th>\n",
       "      <th>count</th>\n",
       "      <th>rep0</th>\n",
       "      <th>rep1</th>\n",
       "      <th>rep2</th>\n",
       "    </tr>\n",
       "  </thead>\n",
       "  <tbody>\n",
       "    <tr>\n",
       "      <th>0</th>\n",
       "      <td>aphA</td>\n",
       "      <td>1500</td>\n",
       "      <td>0.975593</td>\n",
       "      <td>0.977398</td>\n",
       "      <td>0.972043</td>\n",
       "    </tr>\n",
       "    <tr>\n",
       "      <th>1</th>\n",
       "      <td>aphA</td>\n",
       "      <td>1250</td>\n",
       "      <td>0.968210</td>\n",
       "      <td>0.981550</td>\n",
       "      <td>0.968183</td>\n",
       "    </tr>\n",
       "    <tr>\n",
       "      <th>2</th>\n",
       "      <td>aphA</td>\n",
       "      <td>1000</td>\n",
       "      <td>0.970339</td>\n",
       "      <td>0.954077</td>\n",
       "      <td>0.981444</td>\n",
       "    </tr>\n",
       "    <tr>\n",
       "      <th>3</th>\n",
       "      <td>aphA</td>\n",
       "      <td>750</td>\n",
       "      <td>0.880134</td>\n",
       "      <td>0.931773</td>\n",
       "      <td>0.917663</td>\n",
       "    </tr>\n",
       "    <tr>\n",
       "      <th>4</th>\n",
       "      <td>aphA</td>\n",
       "      <td>500</td>\n",
       "      <td>0.853759</td>\n",
       "      <td>0.831728</td>\n",
       "      <td>0.829712</td>\n",
       "    </tr>\n",
       "  </tbody>\n",
       "</table>\n",
       "</div>"
      ],
      "text/plain": [
       "   gene  count      rep0      rep1      rep2\n",
       "0  aphA   1500  0.975593  0.977398  0.972043\n",
       "1  aphA   1250  0.968210  0.981550  0.968183\n",
       "2  aphA   1000  0.970339  0.954077  0.981444\n",
       "3  aphA    750  0.880134  0.931773  0.917663\n",
       "4  aphA    500  0.853759  0.831728  0.829712"
      ]
     },
     "execution_count": 2,
     "metadata": {},
     "output_type": "execute_result"
    }
   ],
   "source": [
    "df = pd.read_csv('SI_number_of_sequences_correlation', delim_whitespace=True)\n",
    "df.head()"
   ]
  },
  {
   "cell_type": "markdown",
   "metadata": {},
   "source": [
    "First we extract all genes that were considered in this analysis."
   ]
  },
  {
   "cell_type": "code",
   "execution_count": 3,
   "metadata": {},
   "outputs": [
    {
     "data": {
      "text/plain": [
       "['aphA', 'araC', 'leuABCD', 'maoP', 'tig', 'hslU', 'rspA']"
      ]
     },
     "execution_count": 3,
     "metadata": {},
     "output_type": "execute_result"
    }
   ],
   "source": [
    "allgenes = list(set(df['gene']))\n",
    "allgenes"
   ]
  },
  {
   "cell_type": "markdown",
   "metadata": {},
   "source": [
    "We also need to extract all number of sequence variants that were used in the analysis."
   ]
  },
  {
   "cell_type": "code",
   "execution_count": 4,
   "metadata": {},
   "outputs": [
    {
     "data": {
      "text/plain": [
       "array([ 250,  500,  750, 1000, 1250, 1500])"
      ]
     },
     "execution_count": 4,
     "metadata": {},
     "output_type": "execute_result"
    }
   ],
   "source": [
    "allvals = np.sort(list(set(df['count'].unique())))\n",
    "allvals"
   ]
  },
  {
   "cell_type": "markdown",
   "metadata": {},
   "source": [
    "We define a short helper function to find the right entries in the DataFrame."
   ]
  },
  {
   "cell_type": "code",
   "execution_count": 5,
   "metadata": {},
   "outputs": [],
   "source": [
    "def check_correct(s,gene='test',count=0):\n",
    "    if s['gene'] == gene and s['count'] == count:\n",
    "        return True\n",
    "    else:\n",
    "        return False"
   ]
  },
  {
   "cell_type": "markdown",
   "metadata": {},
   "source": [
    "Now we can plot the results. We plot the mean of three repetitions of the analysis. We plot error bars for the standard deviation for these three runs. Final edits were perfomered in Adobe Illustrator."
   ]
  },
  {
   "cell_type": "code",
   "execution_count": 6,
   "metadata": {},
   "outputs": [
    {
     "data": {
      "image/png": "[encoded data removed]",
      "text/plain": [
       "<Figure size 252x180 with 1 Axes>"
      ]
     },
     "metadata": {},
     "output_type": "display_data"
    }
   ],
   "source": [
    "for gene in allgenes:\n",
    "    v_mean = []\n",
    "    v_std = []\n",
    "    for count in allvals:\n",
    "        \n",
    "        goodrow = df.apply(check_correct,args=(gene,count),axis=1)\n",
    "        right_row = df[goodrow]\n",
    "        v_mean.append(np.mean(np.array(right_row[['rep0','rep1','rep2']])))\n",
    "        v_std.append(np.std((np.array(right_row[['rep0','rep1','rep2']]))))\n",
    "    plt.scatter(allvals,v_mean)\n",
    "    plt.errorbar(allvals,v_mean,yerr=v_std,elinewidth=1,capsize=3,capthick=1,linewidth=0)\n",
    "plt.savefig('downsample_err.eps',format='eps')"
   ]
  }
 ],
 "metadata": {
  "kernelspec": {
   "display_name": "Python (mpathic)",
   "language": "python",
   "name": "mpathic_env"
  },
  "language_info": {
   "codemirror_mode": {
    "name": "ipython",
    "version": 3
   },
   "file_extension": ".py",
   "mimetype": "text/x-python",
   "name": "python",
   "nbconvert_exporter": "python",
   "pygments_lexer": "ipython3",
   "version": "3.6.9"
  }
 },
 "nbformat": 4,
 "nbformat_minor": 4
}
