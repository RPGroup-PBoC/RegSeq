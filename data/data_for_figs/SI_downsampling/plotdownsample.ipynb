{
 "cells": [
  {
   "cell_type": "code",
   "execution_count": null,
   "metadata": {},
   "outputs": [],
   "source": [
    "import matplotlib.pyplot as plt\n",
    "import numpy as np\n",
    "import pandas as pd\n",
    "import seaborn as sns"
   ]
  },
  {
   "cell_type": "code",
   "execution_count": null,
   "metadata": {},
   "outputs": [],
   "source": [
    "df = pd.io.parsers.read_csv('SI_number_of_sequences_correlation',delim_whitespace=True)"
   ]
  },
  {
   "cell_type": "code",
   "execution_count": 3,
   "metadata": {},
   "outputs": [],
   "source": [
    "allgenes = list(set(df['gene']))"
   ]
  },
  {
   "cell_type": "code",
   "execution_count": 4,
   "metadata": {},
   "outputs": [],
   "source": [
    "allvals = [250,500,750,1000,1250,1500]"
   ]
  },
  {
   "cell_type": "code",
   "execution_count": 5,
   "metadata": {},
   "outputs": [],
   "source": [
    "def pboc_style_mpl():\n",
    "    \"\"\"\n",
    "    Formats matplotlib plotting enviroment to that used in\n",
    "    Physical Biology of the Cell, 2nd edition.\n",
    "    \"\"\"\n",
    "    rc = {'lines.linewidth': 1.25,\n",
    "          'axes.labelsize': 8,\n",
    "          'axes.titlesize': 9,\n",
    "          'axes.facecolor': '#E3DCD0',\n",
    "          'xtick.labelsize': 7,\n",
    "          'ytick.labelsize': 7,\n",
    "          'font.family': 'Lucida Sans Unicode',\n",
    "          'grid.linestyle': '-',\n",
    "          'grid.linewidth': 0.5,\n",
    "          'grid.color': '#ffffff',\n",
    "          'legend.fontsize': 8,\n",
    "          'figure.dpi': 300,\n",
    "          'savefig.dpi': 300}\n",
    "    plt.rc('text.latex', preamble=r'\\usepackage{sfmath}')\n",
    "    plt.rc('xtick.major', pad=-1)\n",
    "    plt.rc('ytick.major', pad=-1)\n",
    "    plt.rc('mathtext', fontset='stixsans', sf='sansserif')\n",
    "    plt.rc('figure', figsize=[3.5, 2.5])\n",
    "    plt.rc('svg', fonttype='none')\n",
    "    plt.rc('legend', title_fontsize='8', frameon=True,\n",
    "           facecolor='#E3DCD0', framealpha=1)\n",
    "    sns.set_style('darkgrid', rc=rc)\n",
    "    sns.set_palette(\"colorblind\", color_codes=True)\n",
    "    sns.set_context('notebook', rc=rc)\n",
    "pboc_style_mpl()"
   ]
  },
  {
   "cell_type": "code",
   "execution_count": 6,
   "metadata": {},
   "outputs": [],
   "source": [
    "def check_correct(s,gene='test',count=0):\n",
    "    if s['gene'] == gene and s['count'] == count:\n",
    "        return True\n",
    "    else:\n",
    "        return False"
   ]
  },
  {
   "cell_type": "code",
   "execution_count": 9,
   "metadata": {},
   "outputs": [],
   "source": [
    "allgenes = ['hslU','araC','leuABCD','maoP','tig','aphA','rspA']"
   ]
  },
  {
   "cell_type": "code",
   "execution_count": 12,
   "metadata": {},
   "outputs": [
    {
     "data": {
      "image/png": "[encoded data removed]",
      "text/plain": [
       "<Figure size 252x180 with 1 Axes>"
      ]
     },
     "metadata": {},
     "output_type": "display_data"
    }
   ],
   "source": [
    "for gene in allgenes:\n",
    "    v_mean = []\n",
    "    v_std = []\n",
    "    for count in allvals:\n",
    "        \n",
    "        goodrow = df.apply(check_correct,args=(gene,count),axis=1)\n",
    "        right_row = df[goodrow]\n",
    "        v_mean.append(np.mean(np.array(right_row[['rep0','rep1','rep2']])))\n",
    "        v_std.append(np.std((np.array(right_row[['rep0','rep1','rep2']]))))\n",
    "    plt.scatter(allvals,v_mean)\n",
    "    plt.errorbar(allvals,v_mean,yerr=v_std,elinewidth=1,capsize=3,capthick=1,linewidth=0)\n",
    "plt.savefig('downsample_err.eps',format='eps')"
   ]
  },
  {
   "cell_type": "code",
   "execution_count": 30,
   "metadata": {},
   "outputs": [
    {
     "data": {
      "text/plain": [
       "[0.0, 0.0, 0.0, 0.0, 0.0, 0.0]"
      ]
     },
     "execution_count": 30,
     "metadata": {},
     "output_type": "execute_result"
    }
   ],
   "source": [
    "v_std"
   ]
  },
  {
   "cell_type": "code",
   "execution_count": null,
   "metadata": {},
   "outputs": [],
   "source": []
  }
 ],
 "metadata": {
  "kernelspec": {
   "display_name": "Python 3",
   "language": "python",
   "name": "python3"
  },
  "language_info": {
   "codemirror_mode": {
    "name": "ipython",
    "version": 3
   },
   "file_extension": ".py",
   "mimetype": "text/x-python",
   "name": "python",
   "nbconvert_exporter": "python",
   "pygments_lexer": "ipython3",
   "version": "3.6.9"
  }
 },
 "nbformat": 4,
 "nbformat_minor": 2
}
