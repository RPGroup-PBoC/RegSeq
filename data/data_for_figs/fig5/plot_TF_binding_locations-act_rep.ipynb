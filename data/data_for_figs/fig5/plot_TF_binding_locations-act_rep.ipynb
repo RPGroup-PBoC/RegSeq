{
 "cells": [
  {
   "cell_type": "code",
   "execution_count": 1,
   "metadata": {},
   "outputs": [],
   "source": [
    "import pandas as pd"
   ]
  },
  {
   "cell_type": "code",
   "execution_count": 2,
   "metadata": {},
   "outputs": [],
   "source": [
    "import matplotlib.pyplot as plt\n",
    "#import ecdf\n",
    "import seaborn as sns"
   ]
  },
  {
   "cell_type": "code",
   "execution_count": 3,
   "metadata": {},
   "outputs": [],
   "source": [
    "import numpy as np"
   ]
  },
  {
   "cell_type": "code",
   "execution_count": 4,
   "metadata": {},
   "outputs": [],
   "source": [
    "def ecdf(data):\n",
    "    \"\"\"Compute x, y values for an empirical distribution function.\"\"\"\n",
    "    x = np.sort(data)\n",
    "    y = np.arange(1, len(data)+1) / len(data)\n",
    "    return x, y"
   ]
  },
  {
   "cell_type": "code",
   "execution_count": 5,
   "metadata": {},
   "outputs": [],
   "source": [
    "def pboc_style_mpl():\n",
    "    \"\"\"\n",
    "    Formats matplotlib plotting enviroment to that used in\n",
    "    Physical Biology of the Cell, 2nd edition.\n",
    "    \"\"\"\n",
    "    rc = {'lines.linewidth': 1.25,\n",
    "          'axes.labelsize': 8,\n",
    "          'axes.titlesize': 9,\n",
    "          'axes.facecolor': '#E3DCD0',\n",
    "          'xtick.labelsize': 7,\n",
    "          'ytick.labelsize': 7,\n",
    "          'font.family': 'Lucida Sans Unicode',\n",
    "          'grid.linestyle': '-',\n",
    "          'grid.linewidth': 0.5,\n",
    "          'grid.color': '#ffffff',\n",
    "          'legend.fontsize': 8,\n",
    "          'figure.dpi': 300,\n",
    "          'savefig.dpi': 300}\n",
    "    plt.rc('text.latex', preamble=r'\\usepackage{sfmath}')\n",
    "    plt.rc('xtick.major', pad=-1)\n",
    "    plt.rc('ytick.major', pad=-1)\n",
    "    plt.rc('mathtext', fontset='stixsans', sf='sansserif')\n",
    "    plt.rc('figure', figsize=[3.5, 2.5])\n",
    "    plt.rc('svg', fonttype='none')\n",
    "    sns.set_style('darkgrid', rc=rc)\n",
    "    sns.set_palette(\"colorblind\", color_codes=True)\n",
    "    sns.set_context('notebook', rc=rc)\n",
    "pboc_style_mpl()"
   ]
  },
  {
   "cell_type": "code",
   "execution_count": 14,
   "metadata": {},
   "outputs": [],
   "source": [
    "df = pd.io.parsers.read_csv('/home/bill/TF_binding_locations_v2',sep=',')"
   ]
  },
  {
   "cell_type": "code",
   "execution_count": 16,
   "metadata": {},
   "outputs": [],
   "source": [
    "df = df[['gene','start','end','RNAP','type']]"
   ]
  },
  {
   "cell_type": "code",
   "execution_count": 17,
   "metadata": {},
   "outputs": [
    {
     "data": {
      "text/html": [
       "<div>\n",
       "<style scoped>\n",
       "    .dataframe tbody tr th:only-of-type {\n",
       "        vertical-align: middle;\n",
       "    }\n",
       "\n",
       "    .dataframe tbody tr th {\n",
       "        vertical-align: top;\n",
       "    }\n",
       "\n",
       "    .dataframe thead th {\n",
       "        text-align: right;\n",
       "    }\n",
       "</style>\n",
       "<table border=\"1\" class=\"dataframe\">\n",
       "  <thead>\n",
       "    <tr style=\"text-align: right;\">\n",
       "      <th></th>\n",
       "      <th>gene</th>\n",
       "      <th>start</th>\n",
       "      <th>end</th>\n",
       "      <th>RNAP</th>\n",
       "      <th>type</th>\n",
       "    </tr>\n",
       "  </thead>\n",
       "  <tbody>\n",
       "    <tr>\n",
       "      <th>0</th>\n",
       "      <td>bdcR</td>\n",
       "      <td>88</td>\n",
       "      <td>109</td>\n",
       "      <td>105</td>\n",
       "      <td>rep</td>\n",
       "    </tr>\n",
       "    <tr>\n",
       "      <th>1</th>\n",
       "      <td>ftsK</td>\n",
       "      <td>107</td>\n",
       "      <td>119</td>\n",
       "      <td>100</td>\n",
       "      <td>rep</td>\n",
       "    </tr>\n",
       "    <tr>\n",
       "      <th>2</th>\n",
       "      <td>ykgE</td>\n",
       "      <td>12</td>\n",
       "      <td>33</td>\n",
       "      <td>74</td>\n",
       "      <td>act</td>\n",
       "    </tr>\n",
       "    <tr>\n",
       "      <th>3</th>\n",
       "      <td>ykgE</td>\n",
       "      <td>80</td>\n",
       "      <td>92</td>\n",
       "      <td>74</td>\n",
       "      <td>rep</td>\n",
       "    </tr>\n",
       "    <tr>\n",
       "      <th>4</th>\n",
       "      <td>groSL</td>\n",
       "      <td>120</td>\n",
       "      <td>130</td>\n",
       "      <td>133</td>\n",
       "      <td>act</td>\n",
       "    </tr>\n",
       "    <tr>\n",
       "      <th>...</th>\n",
       "      <td>...</td>\n",
       "      <td>...</td>\n",
       "      <td>...</td>\n",
       "      <td>...</td>\n",
       "      <td>...</td>\n",
       "    </tr>\n",
       "    <tr>\n",
       "      <th>73</th>\n",
       "      <td>mutM</td>\n",
       "      <td>92</td>\n",
       "      <td>106</td>\n",
       "      <td>104</td>\n",
       "      <td>rep</td>\n",
       "    </tr>\n",
       "    <tr>\n",
       "      <th>74</th>\n",
       "      <td>ydjA</td>\n",
       "      <td>103</td>\n",
       "      <td>111</td>\n",
       "      <td>102</td>\n",
       "      <td>rep</td>\n",
       "    </tr>\n",
       "    <tr>\n",
       "      <th>75</th>\n",
       "      <td>dcm</td>\n",
       "      <td>79</td>\n",
       "      <td>90</td>\n",
       "      <td>149</td>\n",
       "      <td>rep</td>\n",
       "    </tr>\n",
       "    <tr>\n",
       "      <th>76</th>\n",
       "      <td>ybjL</td>\n",
       "      <td>28</td>\n",
       "      <td>37</td>\n",
       "      <td>104</td>\n",
       "      <td>rep</td>\n",
       "    </tr>\n",
       "    <tr>\n",
       "      <th>77</th>\n",
       "      <td>ybjL</td>\n",
       "      <td>101</td>\n",
       "      <td>113</td>\n",
       "      <td>104</td>\n",
       "      <td>rep</td>\n",
       "    </tr>\n",
       "  </tbody>\n",
       "</table>\n",
       "<p>78 rows × 5 columns</p>\n",
       "</div>"
      ],
      "text/plain": [
       "     gene  start  end  RNAP type\n",
       "0    bdcR     88  109   105  rep\n",
       "1    ftsK    107  119   100  rep\n",
       "2    ykgE     12   33    74  act\n",
       "3    ykgE     80   92    74  rep\n",
       "4   groSL    120  130   133  act\n",
       "..    ...    ...  ...   ...  ...\n",
       "73   mutM     92  106   104  rep\n",
       "74   ydjA    103  111   102  rep\n",
       "75    dcm     79   90   149  rep\n",
       "76   ybjL     28   37   104  rep\n",
       "77   ybjL    101  113   104  rep\n",
       "\n",
       "[78 rows x 5 columns]"
      ]
     },
     "execution_count": 17,
     "metadata": {},
     "output_type": "execute_result"
    }
   ],
   "source": [
    "df"
   ]
  },
  {
   "cell_type": "code",
   "execution_count": 18,
   "metadata": {},
   "outputs": [],
   "source": [
    "df_act = df.loc[df['type'] == 'act']"
   ]
  },
  {
   "cell_type": "code",
   "execution_count": 19,
   "metadata": {},
   "outputs": [],
   "source": [
    "df_rep = df.loc[df['type'] == 'rep']"
   ]
  },
  {
   "cell_type": "code",
   "execution_count": 20,
   "metadata": {},
   "outputs": [],
   "source": [
    "def convert_int(s):\n",
    "    return int(s)"
   ]
  },
  {
   "cell_type": "code",
   "execution_count": null,
   "metadata": {},
   "outputs": [],
   "source": []
  },
  {
   "cell_type": "code",
   "execution_count": 21,
   "metadata": {},
   "outputs": [],
   "source": [
    "middle_act = (df_act['end'].apply(convert_int) - df_act['start'].apply(convert_int))/2 + df_act['start'].apply(convert_int)"
   ]
  },
  {
   "cell_type": "markdown",
   "metadata": {},
   "source": [
    "RNAP value is the location of the -11 element of the RNAP binding site."
   ]
  },
  {
   "cell_type": "code",
   "execution_count": 22,
   "metadata": {},
   "outputs": [],
   "source": [
    "output_act = middle_act - df_act['RNAP'] -11"
   ]
  },
  {
   "cell_type": "code",
   "execution_count": 36,
   "metadata": {},
   "outputs": [
    {
     "data": {
      "text/plain": [
       "<Figure size 252x180 with 0 Axes>"
      ]
     },
     "metadata": {},
     "output_type": "display_data"
    },
    {
     "data": {
      "image/png": "[encoded data removed]",
      "text/plain": [
       "<Figure size 252x180 with 1 Axes>"
      ]
     },
     "metadata": {},
     "output_type": "display_data"
    }
   ],
   "source": [
    "plt.clf()\n",
    "fig,ax = plt.subplots()\n",
    "plt.hist(output_act,bins=np.linspace(-115,45,21))\n",
    "ax.set_xlim([-115,45])\n",
    "plt.savefig('TF_binding_locations_act_june.eps',format='eps')\n",
    "#plt.show()"
   ]
  },
  {
   "cell_type": "code",
   "execution_count": 30,
   "metadata": {},
   "outputs": [],
   "source": [
    "middle_rep = (df_rep['end'].apply(convert_int) - df_rep['start'].apply(convert_int))/2 + df_rep['start'].apply(convert_int)"
   ]
  },
  {
   "cell_type": "code",
   "execution_count": 31,
   "metadata": {},
   "outputs": [],
   "source": [
    "output_rep = middle_rep - df_rep['RNAP'] -11"
   ]
  },
  {
   "cell_type": "code",
   "execution_count": 35,
   "metadata": {},
   "outputs": [
    {
     "data": {
      "text/plain": [
       "<Figure size 252x180 with 0 Axes>"
      ]
     },
     "metadata": {},
     "output_type": "display_data"
    },
    {
     "data": {
      "image/png": "[encoded data removed]",
      "text/plain": [
       "<Figure size 252x180 with 1 Axes>"
      ]
     },
     "metadata": {},
     "output_type": "display_data"
    }
   ],
   "source": [
    "plt.clf()\n",
    "fig,ax = plt.subplots()\n",
    "\n",
    "plt.hist(output_rep,bins=np.linspace(-115,45,21))\n",
    "ax.set_xlim([-115,45])\n",
    "plt.savefig('TF_binding_locations_rep_june2020.eps',format='eps')\n",
    "#plt.show()"
   ]
  }
 ],
 "metadata": {
  "kernelspec": {
   "display_name": "Python 3",
   "language": "python",
   "name": "python3"
  },
  "language_info": {
   "codemirror_mode": {
    "name": "ipython",
    "version": 3
   },
   "file_extension": ".py",
   "mimetype": "text/x-python",
   "name": "python",
   "nbconvert_exporter": "python",
   "pygments_lexer": "ipython3",
   "version": "3.6.9"
  }
 },
 "nbformat": 4,
 "nbformat_minor": 2
}
