{
 "cells": [
  {
   "cell_type": "markdown",
   "metadata": {},
   "source": [
    "# Creating Figure 5"
   ]
  },
  {
   "cell_type": "markdown",
   "metadata": {},
   "source": [
    "The code in this tutorial is released under the [MIT License](https://opensource.org/licenses/MIT). All the content in this notebook is under a [CC-by 4.0 License](https://creativecommons.org/licenses/by/4.0/). "
   ]
  },
  {
   "cell_type": "markdown",
   "metadata": {},
   "source": [
    "Figure 5 of the main text shows a summary of all regulatory architectures discovered in the study."
   ]
  },
  {
   "cell_type": "code",
   "execution_count": 13,
   "metadata": {},
   "outputs": [],
   "source": [
    "import pandas as pd\n",
    "import numpy as np\n",
    "\n",
    "import matplotlib.pyplot as plt\n",
    "import seaborn as sns\n",
    "\n",
    "import regseq.utils\n",
    "\n",
    "# Set plotting style\n",
    "regseq.utils.pboc_style_mpl()"
   ]
  },
  {
   "cell_type": "markdown",
   "metadata": {},
   "source": [
    "Import data file contain transcription factor binding site locations."
   ]
  },
  {
   "cell_type": "code",
   "execution_count": 24,
   "metadata": {},
   "outputs": [
    {
     "data": {
      "text/html": [
       "<div>\n",
       "<style scoped>\n",
       "    .dataframe tbody tr th:only-of-type {\n",
       "        vertical-align: middle;\n",
       "    }\n",
       "\n",
       "    .dataframe tbody tr th {\n",
       "        vertical-align: top;\n",
       "    }\n",
       "\n",
       "    .dataframe thead th {\n",
       "        text-align: right;\n",
       "    }\n",
       "</style>\n",
       "<table border=\"1\" class=\"dataframe\">\n",
       "  <thead>\n",
       "    <tr style=\"text-align: right;\">\n",
       "      <th></th>\n",
       "      <th>gene</th>\n",
       "      <th>type</th>\n",
       "      <th>start</th>\n",
       "      <th>end</th>\n",
       "      <th>TF name</th>\n",
       "      <th>newly discovered</th>\n",
       "      <th>growth condition derived</th>\n",
       "      <th>RNAP</th>\n",
       "    </tr>\n",
       "  </thead>\n",
       "  <tbody>\n",
       "    <tr>\n",
       "      <th>0</th>\n",
       "      <td>bdcR</td>\n",
       "      <td>rep</td>\n",
       "      <td>88</td>\n",
       "      <td>109</td>\n",
       "      <td>NsrR</td>\n",
       "      <td>yes</td>\n",
       "      <td>Anaero</td>\n",
       "      <td>105</td>\n",
       "    </tr>\n",
       "    <tr>\n",
       "      <th>2</th>\n",
       "      <td>ykgE</td>\n",
       "      <td>act</td>\n",
       "      <td>12</td>\n",
       "      <td>33</td>\n",
       "      <td>FNR</td>\n",
       "      <td>yes</td>\n",
       "      <td>Anaero</td>\n",
       "      <td>74</td>\n",
       "    </tr>\n",
       "    <tr>\n",
       "      <th>3</th>\n",
       "      <td>ykgE</td>\n",
       "      <td>rep</td>\n",
       "      <td>80</td>\n",
       "      <td>92</td>\n",
       "      <td>YieP</td>\n",
       "      <td>yes</td>\n",
       "      <td>Anaero</td>\n",
       "      <td>74</td>\n",
       "    </tr>\n",
       "    <tr>\n",
       "      <th>8</th>\n",
       "      <td>rapA</td>\n",
       "      <td>rep</td>\n",
       "      <td>110</td>\n",
       "      <td>125</td>\n",
       "      <td>GlpR</td>\n",
       "      <td>yes</td>\n",
       "      <td>heat shock</td>\n",
       "      <td>105</td>\n",
       "    </tr>\n",
       "    <tr>\n",
       "      <th>22</th>\n",
       "      <td>ilvC</td>\n",
       "      <td>rep</td>\n",
       "      <td>84</td>\n",
       "      <td>90</td>\n",
       "      <td>IlvY</td>\n",
       "      <td>yes</td>\n",
       "      <td>Fe</td>\n",
       "      <td>107</td>\n",
       "    </tr>\n",
       "  </tbody>\n",
       "</table>\n",
       "</div>"
      ],
      "text/plain": [
       "    gene type  start  end TF name newly discovered growth condition derived  \\\n",
       "0   bdcR  rep     88  109    NsrR              yes                   Anaero   \n",
       "2   ykgE  act     12   33     FNR              yes                   Anaero   \n",
       "3   ykgE  rep     80   92    YieP              yes                   Anaero   \n",
       "8   rapA  rep    110  125    GlpR              yes               heat shock   \n",
       "22  ilvC  rep     84   90    IlvY              yes                       Fe   \n",
       "\n",
       "    RNAP  \n",
       "0    105  \n",
       "2     74  \n",
       "3     74  \n",
       "8    105  \n",
       "22   107  "
      ]
     },
     "execution_count": 24,
     "metadata": {},
     "output_type": "execute_result"
    }
   ],
   "source": [
    "df = pd.read_csv('TF_binding_locations_v2')\n",
    "\n",
    "df = df.loc[df['newly discovered'] == \"yes\", :]\n",
    "df.head()"
   ]
  },
  {
   "cell_type": "markdown",
   "metadata": {},
   "source": [
    "Read out all activator and repressor binding sites respectively."
   ]
  },
  {
   "cell_type": "code",
   "execution_count": 25,
   "metadata": {},
   "outputs": [],
   "source": [
    "df_act = df.loc[df['type'] == 'act']\n",
    "df_rep = df.loc[df['type'] == 'rep']"
   ]
  },
  {
   "cell_type": "markdown",
   "metadata": {},
   "source": [
    "Write a short helper function to transform values to `int` using Pandas."
   ]
  },
  {
   "cell_type": "code",
   "execution_count": 26,
   "metadata": {},
   "outputs": [],
   "source": [
    "def convert_int(s):\n",
    "    return int(s)"
   ]
  },
  {
   "cell_type": "markdown",
   "metadata": {},
   "source": [
    "Find the center of the binding sites."
   ]
  },
  {
   "cell_type": "code",
   "execution_count": 39,
   "metadata": {},
   "outputs": [],
   "source": [
    "mid_act = (df_act['end'].apply(convert_int) - df_act['start'].apply(convert_int))/2 + df_act['start'].apply(convert_int)\n",
    "mid_rep = (df_rep['end'].apply(convert_int) - df_rep['start'].apply(convert_int))/2 + df_rep['start'].apply(convert_int)"
   ]
  },
  {
   "cell_type": "markdown",
   "metadata": {},
   "source": [
    "Give the position relative to the RNAP binding site. RNAP value is the location of the -11 element of the RNAP binding site."
   ]
  },
  {
   "cell_type": "code",
   "execution_count": 40,
   "metadata": {},
   "outputs": [],
   "source": [
    "output_act = mid_act - df_act['RNAP'] -11\n",
    "output_rep = mid_rep - df_rep['RNAP'] -11"
   ]
  },
  {
   "cell_type": "markdown",
   "metadata": {},
   "source": [
    "Plot the results for activator binding sites."
   ]
  },
  {
   "cell_type": "code",
   "execution_count": 29,
   "metadata": {},
   "outputs": [
    {
     "data": {
      "text/plain": [
       "<Figure size 252x180 with 0 Axes>"
      ]
     },
     "metadata": {},
     "output_type": "display_data"
    },
    {
     "data": {
      "image/png": "[encoded data removed]",
      "text/plain": [
       "<Figure size 252x180 with 1 Axes>"
      ]
     },
     "metadata": {},
     "output_type": "display_data"
    }
   ],
   "source": [
    "plt.clf()\n",
    "fig,ax = plt.subplots()\n",
    "plt.hist(output_act,bins=np.linspace(-115,45,21))\n",
    "ax.set_xlim([-115,45])\n",
    "plt.savefig('TF_binding_locations_act_june.eps',format='eps')\n",
    "#plt.show()"
   ]
  },
  {
   "cell_type": "markdown",
   "metadata": {},
   "source": [
    "Plot the results for repressor binding sites."
   ]
  },
  {
   "cell_type": "code",
   "execution_count": 32,
   "metadata": {},
   "outputs": [
    {
     "data": {
      "text/plain": [
       "<Figure size 252x180 with 0 Axes>"
      ]
     },
     "metadata": {},
     "output_type": "display_data"
    },
    {
     "data": {
      "image/png": "[encoded data removed]",
      "text/plain": [
       "<Figure size 252x180 with 1 Axes>"
      ]
     },
     "metadata": {},
     "output_type": "display_data"
    }
   ],
   "source": [
    "plt.clf()\n",
    "fig,ax = plt.subplots()\n",
    "\n",
    "plt.hist(output_rep,bins=np.linspace(-115,45,21))\n",
    "ax.set_xlim([-115,45])\n",
    "plt.savefig('TF_binding_locations_rep_june2020.eps',format='eps')\n",
    "#plt.show()"
   ]
  },
  {
   "cell_type": "markdown",
   "metadata": {},
   "source": [
    "Let's plot them together."
   ]
  },
  {
   "cell_type": "code",
   "execution_count": 41,
   "metadata": {},
   "outputs": [
    {
     "data": {
      "text/plain": [
       "(-115, 45)"
      ]
     },
     "execution_count": 41,
     "metadata": {},
     "output_type": "execute_result"
    },
    {
     "data": {
      "text/plain": [
       "<Figure size 252x180 with 0 Axes>"
      ]
     },
     "metadata": {},
     "output_type": "display_data"
    },
    {
     "data": {
      "image/png": "[encoded data removed]",
      "text/plain": [
       "<Figure size 252x180 with 1 Axes>"
      ]
     },
     "metadata": {},
     "output_type": "display_data"
    }
   ],
   "source": [
    "plt.clf()\n",
    "fig,ax = plt.subplots()\n",
    "plt.hist(output_act,bins=np.linspace(-115,45,21), label=\"activator\")\n",
    "plt.hist(output_rep,bins=np.linspace(-115,45,21), label=\"repressor\")\n",
    "ax.set_xlim([-115,45])"
   ]
  },
  {
   "cell_type": "code",
   "execution_count": null,
   "metadata": {},
   "outputs": [],
   "source": []
  }
 ],
 "metadata": {
  "kernelspec": {
   "display_name": "Python (mpathic)",
   "language": "python",
   "name": "mpathic_env"
  },
  "language_info": {
   "codemirror_mode": {
    "name": "ipython",
    "version": 3
   },
   "file_extension": ".py",
   "mimetype": "text/x-python",
   "name": "python",
   "nbconvert_exporter": "python",
   "pygments_lexer": "ipython3",
   "version": "3.6.9"
  }
 },
 "nbformat": 4,
 "nbformat_minor": 4
}
