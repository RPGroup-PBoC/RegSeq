{
 "cells": [
  {
   "cell_type": "markdown",
   "metadata": {},
   "source": [
    "# Inference"
   ]
  },
  {
   "cell_type": "markdown",
   "metadata": {},
   "source": [
    "The code in this tutorial is released under the [MIT License](https://opensource.org/licenses/MIT). All the content in this notebook is under a [CC-by 4.0 License](https://creativecommons.org/licenses/by/4.0/). "
   ]
  },
  {
   "cell_type": "code",
   "execution_count": 1,
   "metadata": {},
   "outputs": [],
   "source": [
    "import regseq.inference\n",
    "from mpathic import learn_model\n",
    "import pandas as pd"
   ]
  },
  {
   "cell_type": "markdown",
   "metadata": {},
   "source": [
    "For a detailed explanation of the steps leading to this notebook, as well as the experimental context, refer to the [RegSeq wiki](https://github.com/RPGroup-PBoC/RegSeq/wiki)."
   ]
  },
  {
   "cell_type": "markdown",
   "metadata": {},
   "source": [
    "### Simple Least Squares"
   ]
  },
  {
   "cell_type": "markdown",
   "metadata": {},
   "source": [
    "At this point, we are equipped with the data necessary to use statistical inference tools to compute the effect that each observed mutation had on the expression of the gene. In the `regseq` package, we include a simple linear regression, which estimates the effects of mutations per position, independet of the mutated base. This is a very fast inference, however not very accurate. Therefore it can be used to predict patterns one will see from more sophisticated algorithms."
   ]
  },
  {
   "cell_type": "code",
   "execution_count": 2,
   "metadata": {},
   "outputs": [],
   "source": [
    "?regseq.inference.lin_reg"
   ]
  },
  {
   "cell_type": "markdown",
   "metadata": {},
   "source": [
    "The input is the combined data set of mRNA and DNA counts, which we combined in the previous step. "
   ]
  },
  {
   "cell_type": "code",
   "execution_count": 3,
   "metadata": {},
   "outputs": [],
   "source": [
    "inputname = \"../data/sequencing_data/bdcR_Anaerodataset_combined.csv\"\n",
    "outputname = \"../data/inference_results/bdcR_Anaero_LS_mut_inf.txt\""
   ]
  },
  {
   "cell_type": "markdown",
   "metadata": {},
   "source": [
    "Now we can just run the function and the results will be stored. If one has a lot of data in hand, one can simply iterate through the files and perform the inference."
   ]
  },
  {
   "cell_type": "code",
   "execution_count": 4,
   "metadata": {},
   "outputs": [],
   "source": [
    "regseq.inference.lin_reg(inputname, outputname)"
   ]
  },
  {
   "cell_type": "markdown",
   "metadata": {},
   "source": [
    "## Inference using mpathic"
   ]
  },
  {
   "cell_type": "markdown",
   "metadata": {},
   "source": [
    "To perform more accurate inferences, we use the `mpathic` package, especially the `learn_model` module. We can either use a least squares approach, or maximize information. In both cases, the inference returns an energy matrix. "
   ]
  },
  {
   "cell_type": "markdown",
   "metadata": {},
   "source": [
    "First let's look at the parameters that we need for the function."
   ]
  },
  {
   "cell_type": "code",
   "execution_count": 5,
   "metadata": {},
   "outputs": [],
   "source": [
    "?learn_model.main"
   ]
  },
  {
   "cell_type": "code",
   "execution_count": null,
   "metadata": {},
   "outputs": [],
   "source": []
  },
  {
   "cell_type": "code",
   "execution_count": 6,
   "metadata": {},
   "outputs": [],
   "source": [
    "file = \"../data/sequencing_data/bdcR_Anaerodataset_combined.csv\"\n",
    "df = pd.read_csv(file)\n",
    "db = \"../data/inference_results/bdcR_Anaero_dataset_db\"\n",
    "out = \"../data/inference_results/bdcR_Anaero_LS_mut.csv\""
   ]
  },
  {
   "cell_type": "code",
   "execution_count": 7,
   "metadata": {},
   "outputs": [],
   "source": [
    "ls_df = learn_model.main(\n",
    "    df=df,\n",
    "    lm='LS',\n",
    "    modeltype='MAT',\n",
    "    LS_means_std=None,\n",
    "    db=db,\n",
    "    iteration=30000,\n",
    "    burnin=1000,\n",
    "    thin=10,\n",
    "    runnum=0,\n",
    "    initialize='LS',\n",
    "    start=0,\n",
    "    end=None,\n",
    "    foreground=1,\n",
    "    background=0,\n",
    "    alpha=0,\n",
    "    pseudocounts=1,\n",
    "    test=False,\n",
    "    drop_library=False,\n",
    "    verbose=False,\n",
    ")\n",
    "ls_df.to_csv(out, index=False)"
   ]
  },
  {
   "cell_type": "code",
   "execution_count": 13,
   "metadata": {},
   "outputs": [],
   "source": [
    "file = \"../data/aphAAnaerodataset_alldone_with_large.csv\"\n",
    "df = pd.read_csv(file)\n",
    "db = \"../data/inference_results/bdcR_Anaero_dataset_db\"\n",
    "out = \"../data/inference_results/bdcR_Anaero_MCMC_mut.csv\""
   ]
  },
  {
   "cell_type": "code",
   "execution_count": 18,
   "metadata": {},
   "outputs": [
    {
     "name": "stdout",
     "output_type": "stream",
     "text": [
      " [-----------------100%-----------------] 1000 of 1000 complete in 118.6 sec"
     ]
    }
   ],
   "source": [
    "mcmc_df = learn_model.main(\n",
    "    df=df,\n",
    "    lm='IM',\n",
    "    modeltype='MAT',\n",
    "    LS_means_std=None,\n",
    "    db=db,\n",
    "    iteration=1000,\n",
    "    burnin=10,\n",
    "    thin=10,\n",
    "    runnum=0,\n",
    "    initialize='rand',\n",
    "    start=0,\n",
    "    end=None,\n",
    "    foreground=1,\n",
    "    background=0,\n",
    "    alpha=0,\n",
    "    pseudocounts=1,\n",
    "    test=False,\n",
    "    drop_library=False,\n",
    "    verbose=True,\n",
    ")\n",
    "mcmc_df.to_csv(out, index=False)"
   ]
  },
  {
   "cell_type": "markdown",
   "metadata": {},
   "source": [
    "## Computing Environment"
   ]
  },
  {
   "cell_type": "code",
   "execution_count": 24,
   "metadata": {},
   "outputs": [
    {
     "name": "stdout",
     "output_type": "stream",
     "text": [
      "The watermark extension is already loaded. To reload it, use:\n",
      "  %reload_ext watermark\n",
      "CPython 3.6.9\n",
      "IPython 7.13.0\n",
      "\n",
      "regseq 0.0.2\n"
     ]
    }
   ],
   "source": [
    "%load_ext watermark\n",
    "%watermark -v -p regseq"
   ]
  }
 ],
 "metadata": {
  "kernelspec": {
   "display_name": "Python (mpathic)",
   "language": "python",
   "name": "mpathic_env"
  },
  "language_info": {
   "codemirror_mode": {
    "name": "ipython",
    "version": 3
   },
   "file_extension": ".py",
   "mimetype": "text/x-python",
   "name": "python",
   "nbconvert_exporter": "python",
   "pygments_lexer": "ipython3",
   "version": "3.6.9"
  }
 },
 "nbformat": 4,
 "nbformat_minor": 4
}
