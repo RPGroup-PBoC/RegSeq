{
 "cells": [
  {
   "cell_type": "markdown",
   "metadata": {},
   "source": [
    "# Inference"
   ]
  },
  {
   "cell_type": "markdown",
   "metadata": {},
   "source": [
    "The code in this tutorial is released under the [MIT License](https://opensource.org/licenses/MIT). All the content in this notebook is under a [CC-by 4.0 License](https://creativecommons.org/licenses/by/4.0/). "
   ]
  },
  {
   "cell_type": "code",
   "execution_count": 1,
   "metadata": {},
   "outputs": [],
   "source": [
    "import regseq.inference\n",
    "from mpathic import learn_model\n",
    "import pandas as pd"
   ]
  },
  {
   "cell_type": "markdown",
   "metadata": {},
   "source": [
    "For a detailed explanation of the steps leading to this notebook, as well as the experimental context, refer to the [Reg-Seq wiki](https://github.com/RPGroup-PBoC/RegSeq/wiki)."
   ]
  },
  {
   "cell_type": "markdown",
   "metadata": {},
   "source": [
    "In the previous step the sequence counts from DNA and RNA measurements were combined to a single table for each gene that we considered in the experiment. This information is needed to computed how the mutated bases changed the expression of the gene. To infer how mutations change expression, we can perform multiple types of inferences that are discussed here. Detailed descriptions of the inference methods can be found at [here](https://github.com/RPGroup-PBoC/RegSeq/blob/master/Wiki4_equations.html)."
   ]
  },
  {
   "cell_type": "markdown",
   "metadata": {},
   "source": [
    "### Simple Least Squares"
   ]
  },
  {
   "cell_type": "markdown",
   "metadata": {},
   "source": [
    "At this point, we are equipped with the data necessary to use statistical inference tools to compute the effect that each observed mutation had on the expression of the gene. In the `regseq` package, we include a simple linear regression, which estimates the effects of mutations per position, independent of the mutated base. This is a very fast inference, however not very accurate. Therefore it can be used to predict patterns one will see from more sophisticated algorithms."
   ]
  },
  {
   "cell_type": "code",
   "execution_count": 2,
   "metadata": {},
   "outputs": [
    {
     "data": {
      "text/plain": [
       "\u001b[0;31mSignature:\u001b[0m \u001b[0mregseq\u001b[0m\u001b[0;34m.\u001b[0m\u001b[0minference\u001b[0m\u001b[0;34m.\u001b[0m\u001b[0mlin_reg\u001b[0m\u001b[0;34m(\u001b[0m\u001b[0minputname\u001b[0m\u001b[0;34m,\u001b[0m \u001b[0moutputname\u001b[0m\u001b[0;34m,\u001b[0m \u001b[0mwildtypefile\u001b[0m\u001b[0;34m)\u001b[0m\u001b[0;34m\u001b[0m\u001b[0;34m\u001b[0m\u001b[0m\n",
       "\u001b[0;31mDocstring:\u001b[0m <no docstring>\n",
       "\u001b[0;31mFile:\u001b[0m      ~/git/RegSeq/regseq/inference.py\n",
       "\u001b[0;31mType:\u001b[0m      function\n"
      ]
     },
     "metadata": {},
     "output_type": "display_data"
    }
   ],
   "source": [
    "?regseq.inference.lin_reg"
   ]
  },
  {
   "cell_type": "markdown",
   "metadata": {},
   "source": [
    "The input is the combined data set of mRNA and DNA counts, which we combined in the previous step. The file we need to use here was created in the notebook `4_1_match_data.ipynb.` We need to give a path to the location where the results of the inference are going to be stored. Also, in case a different genes are being used, the location of the file containing wildtype genes can be given. By default, the file we generated in the the first step of this protocol is chosen."
   ]
  },
  {
   "cell_type": "code",
   "execution_count": 3,
   "metadata": {},
   "outputs": [],
   "source": [
    "inputname = \"../data/sequencing_data/bdcR_Anaerodataset_combined.csv\"\n",
    "outputname = \"../data/inference_results/bdcR_Anaero_LS_mut_inf.txt\""
   ]
  },
  {
   "cell_type": "markdown",
   "metadata": {},
   "source": [
    "Now we can just run the function and the results will be stored. If one has a lot of data in hand, one can simply iterate through the files and perform the inference."
   ]
  },
  {
   "cell_type": "code",
   "execution_count": 4,
   "metadata": {},
   "outputs": [],
   "source": [
    "regseq.inference.lin_reg(inputname, outputname, wildtypefile='../data/prior_designs/wtsequences.csv')"
   ]
  },
  {
   "cell_type": "markdown",
   "metadata": {},
   "source": [
    "## Inference using mpathic"
   ]
  },
  {
   "cell_type": "markdown",
   "metadata": {},
   "source": [
    "To perform more accurate inferences, we use the `mpathic` package, especially the `learn_model` module. We can either use a least squares approach, or maximize information. In both cases, the inference returns an energy matrix. "
   ]
  },
  {
   "cell_type": "markdown",
   "metadata": {},
   "source": [
    "First let's look at the parameters that we need for the function."
   ]
  },
  {
   "cell_type": "code",
   "execution_count": 5,
   "metadata": {},
   "outputs": [
    {
     "data": {
      "text/plain": [
       "\u001b[0;31mSignature:\u001b[0m\n",
       "\u001b[0mlearn_model\u001b[0m\u001b[0;34m.\u001b[0m\u001b[0mmain\u001b[0m\u001b[0;34m(\u001b[0m\u001b[0;34m\u001b[0m\n",
       "\u001b[0;34m\u001b[0m    \u001b[0mdf\u001b[0m\u001b[0;34m,\u001b[0m\u001b[0;34m\u001b[0m\n",
       "\u001b[0;34m\u001b[0m    \u001b[0mlm\u001b[0m\u001b[0;34m=\u001b[0m\u001b[0;34m'IM'\u001b[0m\u001b[0;34m,\u001b[0m\u001b[0;34m\u001b[0m\n",
       "\u001b[0;34m\u001b[0m    \u001b[0mmodeltype\u001b[0m\u001b[0;34m=\u001b[0m\u001b[0;34m'MAT'\u001b[0m\u001b[0;34m,\u001b[0m\u001b[0;34m\u001b[0m\n",
       "\u001b[0;34m\u001b[0m    \u001b[0mLS_means_std\u001b[0m\u001b[0;34m=\u001b[0m\u001b[0;32mNone\u001b[0m\u001b[0;34m,\u001b[0m\u001b[0;34m\u001b[0m\n",
       "\u001b[0;34m\u001b[0m    \u001b[0mdb\u001b[0m\u001b[0;34m=\u001b[0m\u001b[0;32mNone\u001b[0m\u001b[0;34m,\u001b[0m\u001b[0;34m\u001b[0m\n",
       "\u001b[0;34m\u001b[0m    \u001b[0miteration\u001b[0m\u001b[0;34m=\u001b[0m\u001b[0;36m30000\u001b[0m\u001b[0;34m,\u001b[0m\u001b[0;34m\u001b[0m\n",
       "\u001b[0;34m\u001b[0m    \u001b[0mburnin\u001b[0m\u001b[0;34m=\u001b[0m\u001b[0;36m1000\u001b[0m\u001b[0;34m,\u001b[0m\u001b[0;34m\u001b[0m\n",
       "\u001b[0;34m\u001b[0m    \u001b[0mthin\u001b[0m\u001b[0;34m=\u001b[0m\u001b[0;36m10\u001b[0m\u001b[0;34m,\u001b[0m\u001b[0;34m\u001b[0m\n",
       "\u001b[0;34m\u001b[0m    \u001b[0mrunnum\u001b[0m\u001b[0;34m=\u001b[0m\u001b[0;36m0\u001b[0m\u001b[0;34m,\u001b[0m\u001b[0;34m\u001b[0m\n",
       "\u001b[0;34m\u001b[0m    \u001b[0minitialize\u001b[0m\u001b[0;34m=\u001b[0m\u001b[0;34m'LS'\u001b[0m\u001b[0;34m,\u001b[0m\u001b[0;34m\u001b[0m\n",
       "\u001b[0;34m\u001b[0m    \u001b[0mstart\u001b[0m\u001b[0;34m=\u001b[0m\u001b[0;36m0\u001b[0m\u001b[0;34m,\u001b[0m\u001b[0;34m\u001b[0m\n",
       "\u001b[0;34m\u001b[0m    \u001b[0mend\u001b[0m\u001b[0;34m=\u001b[0m\u001b[0;32mNone\u001b[0m\u001b[0;34m,\u001b[0m\u001b[0;34m\u001b[0m\n",
       "\u001b[0;34m\u001b[0m    \u001b[0mforeground\u001b[0m\u001b[0;34m=\u001b[0m\u001b[0;36m1\u001b[0m\u001b[0;34m,\u001b[0m\u001b[0;34m\u001b[0m\n",
       "\u001b[0;34m\u001b[0m    \u001b[0mbackground\u001b[0m\u001b[0;34m=\u001b[0m\u001b[0;36m0\u001b[0m\u001b[0;34m,\u001b[0m\u001b[0;34m\u001b[0m\n",
       "\u001b[0;34m\u001b[0m    \u001b[0malpha\u001b[0m\u001b[0;34m=\u001b[0m\u001b[0;36m0\u001b[0m\u001b[0;34m,\u001b[0m\u001b[0;34m\u001b[0m\n",
       "\u001b[0;34m\u001b[0m    \u001b[0mpseudocounts\u001b[0m\u001b[0;34m=\u001b[0m\u001b[0;36m1\u001b[0m\u001b[0;34m,\u001b[0m\u001b[0;34m\u001b[0m\n",
       "\u001b[0;34m\u001b[0m    \u001b[0mtest\u001b[0m\u001b[0;34m=\u001b[0m\u001b[0;32mFalse\u001b[0m\u001b[0;34m,\u001b[0m\u001b[0;34m\u001b[0m\n",
       "\u001b[0;34m\u001b[0m    \u001b[0mdrop_library\u001b[0m\u001b[0;34m=\u001b[0m\u001b[0;32mFalse\u001b[0m\u001b[0;34m,\u001b[0m\u001b[0;34m\u001b[0m\n",
       "\u001b[0;34m\u001b[0m    \u001b[0mverbose\u001b[0m\u001b[0;34m=\u001b[0m\u001b[0;32mFalse\u001b[0m\u001b[0;34m,\u001b[0m\u001b[0;34m\u001b[0m\n",
       "\u001b[0;34m\u001b[0m\u001b[0;34m)\u001b[0m\u001b[0;34m\u001b[0m\u001b[0;34m\u001b[0m\u001b[0m\n",
       "\u001b[0;31mDocstring:\u001b[0m <no docstring>\n",
       "\u001b[0;31mFile:\u001b[0m      /opt/anaconda3/envs/mpathic_env/lib/python3.6/site-packages/mpathic/learn_model.py\n",
       "\u001b[0;31mType:\u001b[0m      function\n"
      ]
     },
     "metadata": {},
     "output_type": "display_data"
    }
   ],
   "source": [
    "?learn_model.main"
   ]
  },
  {
   "cell_type": "markdown",
   "metadata": {},
   "source": [
    "To use this function we need to load the combined data set. Then we need to define a file path where the inference results are stored."
   ]
  },
  {
   "cell_type": "code",
   "execution_count": 6,
   "metadata": {},
   "outputs": [],
   "source": [
    "# combined data set\n",
    "file = \"../data/sequencing_data/bdcR_Anaerodataset_combined.csv\"\n",
    "df = pd.read_csv(file)\n",
    "\n",
    "# output files\n",
    "db = \"../data/inference_results/bdcR_Anaero_dataset_db\"\n",
    "out = \"../data/inference_results/bdcR_Anaero_LS_mut.csv\""
   ]
  },
  {
   "cell_type": "code",
   "execution_count": 7,
   "metadata": {},
   "outputs": [],
   "source": [
    "ls_df = learn_model.main(\n",
    "    df=df,\n",
    "    lm='LS',\n",
    "    modeltype='MAT',\n",
    "    LS_means_std=None,\n",
    "    db=db,\n",
    "    iteration=30000,\n",
    "    burnin=1000,\n",
    "    thin=10,\n",
    "    runnum=0,\n",
    "    initialize='LS',\n",
    "    start=0,\n",
    "    end=None,\n",
    "    foreground=1,\n",
    "    background=0,\n",
    "    alpha=0,\n",
    "    pseudocounts=1,\n",
    "    test=False,\n",
    "    drop_library=False,\n",
    "    verbose=False,\n",
    ")\n",
    "ls_df.to_csv(out, index=False)"
   ]
  },
  {
   "cell_type": "markdown",
   "metadata": {},
   "source": [
    "A more accurate inference can be performed by using Markoc Chain Monte-Carlo inference methods. To perform such an inference, we can use the same method as we did in the last step. However, we have to change a couple of arguments to make the function viable for an mcmc inference. Below is an example, which has much less steps as an actual inference would have. Note, there are only 10 warm up steps (`burnin`) and only 1000 steps in the inference (`iteration`). Usually you want to have around 1000 warm up steps and at least 10000 iteration steps, such that the inference can converge. These many steps require a lot of computational power, and we do not recommend running it here in the notebook. In the Reg-Seq wiki we explain how to use AWS instances to perform high power computations in the cloud."
   ]
  },
  {
   "cell_type": "code",
   "execution_count": 8,
   "metadata": {},
   "outputs": [],
   "source": [
    "file =\"../data/sequencing_data/bdcR_Anaerodataset_combined.csv\"\n",
    "df = pd.read_csv(file)\n",
    "db = \"../data/inference_results/bdcR_Anaero_dataset_db\"\n",
    "out = \"../data/inference_results/bdcR_Anaero_MCMC_mut.csv\""
   ]
  },
  {
   "cell_type": "code",
   "execution_count": 9,
   "metadata": {},
   "outputs": [
    {
     "name": "stdout",
     "output_type": "stream",
     "text": [
      " [-----------------100%-----------------] 1000 of 1000 complete in 84.4 sec"
     ]
    }
   ],
   "source": [
    "mcmc_df = learn_model.main(\n",
    "    df=df,\n",
    "    lm='IM',\n",
    "    modeltype='MAT',\n",
    "    LS_means_std=None,\n",
    "    db=db,\n",
    "    iteration=1000,\n",
    "    burnin=10,\n",
    "    thin=10,\n",
    "    runnum=0,\n",
    "    initialize='rand',\n",
    "    start=0,\n",
    "    end=None,\n",
    "    foreground=1,\n",
    "    background=0,\n",
    "    alpha=0,\n",
    "    pseudocounts=1,\n",
    "    test=False,\n",
    "    drop_library=False,\n",
    "    verbose=True,\n",
    ")\n",
    "mcmc_df.to_csv(out, index=False)"
   ]
  },
  {
   "cell_type": "markdown",
   "metadata": {},
   "source": [
    "The result of these inferences are energy matrices. In the following notebooks we will go through three methods of displaying the results, which are information footprints, logos, and the energy matrices themselves."
   ]
  },
  {
   "cell_type": "markdown",
   "metadata": {},
   "source": [
    "## Computing Environment"
   ]
  },
  {
   "cell_type": "code",
   "execution_count": 10,
   "metadata": {},
   "outputs": [
    {
     "name": "stdout",
     "output_type": "stream",
     "text": [
      "CPython 3.6.9\n",
      "IPython 7.13.0\n",
      "\n",
      "regseq 0.0.2\n"
     ]
    }
   ],
   "source": [
    "%load_ext watermark\n",
    "%watermark -v -p regseq"
   ]
  }
 ],
 "metadata": {
  "kernelspec": {
   "display_name": "Python (mpathic)",
   "language": "python",
   "name": "mpathic_env"
  },
  "language_info": {
   "codemirror_mode": {
    "name": "ipython",
    "version": 3
   },
   "file_extension": ".py",
   "mimetype": "text/x-python",
   "name": "python",
   "nbconvert_exporter": "python",
   "pygments_lexer": "ipython3",
   "version": "3.6.9"
  }
 },
 "nbformat": 4,
 "nbformat_minor": 4
}
