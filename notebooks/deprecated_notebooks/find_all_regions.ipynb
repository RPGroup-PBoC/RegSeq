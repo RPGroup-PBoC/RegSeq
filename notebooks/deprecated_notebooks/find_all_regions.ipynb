{
 "cells": [
  {
   "cell_type": "code",
   "execution_count": 6,
   "metadata": {},
   "outputs": [],
   "source": [
    "#import basic modules\n",
    "import glob\n",
    "import numpy as np\n",
    "import matplotlib.pyplot as plt\n",
    "import pandas as pd"
   ]
  },
  {
   "cell_type": "code",
   "execution_count": 7,
   "metadata": {},
   "outputs": [],
   "source": [
    "#designate location of data files and growth condition. We will assume that the files are stored in this folder.\n",
    "folder = '../MCMC/'\n",
    "growth = 'metal'\n",
    "#find names of all the files where we labeled each significant base pair.\n",
    "allnames = glob.glob(folder + '*' +  growth + '*195*auto_p1percentv2_15.txt')"
   ]
  },
  {
   "cell_type": "code",
   "execution_count": 8,
   "metadata": {},
   "outputs": [
    {
     "data": {
      "text/plain": [
       "[]"
      ]
     },
     "execution_count": 8,
     "metadata": {},
     "output_type": "execute_result"
    }
   ],
   "source": [
    "allnames"
   ]
  },
  {
   "cell_type": "code",
   "execution_count": 9,
   "metadata": {},
   "outputs": [],
   "source": [
    "#initialize output df with columns for the gene name, number of features for the gene,start location of\n",
    "#feature, end location of feature (this will be 15 base pairs short of the true end of the region due to the\n",
    "#fact that the analysis averages over 15 base pairs to find these regions), and whether the region is an \n",
    "#activator or repressor (which we determine based on if expression shift is positive or negative.)\n",
    "outdf = pd.DataFrame(columns=['gene','feat_num','start','end','type'])\n",
    "counter = 0\n",
    "for z,name in enumerate(allnames):\n",
    "    \n",
    "    #load in file that says where signficant bases are.\n",
    "    temp_significant = np.loadtxt(name)\n",
    "    #need to automatically determine gene name. to do this we will remove any leading directory information\n",
    "    #then pull the gene from the start of the file name\n",
    "    noleader = name.split('/')[-1]\n",
    "    gene = noleader.split(growth)[0]\n",
    "    #initialize the variable 'ongoing'. this shows whether or not the current base is part of a binding site\n",
    "    #or if its starting a new one.\n",
    "    ongoing = 0\n",
    "    TF_type = 'None'\n",
    "    num_feat = 0\n",
    "    #loop through only 145 base pairs (we don't go to 160 becuase the regions are 15 base pairs long.)\n",
    "    for i in range(0,145):\n",
    "        \n",
    "        #if we are not currently part of a binding site then we do this...\n",
    "        if not ongoing:\n",
    "            #if we have a new significant base pair we will start to log a new binding site.\n",
    "            if (temp_significant[i-1] == 0 or i == 0) and temp_significant[i] == 1:\n",
    "                start = i\n",
    "                ongoing = 1\n",
    "                #we checked whether temp_signficant was '1' which means the effect of mutation on expression\n",
    "                #is positive. This would indicate that the transcription factor type is 'repressor' \n",
    "                TF_type = 'rep'\n",
    "            elif (temp_significant[i-1] == 0 or i == 0) and temp_significant[i] == -1:\n",
    "                start = i\n",
    "                ongoing = 1\n",
    "                #we checked whether temp_signficant was '-1' which means the effect of mutation on expression\n",
    "                #is negative. This would indicate that the transcription factor type is 'activator' \n",
    "                TF_type = 'act'\n",
    "        elif ongoing:\n",
    "            #if we are currently within an ongoing binding site we need to see whether or not the binding site\n",
    "            #has ended at the current base. To do that we first check if the new base is not significant.\n",
    "            if temp_significant[i] == 0:\n",
    "                #next, if there is only a 1-4 base pair break in which bases are significant, the whole\n",
    "                #thing is probably still part of one binding site. So we check whether or not the next 4\n",
    "                #base pairs are not significant, if they are not we declare the binding site ended.\n",
    "                future_sum = temp_significant[i:i+4].sum()\n",
    "                #if the binding site is an activator, and none of the next four bases are also activator like\n",
    "                #we end the binding site (if instead they are repressor like, in other words if\n",
    "                #significant is > 0, then we can still assume the binding site has ended)\n",
    "                if future_sum > -.5 and (TF_type == 'act'):\n",
    "                    end = i\n",
    "                    ongoing = 0\n",
    "                    \n",
    "                    #now that the current binding site has ended we will update the list of binding sites.\n",
    "                    outdf.loc[counter,['gene','feat_num','start','end','type']] = [gene,num_feat,start,end,TF_type]\n",
    "                    num_feat = num_feat + 1\n",
    "                    TF_type = 'None'\n",
    "                    counter = counter + 1\n",
    "                #now do the same in the case that the current binding site is a repressor.\n",
    "                elif future_sum < .5 and (TF_type == 'rep'):\n",
    "                    end = i\n",
    "                    ongoing = 0\n",
    "                    outdf.loc[counter,['gene','feat_num','start','end','type']] = [gene,num_feat,start,end,TF_type]\n",
    "                    num_feat = num_feat + 1\n",
    "                    TF_type = 'None'\n",
    "                    counter = counter + 1\n",
    "                else:\n",
    "                    pass\n",
    "                \n",
    "                    "
   ]
  },
  {
   "cell_type": "code",
   "execution_count": 10,
   "metadata": {},
   "outputs": [
    {
     "ename": "FileNotFoundError",
     "evalue": "[Errno 2] No such file or directory: '../MCMC/all_regions_metal_p1percent'",
     "output_type": "error",
     "traceback": [
      "\u001b[0;31m---------------------------------------------------------------------------\u001b[0m",
      "\u001b[0;31mFileNotFoundError\u001b[0m                         Traceback (most recent call last)",
      "\u001b[0;32m<ipython-input-10-03046b9172af>\u001b[0m in \u001b[0;36m<module>\u001b[0;34m\u001b[0m\n\u001b[1;32m      1\u001b[0m \u001b[0;31m#save list of all binding sites.\u001b[0m\u001b[0;34m\u001b[0m\u001b[0;34m\u001b[0m\u001b[0;34m\u001b[0m\u001b[0m\n\u001b[0;32m----> 2\u001b[0;31m \u001b[0moutdf\u001b[0m\u001b[0;34m.\u001b[0m\u001b[0mto_csv\u001b[0m\u001b[0;34m(\u001b[0m\u001b[0;34m'../MCMC/all_regions_'\u001b[0m \u001b[0;34m+\u001b[0m \u001b[0mgrowth\u001b[0m \u001b[0;34m+\u001b[0m \u001b[0;34m'_p1percent'\u001b[0m\u001b[0;34m)\u001b[0m\u001b[0;34m\u001b[0m\u001b[0;34m\u001b[0m\u001b[0m\n\u001b[0m",
      "\u001b[0;32m/opt/anaconda3/lib/python3.7/site-packages/pandas/core/generic.py\u001b[0m in \u001b[0;36mto_csv\u001b[0;34m(self, path_or_buf, sep, na_rep, float_format, columns, header, index, index_label, mode, encoding, compression, quoting, quotechar, line_terminator, chunksize, tupleize_cols, date_format, doublequote, escapechar, decimal)\u001b[0m\n\u001b[1;32m   3018\u001b[0m                                  \u001b[0mdoublequote\u001b[0m\u001b[0;34m=\u001b[0m\u001b[0mdoublequote\u001b[0m\u001b[0;34m,\u001b[0m\u001b[0;34m\u001b[0m\u001b[0;34m\u001b[0m\u001b[0m\n\u001b[1;32m   3019\u001b[0m                                  escapechar=escapechar, decimal=decimal)\n\u001b[0;32m-> 3020\u001b[0;31m         \u001b[0mformatter\u001b[0m\u001b[0;34m.\u001b[0m\u001b[0msave\u001b[0m\u001b[0;34m(\u001b[0m\u001b[0;34m)\u001b[0m\u001b[0;34m\u001b[0m\u001b[0;34m\u001b[0m\u001b[0m\n\u001b[0m\u001b[1;32m   3021\u001b[0m \u001b[0;34m\u001b[0m\u001b[0m\n\u001b[1;32m   3022\u001b[0m         \u001b[0;32mif\u001b[0m \u001b[0mpath_or_buf\u001b[0m \u001b[0;32mis\u001b[0m \u001b[0;32mNone\u001b[0m\u001b[0;34m:\u001b[0m\u001b[0;34m\u001b[0m\u001b[0;34m\u001b[0m\u001b[0m\n",
      "\u001b[0;32m/opt/anaconda3/lib/python3.7/site-packages/pandas/io/formats/csvs.py\u001b[0m in \u001b[0;36msave\u001b[0;34m(self)\u001b[0m\n\u001b[1;32m    155\u001b[0m             f, handles = _get_handle(self.path_or_buf, self.mode,\n\u001b[1;32m    156\u001b[0m                                      \u001b[0mencoding\u001b[0m\u001b[0;34m=\u001b[0m\u001b[0mself\u001b[0m\u001b[0;34m.\u001b[0m\u001b[0mencoding\u001b[0m\u001b[0;34m,\u001b[0m\u001b[0;34m\u001b[0m\u001b[0;34m\u001b[0m\u001b[0m\n\u001b[0;32m--> 157\u001b[0;31m                                      compression=self.compression)\n\u001b[0m\u001b[1;32m    158\u001b[0m             \u001b[0mclose\u001b[0m \u001b[0;34m=\u001b[0m \u001b[0;32mTrue\u001b[0m\u001b[0;34m\u001b[0m\u001b[0;34m\u001b[0m\u001b[0m\n\u001b[1;32m    159\u001b[0m \u001b[0;34m\u001b[0m\u001b[0m\n",
      "\u001b[0;32m/opt/anaconda3/lib/python3.7/site-packages/pandas/io/common.py\u001b[0m in \u001b[0;36m_get_handle\u001b[0;34m(path_or_buf, mode, encoding, compression, memory_map, is_text)\u001b[0m\n\u001b[1;32m    422\u001b[0m         \u001b[0;32melif\u001b[0m \u001b[0mencoding\u001b[0m\u001b[0;34m:\u001b[0m\u001b[0;34m\u001b[0m\u001b[0;34m\u001b[0m\u001b[0m\n\u001b[1;32m    423\u001b[0m             \u001b[0;31m# Python 3 and encoding\u001b[0m\u001b[0;34m\u001b[0m\u001b[0;34m\u001b[0m\u001b[0;34m\u001b[0m\u001b[0m\n\u001b[0;32m--> 424\u001b[0;31m             \u001b[0mf\u001b[0m \u001b[0;34m=\u001b[0m \u001b[0mopen\u001b[0m\u001b[0;34m(\u001b[0m\u001b[0mpath_or_buf\u001b[0m\u001b[0;34m,\u001b[0m \u001b[0mmode\u001b[0m\u001b[0;34m,\u001b[0m \u001b[0mencoding\u001b[0m\u001b[0;34m=\u001b[0m\u001b[0mencoding\u001b[0m\u001b[0;34m,\u001b[0m \u001b[0mnewline\u001b[0m\u001b[0;34m=\u001b[0m\u001b[0;34m\"\"\u001b[0m\u001b[0;34m)\u001b[0m\u001b[0;34m\u001b[0m\u001b[0;34m\u001b[0m\u001b[0m\n\u001b[0m\u001b[1;32m    425\u001b[0m         \u001b[0;32melif\u001b[0m \u001b[0mis_text\u001b[0m\u001b[0;34m:\u001b[0m\u001b[0;34m\u001b[0m\u001b[0;34m\u001b[0m\u001b[0m\n\u001b[1;32m    426\u001b[0m             \u001b[0;31m# Python 3 and no explicit encoding\u001b[0m\u001b[0;34m\u001b[0m\u001b[0;34m\u001b[0m\u001b[0;34m\u001b[0m\u001b[0m\n",
      "\u001b[0;31mFileNotFoundError\u001b[0m: [Errno 2] No such file or directory: '../MCMC/all_regions_metal_p1percent'"
     ]
    }
   ],
   "source": [
    "#save list of all binding sites.\n",
    "outdf.to_csv('../MCMC/all_regions_' + growth + '_p1percent')"
   ]
  },
  {
   "cell_type": "code",
   "execution_count": null,
   "metadata": {},
   "outputs": [],
   "source": []
  }
 ],
 "metadata": {
  "kernelspec": {
   "display_name": "Python 3",
   "language": "python",
   "name": "python3"
  },
  "language_info": {
   "codemirror_mode": {
    "name": "ipython",
    "version": 3
   },
   "file_extension": ".py",
   "mimetype": "text/x-python",
   "name": "python",
   "nbconvert_exporter": "python",
   "pygments_lexer": "ipython3",
   "version": "3.7.7"
  }
 },
 "nbformat": 4,
 "nbformat_minor": 4
}
