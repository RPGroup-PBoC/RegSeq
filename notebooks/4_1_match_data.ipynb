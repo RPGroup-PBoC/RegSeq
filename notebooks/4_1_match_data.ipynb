{
 "cells": [
  {
   "cell_type": "markdown",
   "metadata": {},
   "source": [
    "# Match mRNA and DNA counts"
   ]
  },
  {
   "cell_type": "markdown",
   "metadata": {},
   "source": [
    "The code in this tutorial is released under the [MIT License](https://opensource.org/licenses/MIT). All the content in this notebook is under a [CC-by 4.0 License](https://creativecommons.org/licenses/by/4.0/). "
   ]
  },
  {
   "cell_type": "code",
   "execution_count": 1,
   "metadata": {},
   "outputs": [],
   "source": [
    "import regseq.match_data\n",
    "import pandas as pd"
   ]
  },
  {
   "cell_type": "markdown",
   "metadata": {},
   "source": [
    "For a detailed explanation of the steps leading to this notebook, as well as the experimental context, refer to the [Reg-Seq wiki](https://github.com/RPGroup-PBoC/RegSeq/wiki)."
   ]
  },
  {
   "cell_type": "markdown",
   "metadata": {},
   "source": [
    "Previously we processed the data from sequencing the library and prepared the barcode keys. After that, the library is used for various growth conditions, and RNA and DNA sequences are obtained from the cells. The next step is to use the key to count unique sequences in both RNA and DNA datasets, and then combine counts from the same sequences in both data sets for further analysis.\n",
    "\n",
    "\n",
    "Therefore, we store the data in a table that contains both RNA(`ct_1`) and DNA counts(`ct_0`) for each sequence (`seq`), as well as total counts(`ct`). In the end, a table will have the following format\n",
    "\n",
    "|ct|ct_0|ct_1|seq|\n",
    "|----|----|----|----|\n",
    "|10|5|5|AAACAAAAAAAC...|\n",
    "|2|2|0|AAACAAAAAATC...|\n",
    "\n",
    "where the sequence column contains the full sequence, which is shortened here for displaying purposes. In the module `regseq.match_data`, you can find a function `regseq.match_data.combine_counts` which reads the necessary files using `pandas` and performs the matching step, returning a table in the format shown above. The filenames are given as strings to the function."
   ]
  },
  {
   "cell_type": "code",
   "execution_count": 2,
   "metadata": {},
   "outputs": [
    {
     "data": {
      "text/plain": [
       "\u001b[0;31mSignature:\u001b[0m\n",
       "\u001b[0mregseq\u001b[0m\u001b[0;34m.\u001b[0m\u001b[0mmatch_data\u001b[0m\u001b[0;34m.\u001b[0m\u001b[0mcombine_counts\u001b[0m\u001b[0;34m(\u001b[0m\u001b[0;34m\u001b[0m\n",
       "\u001b[0;34m\u001b[0m    \u001b[0mmRNA_file\u001b[0m\u001b[0;34m,\u001b[0m\u001b[0;34m\u001b[0m\n",
       "\u001b[0;34m\u001b[0m    \u001b[0mDNA_file\u001b[0m\u001b[0;34m,\u001b[0m\u001b[0;34m\u001b[0m\n",
       "\u001b[0;34m\u001b[0m    \u001b[0mtag_key_file\u001b[0m\u001b[0;34m,\u001b[0m\u001b[0;34m\u001b[0m\n",
       "\u001b[0;34m\u001b[0m    \u001b[0moutput_file\u001b[0m\u001b[0;34m,\u001b[0m\u001b[0;34m\u001b[0m\n",
       "\u001b[0;34m\u001b[0m\u001b[0;34m)\u001b[0m\u001b[0;34m\u001b[0m\u001b[0;34m\u001b[0m\u001b[0m\n",
       "\u001b[0;31mDocstring:\u001b[0m\n",
       "Compute counts for sequences from mRNA and DNA.\n",
       "\n",
       "Parameters\n",
       "----------\n",
       "mRNA_file : str\n",
       "    Path of file for mRNA sequencing\n",
       "DNA_file : str\n",
       "    Path of file for DNA sequencing\n",
       "tag_key_file : str\n",
       "    Path of file for barcode/sequence mapping\n",
       "output_file : str\n",
       "    Path of file constructed for output\n",
       "\u001b[0;31mFile:\u001b[0m      ~/git/RegSeq/regseq/match_data.py\n",
       "\u001b[0;31mType:\u001b[0m      function\n"
      ]
     },
     "metadata": {},
     "output_type": "display_data"
    }
   ],
   "source": [
    "?regseq.match_data.combine_counts"
   ]
  },
  {
   "cell_type": "markdown",
   "metadata": {},
   "source": [
    "For demonstration purposes, let's use the same gene we used in the previous step, `bdcR`. The barcode key for this gene was created in `3_1_create_keys.ipynb` using an example library, and stored in the `../data/barcode_keys/` folder in this repo. If you have libraries and DNA and RNA counts for other genes, you can use those files instead. Make sure the right path is given to the variables. "
   ]
  },
  {
   "cell_type": "code",
   "execution_count": 3,
   "metadata": {},
   "outputs": [],
   "source": [
    "# Barcode key\n",
    "tag_key_file = \"../data/barcode_keys/ykgE_barcode_key.csv\"\n",
    "\n",
    "# RNA dataset\n",
    "mRNA_file = \"../data/sequencing_data/ykgE/BI106_mRNA_101\"\n",
    "\n",
    "# DNA dataset\n",
    "DNA_file = \"../data/sequencing_data/ykgE/BI105_DNA_101\"\n",
    "\n",
    "# Path to store result\n",
    "output_file = \"../data/sequencing_data/ykgE_dataset_combined.csv\""
   ]
  },
  {
   "cell_type": "markdown",
   "metadata": {},
   "source": [
    "Now that we have defined all files, we can use the function to combine counts."
   ]
  },
  {
   "cell_type": "code",
   "execution_count": 4,
   "metadata": {},
   "outputs": [],
   "source": [
    "regseq.match_data.combine_counts(mRNA_file, DNA_file, tag_key_file, output_file)"
   ]
  },
  {
   "cell_type": "markdown",
   "metadata": {},
   "source": [
    "Let's have a look at the output file."
   ]
  },
  {
   "cell_type": "code",
   "execution_count": 5,
   "metadata": {},
   "outputs": [
    {
     "data": {
      "text/html": [
       "<div>\n",
       "<style scoped>\n",
       "    .dataframe tbody tr th:only-of-type {\n",
       "        vertical-align: middle;\n",
       "    }\n",
       "\n",
       "    .dataframe tbody tr th {\n",
       "        vertical-align: top;\n",
       "    }\n",
       "\n",
       "    .dataframe thead th {\n",
       "        text-align: right;\n",
       "    }\n",
       "</style>\n",
       "<table border=\"1\" class=\"dataframe\">\n",
       "  <thead>\n",
       "    <tr style=\"text-align: right;\">\n",
       "      <th></th>\n",
       "      <th>ct</th>\n",
       "      <th>ct_0</th>\n",
       "      <th>ct_1</th>\n",
       "      <th>seq</th>\n",
       "    </tr>\n",
       "  </thead>\n",
       "  <tbody>\n",
       "    <tr>\n",
       "      <th>0</th>\n",
       "      <td>1.0</td>\n",
       "      <td>1.0</td>\n",
       "      <td>0.0</td>\n",
       "      <td>ACAATTTCACCATAAAATGTCGGCGTTGCCGAAAGAAATAAAATGAGGTATTGCATTTGACGTTTGGATGAAAGATTTTCATTTGTCCTACAATTGCGGGGTGGTATGTGGCTAGCCCATTAAAAAAGAACGCCATATTTATTGATGATTGACACCGCGGGAGAGCCTCGCGTATCCCTC</td>\n",
       "    </tr>\n",
       "    <tr>\n",
       "      <th>1</th>\n",
       "      <td>1.0</td>\n",
       "      <td>1.0</td>\n",
       "      <td>0.0</td>\n",
       "      <td>ACGAATTCCCCATAAGAAGTAAGCGATGCAGAAAGAAATAAAATTAGTTATCGCATTGGGGGTTTGCATCAAAGATTATCATTTGTCATACAGATGAGGGGGGGTATGTTGCTAGTCACTTAAACAAGAACGCCCTAGTTATTGATGAATGATCCTCCGGGGATCCATGGTCATTCGGTG</td>\n",
       "    </tr>\n",
       "    <tr>\n",
       "      <th>2</th>\n",
       "      <td>1.0</td>\n",
       "      <td>1.0</td>\n",
       "      <td>0.0</td>\n",
       "      <td>ACGAATTCCCCATAAGAAGTAAGCGATGCAGAAAGAAATAAAATTAGTTATCGCATTGGGGGTTTGCATCAAAGATTATCATTTGTCATACAGATGAGGGGGGGTATGTTGCTAGTCACTTAAACAAGAACGCCCTAGTTATTGATGAATGATCCTCCGGTATTACGGTACGAGATTGCT</td>\n",
       "    </tr>\n",
       "    <tr>\n",
       "      <th>3</th>\n",
       "      <td>2.0</td>\n",
       "      <td>2.0</td>\n",
       "      <td>0.0</td>\n",
       "      <td>ACGACTTGCCCAATAAATGTGAGCGTTGCCAAAAGGAATACAATGAGTTATTTCATTTGACGTTTGGGTGAAAGATTATCATTTGTCATACAAATGAAGGCTGGTATGTCGCTAGCCTATTAAAAAAGAACGCCATATATATTGGTCATTGATCCCGCGGAACTCTCACTCTGCTGTACG</td>\n",
       "    </tr>\n",
       "    <tr>\n",
       "      <th>4</th>\n",
       "      <td>2.0</td>\n",
       "      <td>2.0</td>\n",
       "      <td>0.0</td>\n",
       "      <td>ACGACTTGCCCAATAAATGTGAGCGTTGCCAAAAGGAATACAATGAGTTATTTCATTTGACGTTTGGGTGAAAGATTATCATTTGTCATACAAATGAAGGCTGGTATGTCGCTAGCCTATTAAAAAAGAACGCCATATATATTGGTCATTGATCCCGCGGTACCCGTGTTCGTAACCCCT</td>\n",
       "    </tr>\n",
       "  </tbody>\n",
       "</table>\n",
       "</div>"
      ],
      "text/plain": [
       "    ct  ct_0  ct_1  \\\n",
       "0  1.0   1.0   0.0   \n",
       "1  1.0   1.0   0.0   \n",
       "2  1.0   1.0   0.0   \n",
       "3  2.0   2.0   0.0   \n",
       "4  2.0   2.0   0.0   \n",
       "\n",
       "                                                                                                                                                                                    seq  \n",
       "0  ACAATTTCACCATAAAATGTCGGCGTTGCCGAAAGAAATAAAATGAGGTATTGCATTTGACGTTTGGATGAAAGATTTTCATTTGTCCTACAATTGCGGGGTGGTATGTGGCTAGCCCATTAAAAAAGAACGCCATATTTATTGATGATTGACACCGCGGGAGAGCCTCGCGTATCCCTC  \n",
       "1  ACGAATTCCCCATAAGAAGTAAGCGATGCAGAAAGAAATAAAATTAGTTATCGCATTGGGGGTTTGCATCAAAGATTATCATTTGTCATACAGATGAGGGGGGGTATGTTGCTAGTCACTTAAACAAGAACGCCCTAGTTATTGATGAATGATCCTCCGGGGATCCATGGTCATTCGGTG  \n",
       "2  ACGAATTCCCCATAAGAAGTAAGCGATGCAGAAAGAAATAAAATTAGTTATCGCATTGGGGGTTTGCATCAAAGATTATCATTTGTCATACAGATGAGGGGGGGTATGTTGCTAGTCACTTAAACAAGAACGCCCTAGTTATTGATGAATGATCCTCCGGTATTACGGTACGAGATTGCT  \n",
       "3  ACGACTTGCCCAATAAATGTGAGCGTTGCCAAAAGGAATACAATGAGTTATTTCATTTGACGTTTGGGTGAAAGATTATCATTTGTCATACAAATGAAGGCTGGTATGTCGCTAGCCTATTAAAAAAGAACGCCATATATATTGGTCATTGATCCCGCGGAACTCTCACTCTGCTGTACG  \n",
       "4  ACGACTTGCCCAATAAATGTGAGCGTTGCCAAAAGGAATACAATGAGTTATTTCATTTGACGTTTGGGTGAAAGATTATCATTTGTCATACAAATGAAGGCTGGTATGTCGCTAGCCTATTAAAAAAGAACGCCATATATATTGGTCATTGATCCCGCGGTACCCGTGTTCGTAACCCCT  "
      ]
     },
     "execution_count": 5,
     "metadata": {},
     "output_type": "execute_result"
    }
   ],
   "source": [
    "pd.read_csv(output_file).head()"
   ]
  },
  {
   "cell_type": "markdown",
   "metadata": {},
   "source": [
    "The function returns the table with RNA(`ct_1`) and DNA counts(`ct_0`) for each sequence (`seq`), as well as total counts(`ct`).\n",
    "It contains all the necessary information we need to perform statistical inference to determine the effect of mutations on the expression of the gene in the following step."
   ]
  },
  {
   "cell_type": "markdown",
   "metadata": {},
   "source": [
    "Finally, here are the versions of packages used in this notebook. To display the versions, we are using the Jupyter Lab extension `watermark`, which can be found [here](https://github.com/rasbt/watermark). (This will already be installed if you use the environment we prepared.)"
   ]
  },
  {
   "cell_type": "markdown",
   "metadata": {},
   "source": [
    "## Computing Environment "
   ]
  },
  {
   "cell_type": "code",
   "execution_count": 6,
   "metadata": {},
   "outputs": [
    {
     "name": "stdout",
     "output_type": "stream",
     "text": [
      "CPython 3.6.9\n",
      "IPython 7.13.0\n",
      "\n",
      "regseq 0.0.2\n"
     ]
    }
   ],
   "source": [
    "%load_ext watermark\n",
    "%watermark -v -p regseq"
   ]
  }
 ],
 "metadata": {
  "kernelspec": {
   "display_name": "Python (mpathic)",
   "language": "python",
   "name": "mpathic_env"
  },
  "language_info": {
   "codemirror_mode": {
    "name": "ipython",
    "version": 3
   },
   "file_extension": ".py",
   "mimetype": "text/x-python",
   "name": "python",
   "nbconvert_exporter": "python",
   "pygments_lexer": "ipython3",
   "version": "3.6.9"
  }
 },
 "nbformat": 4,
 "nbformat_minor": 4
}
