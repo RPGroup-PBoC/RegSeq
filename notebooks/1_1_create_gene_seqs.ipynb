{
 "cells": [
  {
   "cell_type": "markdown",
   "metadata": {},
   "source": [
    "# Find genetic sequences from TSS"
   ]
  },
  {
   "cell_type": "markdown",
   "metadata": {},
   "source": [
    "The code in this tutorial is released under the [MIT License](https://opensource.org/licenses/MIT). All the content in this notebook is under a [CC-by 4.0 License](https://creativecommons.org/licenses/by/4.0/). "
   ]
  },
  {
   "cell_type": "code",
   "execution_count": 2,
   "metadata": {},
   "outputs": [],
   "source": [
    "import pandas as pd\n",
    "import Bio.SeqIO\n",
    "import regseq.prior_designs"
   ]
  },
  {
   "cell_type": "markdown",
   "metadata": {},
   "source": [
    "For a more detailed explanation, refer to the [documention of the Reg-Seq experiment](https://github.com/RPGroup-PBoC/regseq/wiki/1.-Sequence-Design).\n",
    "<br>\n",
    "<br>\n",
    "In this notebook, we are extracting parts of a wild type genome for genes we consider for this experiment. We are using sequences of length 160 bp, 115 upstream of the transcription start site and 45 bases downstream. The wild type sequences will then be used for mutagenisis, where we create plenty of different sequences with mutations based on the wild type sequence. To run this notebook, you need to have a file in hand which contains information about the genes of interest, i.e., the name, the transcription start site, and the direction of transcription. For *E.coli*, this information can be obtained from EcoCyc, and you can an in depth tutorial on how to find the necessary information in the [documention of the Reg-Seq experiment](https://github.com/RPGroup-PBoC/regseq/wiki/1.-Sequence-Design)."
   ]
  },
  {
   "cell_type": "markdown",
   "metadata": {},
   "source": [
    "We start by loading in the file which contains the wildtype genome. In this repo we have stored a `fasta` file contain the genome of K12 *E.coli*."
   ]
  },
  {
   "cell_type": "code",
   "execution_count": 7,
   "metadata": {},
   "outputs": [
    {
     "name": "stdout",
     "output_type": "stream",
     "text": [
      "Length genome: 4641652\n",
      "First 100 bases: AGCTTTTCATTCTGACTGCAACGGGCAATATGTCTCTGTGTGGATTAAAAAAAGAGTGTCTGATAGCAGCTTCTGAACTGGTTACCTGCCGTGAGTAAAT\n"
     ]
    }
   ],
   "source": [
    "for record in Bio.SeqIO.parse('../data/wild_type/sequencev3.fasta', \"fasta\"):\n",
    "    genome = str(record.seq)\n",
    "    \n",
    "print(\"Length genome: {}\".format(len(genome)))\n",
    "print(\"First 100 bases: {}\".format(genome[:100]))"
   ]
  },
  {
   "cell_type": "markdown",
   "metadata": {},
   "source": [
    "In this repo you can find an example file for a list of genes that are used to find their respective wild type sequence. If you created your own file, simply change the path below to your own file."
   ]
  },
  {
   "cell_type": "code",
   "execution_count": 10,
   "metadata": {},
   "outputs": [
    {
     "data": {
      "text/html": [
       "<div>\n",
       "<style scoped>\n",
       "    .dataframe tbody tr th:only-of-type {\n",
       "        vertical-align: middle;\n",
       "    }\n",
       "\n",
       "    .dataframe tbody tr th {\n",
       "        vertical-align: top;\n",
       "    }\n",
       "\n",
       "    .dataframe thead th {\n",
       "        text-align: right;\n",
       "    }\n",
       "</style>\n",
       "<table border=\"1\" class=\"dataframe\">\n",
       "  <thead>\n",
       "    <tr style=\"text-align: right;\">\n",
       "      <th></th>\n",
       "      <th>name</th>\n",
       "      <th>start_site</th>\n",
       "      <th>rev</th>\n",
       "      <th>notes</th>\n",
       "    </tr>\n",
       "  </thead>\n",
       "  <tbody>\n",
       "    <tr>\n",
       "      <th>0</th>\n",
       "      <td>livM</td>\n",
       "      <td>3597755</td>\n",
       "      <td>rev</td>\n",
       "      <td>NaN</td>\n",
       "    </tr>\n",
       "    <tr>\n",
       "      <th>1</th>\n",
       "      <td>ygbI</td>\n",
       "      <td>2861256</td>\n",
       "      <td>rev</td>\n",
       "      <td>race over comput</td>\n",
       "    </tr>\n",
       "    <tr>\n",
       "      <th>2</th>\n",
       "      <td>deaD</td>\n",
       "      <td>3308086</td>\n",
       "      <td>rev</td>\n",
       "      <td>full operon over compute</td>\n",
       "    </tr>\n",
       "    <tr>\n",
       "      <th>3</th>\n",
       "      <td>frlR</td>\n",
       "      <td>3504043</td>\n",
       "      <td>fwd</td>\n",
       "      <td>NaN</td>\n",
       "    </tr>\n",
       "    <tr>\n",
       "      <th>4</th>\n",
       "      <td>slyA</td>\n",
       "      <td>1720870</td>\n",
       "      <td>rev</td>\n",
       "      <td>NaN</td>\n",
       "    </tr>\n",
       "    <tr>\n",
       "      <th>5</th>\n",
       "      <td>wzxC</td>\n",
       "      <td>2120337</td>\n",
       "      <td>rev</td>\n",
       "      <td>comp</td>\n",
       "    </tr>\n",
       "    <tr>\n",
       "      <th>6</th>\n",
       "      <td>ycgB</td>\n",
       "      <td>1237285</td>\n",
       "      <td>rev</td>\n",
       "      <td>comp</td>\n",
       "    </tr>\n",
       "    <tr>\n",
       "      <th>7</th>\n",
       "      <td>ymgC</td>\n",
       "      <td>1215752</td>\n",
       "      <td>fwd</td>\n",
       "      <td>operator</td>\n",
       "    </tr>\n",
       "  </tbody>\n",
       "</table>\n",
       "</div>"
      ],
      "text/plain": [
       "   name  start_site  rev                     notes\n",
       "0  livM     3597755  rev                       NaN\n",
       "1  ygbI     2861256  rev          race over comput\n",
       "2  deaD     3308086  rev  full operon over compute\n",
       "3  frlR     3504043  fwd                       NaN\n",
       "4  slyA     1720870  rev                       NaN\n",
       "5  wzxC     2120337  rev                      comp\n",
       "6  ycgB     1237285  rev                      comp\n",
       "7  ymgC     1215752  fwd                  operator"
      ]
     },
     "execution_count": 10,
     "metadata": {},
     "output_type": "execute_result"
    }
   ],
   "source": [
    "totdf = pd.read_csv('../data/prior_designs/example/selected_genes.csv')\n",
    "totdf"
   ]
  },
  {
   "cell_type": "markdown",
   "metadata": {},
   "source": [
    "To generate sequences, we take only the relevant information from the table, i.e, gene name, location of TSS, and transcription direction. These are the only columns that are needed for further preparation are `name`, `start_site`, and `rev`."
   ]
  },
  {
   "cell_type": "code",
   "execution_count": 11,
   "metadata": {},
   "outputs": [],
   "source": [
    "totdf = totdf.loc[:,['name','start_site','rev']]"
   ]
  },
  {
   "cell_type": "markdown",
   "metadata": {},
   "source": [
    "Now we can get the wildtype sequences for all TSS. Therefore we use the function `find_seq` in the `regseq.prior_designs` module. We use this function to read the genome at the position of the TSS and copy 160 bp, 115 upstream of the transcription start site and 45 bases downstream. These sequences are stored in the column `geneseq`. "
   ]
  },
  {
   "cell_type": "code",
   "execution_count": 12,
   "metadata": {},
   "outputs": [
    {
     "data": {
      "text/html": [
       "<div>\n",
       "<style scoped>\n",
       "    .dataframe tbody tr th:only-of-type {\n",
       "        vertical-align: middle;\n",
       "    }\n",
       "\n",
       "    .dataframe tbody tr th {\n",
       "        vertical-align: top;\n",
       "    }\n",
       "\n",
       "    .dataframe thead th {\n",
       "        text-align: right;\n",
       "    }\n",
       "</style>\n",
       "<table border=\"1\" class=\"dataframe\">\n",
       "  <thead>\n",
       "    <tr style=\"text-align: right;\">\n",
       "      <th></th>\n",
       "      <th>name</th>\n",
       "      <th>start_site</th>\n",
       "      <th>rev</th>\n",
       "      <th>geneseq</th>\n",
       "    </tr>\n",
       "  </thead>\n",
       "  <tbody>\n",
       "    <tr>\n",
       "      <th>0</th>\n",
       "      <td>livM</td>\n",
       "      <td>3597755</td>\n",
       "      <td>rev</td>\n",
       "      <td>ACAAAATTAAAACATTAGAGAATGAAAAATGTCCAGCATAATCCCC...</td>\n",
       "    </tr>\n",
       "    <tr>\n",
       "      <th>1</th>\n",
       "      <td>ygbI</td>\n",
       "      <td>2861256</td>\n",
       "      <td>rev</td>\n",
       "      <td>AAGATAACGGTATGGTGATCTGATTCACATAAATTAACATTGTGTG...</td>\n",
       "    </tr>\n",
       "    <tr>\n",
       "      <th>2</th>\n",
       "      <td>deaD</td>\n",
       "      <td>3308086</td>\n",
       "      <td>rev</td>\n",
       "      <td>AAGTACTACCTAAGTCTGGGGGATTTGGACAGCGCCACGGCACTGT...</td>\n",
       "    </tr>\n",
       "    <tr>\n",
       "      <th>3</th>\n",
       "      <td>frlR</td>\n",
       "      <td>3504043</td>\n",
       "      <td>fwd</td>\n",
       "      <td>ATTCAGTACCACGGTGCCTGGTAGGTATAACGTTGGCGTGAGCATC...</td>\n",
       "    </tr>\n",
       "    <tr>\n",
       "      <th>4</th>\n",
       "      <td>slyA</td>\n",
       "      <td>1720870</td>\n",
       "      <td>rev</td>\n",
       "      <td>TAATAAATATTCTTTAAGTGCGAAAAATTTACGCGCAATTTCTGAA...</td>\n",
       "    </tr>\n",
       "    <tr>\n",
       "      <th>5</th>\n",
       "      <td>wzxC</td>\n",
       "      <td>2120337</td>\n",
       "      <td>rev</td>\n",
       "      <td>TCAATGTGCTGACCGGGGGGATGTCGATTGTCGGTCCACGTCCGCA...</td>\n",
       "    </tr>\n",
       "    <tr>\n",
       "      <th>6</th>\n",
       "      <td>ycgB</td>\n",
       "      <td>1237285</td>\n",
       "      <td>rev</td>\n",
       "      <td>TATCCAGCATAAAATTCCGTTCAGAAGCGGATTAGTGGCACTCTGA...</td>\n",
       "    </tr>\n",
       "    <tr>\n",
       "      <th>7</th>\n",
       "      <td>ymgC</td>\n",
       "      <td>1215752</td>\n",
       "      <td>fwd</td>\n",
       "      <td>ATGATGCAATATGTTTTATCATAACACATTGTTTTATATGCATTAG...</td>\n",
       "    </tr>\n",
       "  </tbody>\n",
       "</table>\n",
       "</div>"
      ],
      "text/plain": [
       "   name  start_site  rev                                            geneseq\n",
       "0  livM     3597755  rev  ACAAAATTAAAACATTAGAGAATGAAAAATGTCCAGCATAATCCCC...\n",
       "1  ygbI     2861256  rev  AAGATAACGGTATGGTGATCTGATTCACATAAATTAACATTGTGTG...\n",
       "2  deaD     3308086  rev  AAGTACTACCTAAGTCTGGGGGATTTGGACAGCGCCACGGCACTGT...\n",
       "3  frlR     3504043  fwd  ATTCAGTACCACGGTGCCTGGTAGGTATAACGTTGGCGTGAGCATC...\n",
       "4  slyA     1720870  rev  TAATAAATATTCTTTAAGTGCGAAAAATTTACGCGCAATTTCTGAA...\n",
       "5  wzxC     2120337  rev  TCAATGTGCTGACCGGGGGGATGTCGATTGTCGGTCCACGTCCGCA...\n",
       "6  ycgB     1237285  rev  TATCCAGCATAAAATTCCGTTCAGAAGCGGATTAGTGGCACTCTGA...\n",
       "7  ymgC     1215752  fwd  ATGATGCAATATGTTTTATCATAACACATTGTTTTATATGCATTAG..."
      ]
     },
     "execution_count": 12,
     "metadata": {},
     "output_type": "execute_result"
    }
   ],
   "source": [
    "totdf['geneseq'] = totdf.apply(regseq.prior_designs.find_seq, axis=1, args=(genome,))\n",
    "totdf"
   ]
  },
  {
   "cell_type": "markdown",
   "metadata": {},
   "source": [
    "Note that the sequences in the `geneseq` column all have the same length, and are cut short for displaying purposes, hence `...` at the end. We can double check by asking if there is any entry that has a different length."
   ]
  },
  {
   "cell_type": "code",
   "execution_count": 15,
   "metadata": {},
   "outputs": [
    {
     "data": {
      "text/plain": [
       "False"
      ]
     },
     "execution_count": 15,
     "metadata": {},
     "output_type": "execute_result"
    }
   ],
   "source": [
    "any([len(x) != 160 for x in totdf['geneseq'].values])"
   ]
  },
  {
   "cell_type": "markdown",
   "metadata": {},
   "source": [
    "To not run all these steps separately, we combined them into a single function `regseq.prior_designs.get_wt_seqs`, that only takes the file with gene names, transcription start sites and direction of transcription as input, as well as the path where the sequences are saved to. "
   ]
  },
  {
   "cell_type": "code",
   "execution_count": 7,
   "metadata": {},
   "outputs": [],
   "source": [
    "file = '../data/prior_designs/example/selected_genes.csv'\n",
    "output = '../data/prior_designs/example/wtsequences.csv'\n",
    "regseq.prior_designs.get_wt_seqs(file, output)"
   ]
  },
  {
   "cell_type": "markdown",
   "metadata": {},
   "source": [
    "Let's look at the output and confirm that it is what we expect it is."
   ]
  },
  {
   "cell_type": "code",
   "execution_count": 8,
   "metadata": {},
   "outputs": [
    {
     "data": {
      "text/html": [
       "<div>\n",
       "<style scoped>\n",
       "    .dataframe tbody tr th:only-of-type {\n",
       "        vertical-align: middle;\n",
       "    }\n",
       "\n",
       "    .dataframe tbody tr th {\n",
       "        vertical-align: top;\n",
       "    }\n",
       "\n",
       "    .dataframe thead th {\n",
       "        text-align: right;\n",
       "    }\n",
       "</style>\n",
       "<table border=\"1\" class=\"dataframe\">\n",
       "  <thead>\n",
       "    <tr style=\"text-align: right;\">\n",
       "      <th></th>\n",
       "      <th>name</th>\n",
       "      <th>start_site</th>\n",
       "      <th>rev</th>\n",
       "      <th>geneseq</th>\n",
       "    </tr>\n",
       "  </thead>\n",
       "  <tbody>\n",
       "    <tr>\n",
       "      <th>0</th>\n",
       "      <td>livM</td>\n",
       "      <td>3597755</td>\n",
       "      <td>rev</td>\n",
       "      <td>ACAAAATTAAAACATTAGAGAATGAAAAATGTCCAGCATAATCCCC...</td>\n",
       "    </tr>\n",
       "    <tr>\n",
       "      <th>1</th>\n",
       "      <td>ygbI</td>\n",
       "      <td>2861256</td>\n",
       "      <td>rev</td>\n",
       "      <td>AAGATAACGGTATGGTGATCTGATTCACATAAATTAACATTGTGTG...</td>\n",
       "    </tr>\n",
       "    <tr>\n",
       "      <th>2</th>\n",
       "      <td>deaD</td>\n",
       "      <td>3308086</td>\n",
       "      <td>rev</td>\n",
       "      <td>AAGTACTACCTAAGTCTGGGGGATTTGGACAGCGCCACGGCACTGT...</td>\n",
       "    </tr>\n",
       "    <tr>\n",
       "      <th>3</th>\n",
       "      <td>frlR</td>\n",
       "      <td>3504043</td>\n",
       "      <td>fwd</td>\n",
       "      <td>ATTCAGTACCACGGTGCCTGGTAGGTATAACGTTGGCGTGAGCATC...</td>\n",
       "    </tr>\n",
       "    <tr>\n",
       "      <th>4</th>\n",
       "      <td>slyA</td>\n",
       "      <td>1720870</td>\n",
       "      <td>rev</td>\n",
       "      <td>TAATAAATATTCTTTAAGTGCGAAAAATTTACGCGCAATTTCTGAA...</td>\n",
       "    </tr>\n",
       "    <tr>\n",
       "      <th>5</th>\n",
       "      <td>wzxC</td>\n",
       "      <td>2120337</td>\n",
       "      <td>rev</td>\n",
       "      <td>TCAATGTGCTGACCGGGGGGATGTCGATTGTCGGTCCACGTCCGCA...</td>\n",
       "    </tr>\n",
       "    <tr>\n",
       "      <th>6</th>\n",
       "      <td>ycgB</td>\n",
       "      <td>1237285</td>\n",
       "      <td>rev</td>\n",
       "      <td>TATCCAGCATAAAATTCCGTTCAGAAGCGGATTAGTGGCACTCTGA...</td>\n",
       "    </tr>\n",
       "    <tr>\n",
       "      <th>7</th>\n",
       "      <td>ymgC</td>\n",
       "      <td>1215752</td>\n",
       "      <td>fwd</td>\n",
       "      <td>ATGATGCAATATGTTTTATCATAACACATTGTTTTATATGCATTAG...</td>\n",
       "    </tr>\n",
       "  </tbody>\n",
       "</table>\n",
       "</div>"
      ],
      "text/plain": [
       "   name  start_site  rev                                            geneseq\n",
       "0  livM     3597755  rev  ACAAAATTAAAACATTAGAGAATGAAAAATGTCCAGCATAATCCCC...\n",
       "1  ygbI     2861256  rev  AAGATAACGGTATGGTGATCTGATTCACATAAATTAACATTGTGTG...\n",
       "2  deaD     3308086  rev  AAGTACTACCTAAGTCTGGGGGATTTGGACAGCGCCACGGCACTGT...\n",
       "3  frlR     3504043  fwd  ATTCAGTACCACGGTGCCTGGTAGGTATAACGTTGGCGTGAGCATC...\n",
       "4  slyA     1720870  rev  TAATAAATATTCTTTAAGTGCGAAAAATTTACGCGCAATTTCTGAA...\n",
       "5  wzxC     2120337  rev  TCAATGTGCTGACCGGGGGGATGTCGATTGTCGGTCCACGTCCGCA...\n",
       "6  ycgB     1237285  rev  TATCCAGCATAAAATTCCGTTCAGAAGCGGATTAGTGGCACTCTGA...\n",
       "7  ymgC     1215752  fwd  ATGATGCAATATGTTTTATCATAACACATTGTTTTATATGCATTAG..."
      ]
     },
     "execution_count": 8,
     "metadata": {},
     "output_type": "execute_result"
    }
   ],
   "source": [
    "pd.read_csv('../data/prior_designs/example/wtsequences.csv')"
   ]
  },
  {
   "cell_type": "markdown",
   "metadata": {},
   "source": [
    "Finally, here are the versions of packages used in this notebook. To display the versions, we are using the Jupyter Lab extension `watermark`, which can be found [here](https://github.com/rasbt/watermark). (This will already be installed if you use the environment we prepared.)"
   ]
  },
  {
   "cell_type": "markdown",
   "metadata": {},
   "source": [
    "## Computing Enviromnment"
   ]
  },
  {
   "cell_type": "code",
   "execution_count": 9,
   "metadata": {},
   "outputs": [
    {
     "name": "stdout",
     "output_type": "stream",
     "text": [
      "CPython 3.6.9\n",
      "IPython 7.13.0\n",
      "\n",
      "pandas 1.0.3\n",
      "Bio 1.76\n",
      "regseq unknown\n"
     ]
    }
   ],
   "source": [
    "%load_ext watermark\n",
    "%watermark -v -p pandas,Bio,regseq"
   ]
  }
 ],
 "metadata": {
  "kernelspec": {
   "display_name": "Python (mpathic)",
   "language": "python",
   "name": "mpathic_env"
  },
  "language_info": {
   "codemirror_mode": {
    "name": "ipython",
    "version": 3
   },
   "file_extension": ".py",
   "mimetype": "text/x-python",
   "name": "python",
   "nbconvert_exporter": "python",
   "pygments_lexer": "ipython3",
   "version": "3.6.9"
  }
 },
 "nbformat": 4,
 "nbformat_minor": 4
}
