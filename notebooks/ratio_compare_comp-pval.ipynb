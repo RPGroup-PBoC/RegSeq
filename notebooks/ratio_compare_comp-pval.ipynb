{
 "cells": [
  {
   "cell_type": "code",
   "execution_count": 21,
   "metadata": {},
   "outputs": [],
   "source": [
    "#import basic modules\n",
    "import glob\n",
    "import numpy as np\n",
    "import pandas as pd\n",
    "import matplotlib.pyplot as plt\n",
    "import scipy.stats"
   ]
  },
  {
   "cell_type": "markdown",
   "metadata": {},
   "source": [
    "The purpose of this script is assign p-values to the enrichments for the identified transcription factors"
   ]
  },
  {
   "cell_type": "code",
   "execution_count": 15,
   "metadata": {},
   "outputs": [],
   "source": [
    "#load in all mass spec proteinGroup files. These contain the normalized heavy to light ratios for all\n",
    "#identified proteins.\n",
    "allnames = glob.glob('../massspec/protein*')"
   ]
  },
  {
   "cell_type": "code",
   "execution_count": 16,
   "metadata": {},
   "outputs": [],
   "source": [
    "#we can also load in the proteinGroup files for only the targets we will be assessing.\n",
    "all_filtered = glob.glob('../massspec/filtered/*')"
   ]
  },
  {
   "cell_type": "code",
   "execution_count": 22,
   "metadata": {},
   "outputs": [],
   "source": [
    "#We will compile all ratios from all mass spec runs. We will organize these by the protein name. \n",
    "fulldf = pd.DataFrame()\n",
    "for i,n in enumerate(allnames):\n",
    "    #load in files delimited by tabs.\n",
    "    tempdf = pd.io.parsers.read_csv(n,sep='\\t')\n",
    "    #get column names that are relevant for our search\n",
    "    columns = tempdf.columns\n",
    "    #filter out those columns we don't want to check.\n",
    "    good_cols = [x for x in columns if 'normalized ' in x if 'Heavy' not in x]\n",
    "    for i, col in enumerate(good_cols):\n",
    "        #create minimal data frame with only protein and gene name and the column containing data for one\n",
    "        #dataset.\n",
    "        tempdf2 = tempdf[['Protein names','Gene names'] + [col]].copy()\n",
    "        #remove any rows with missing entries. These will occur because not every protein will be identified\n",
    "        #in every run.\n",
    "        tempdf2 = tempdf2.dropna()\n",
    "        #join together the results from each of the individual datasets.\n",
    "        fulldf = pd.concat([fulldf,tempdf2],axis=0,sort=True)"
   ]
  },
  {
   "cell_type": "code",
   "execution_count": 23,
   "metadata": {},
   "outputs": [],
   "source": [
    "#we will put a 0 in the place of every not a number entry.\n",
    "fulldf2 = fulldf.fillna(value=0)\n",
    "\n",
    "fulldf3 = fulldf2.groupby('Protein names').sum()"
   ]
  },
  {
   "cell_type": "code",
   "execution_count": 24,
   "metadata": {},
   "outputs": [],
   "source": [
    "#initialize empty ddata frames to contain the summary statistics (mean and variance for each dataset.)\n",
    "out_df = pd.DataFrame(columns=['mean','var'])\n",
    "out_background_df = pd.DataFrame(columns=['mean','var'])\n",
    "out_pval = pd.DataFrame(columns=['pval'])"
   ]
  },
  {
   "cell_type": "code",
   "execution_count": 26,
   "metadata": {},
   "outputs": [],
   "source": [
    "#now we will go through each set where we think we have identified a transcription factor and check to see\n",
    "#if it is significantly enriched.\n",
    "for z,filtered_name in enumerate(all_filtered):\n",
    "    indf = pd.io.parsers.read_csv(filtered_name)\n",
    "    #the column with the enrichments will be the last column, so we will save that for use later.\n",
    "    indf_ratio_col = indf.columns[-1]\n",
    "    #the files are sorted so that the identified transcription factor will be the first entry. We will\n",
    "    #save this row separately.\n",
    "    row = indf.loc[0,:]\n",
    "    #The name of the identified factor will be in the 'Protein names' column of the first row.\n",
    "    name = row['Protein names']\n",
    "    \n",
    "    #create a dataframe that is a subset of the fulldf3, which contains all massspec data. this subdataframe\n",
    "    #only contains the information on the particular protein of interest.\n",
    "    q = fulldf3.loc[name]\n",
    "    #get out the enrichment ratio of the identified TF\n",
    "    theratio = float(row[indf_ratio_col])\n",
    "    #now we get all the rows that contain the ratios for the protein of interest from datasets where there\n",
    "    #is no enrichment. The variability in these ratios allows us to estimate the variation in the measured\n",
    "    #ratio for this protein.\n",
    "    goodrows = (q.index != indf_ratio_col)\n",
    "    q = q[goodrows]\n",
    "    #We will not filter out any samples with enrichment equal to exactly 0 as this only occurs when the protein\n",
    "    #wasn't identified at all in one sample and so these ratios can't be relied upon.\n",
    "    q = q[q > 1e-8]\n",
    "    #we will do the estimate in log space, as the uncertainty in ratio estimation will likely be on the log scale.\n",
    "    #estimate mean and variance for the ratios for the target protein.\n",
    "    tempmean = np.log(theratio)\n",
    "    tempvar = np.var(np.log(q))\n",
    "    \n",
    "    #save in dataframe\n",
    "    out_df.loc[indf_ratio_col,:] = [tempmean,tempvar]\n",
    "    \n",
    "    #do the same estimation for the background proteins. \n",
    "    background_df = indf.loc[1:,:]\n",
    "    background_tempmean = np.mean(np.log(background_df.loc[:,indf_ratio_col]))\n",
    "    background_tempvar = np.var(np.log(background_df.loc[:,indf_ratio_col]))\n",
    "    \n",
    "    out_background_df.loc[str(indf_ratio_col),:] = [float(background_tempmean),float(background_tempvar)]\n",
    "    \n",
    "    #use a t test to estimate the p-value that the target protein is not significantly enriched compared to\n",
    "    #background.\n",
    "    statistic,pval = scipy.stats.ttest_ind_from_stats(tempmean,tempvar,len(q),background_tempmean,background_tempvar,len(background_df.index))\n",
    "    \n",
    "    #save each p-value to a file.\n",
    "    with open('../massspec/test_pval','a') as f:\n",
    "        f.write(indf_ratio_col + ',' + str(pval) + '\\n')\n",
    "    out_pval.loc[indf_ratio_col,:] = [pval]"
   ]
  },
  {
   "cell_type": "code",
   "execution_count": null,
   "metadata": {},
   "outputs": [],
   "source": []
  }
 ],
 "metadata": {
  "kernelspec": {
   "display_name": "Python 3",
   "language": "python",
   "name": "python3"
  },
  "language_info": {
   "codemirror_mode": {
    "name": "ipython",
    "version": 3
   },
   "file_extension": ".py",
   "mimetype": "text/x-python",
   "name": "python",
   "nbconvert_exporter": "python",
   "pygments_lexer": "ipython3",
   "version": "3.6.9"
  }
 },
 "nbformat": 4,
 "nbformat_minor": 2
}
