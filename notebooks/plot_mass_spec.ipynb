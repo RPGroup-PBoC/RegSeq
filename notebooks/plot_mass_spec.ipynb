{
 "cells": [
  {
   "cell_type": "code",
   "execution_count": 3,
   "metadata": {},
   "outputs": [],
   "source": [
    "#import out basic plotting tools\n",
    "import matplotlib.pyplot as plt\n",
    "import pandas as pd\n",
    "import seaborn as sns"
   ]
  },
  {
   "cell_type": "code",
   "execution_count": 4,
   "metadata": {},
   "outputs": [],
   "source": [
    "#load in the data file using pandas\n",
    "#these initial data files were created using the maxquant software to search raw mass spec files.\n",
    "df = pd.io.parsers.read_csv('/home/bill/next100genes/massspec/all/proteinGroups1Apr19.txt',sep='\\t')"
   ]
  },
  {
   "cell_type": "code",
   "execution_count": 5,
   "metadata": {},
   "outputs": [],
   "source": [
    "def pboc_style_mpl():\n",
    "    \"\"\"\n",
    "    Formats matplotlib plotting enviroment to that used in\n",
    "    Physical Biology of the Cell, 2nd edition.\n",
    "    \"\"\"\n",
    "    rc = {'lines.linewidth': 1.25,\n",
    "          'axes.labelsize': 8,\n",
    "          'axes.titlesize': 9,\n",
    "          'axes.facecolor': '#E3DCD0',\n",
    "          'xtick.labelsize': 7,\n",
    "          'ytick.labelsize': 7,\n",
    "          'font.family': 'Lucida Sans Unicode',\n",
    "          'grid.linestyle': '-',\n",
    "          'grid.linewidth': 0.5,\n",
    "          'grid.color': '#ffffff',\n",
    "          'legend.fontsize': 8,\n",
    "          'figure.dpi': 300,\n",
    "          'savefig.dpi': 300}\n",
    "    plt.rc('text.latex', preamble=r'\\usepackage{sfmath}')\n",
    "    plt.rc('xtick.major', pad=-1)\n",
    "    plt.rc('ytick.major', pad=-1)\n",
    "    plt.rc('mathtext', fontset='stixsans', sf='sansserif')\n",
    "    plt.rc('figure', figsize=[3.5, 2.5])\n",
    "    plt.rc('svg', fonttype='none')\n",
    "    plt.rc('legend', title_fontsize='8', frameon=True,\n",
    "           facecolor='#E3DCD0', framealpha=1)\n",
    "    sns.set_style('darkgrid', rc=rc)\n",
    "    sns.set_palette(\"colorblind\", color_codes=True)\n",
    "    sns.set_context('notebook', rc=rc)\n",
    "    \n",
    "#run the style conversion\n",
    "pboc_style_mpl()"
   ]
  },
  {
   "cell_type": "code",
   "execution_count": 203,
   "metadata": {},
   "outputs": [],
   "source": [
    "#first we will draw out only the columns that have the data we need. This is the protein names\n",
    "#and the normalized ratios from the proteins.\n",
    "#the normalization is done by the maxquant program automatically.\n",
    "column_name = 'Ratio H/L normalized D3_2_2Apr'\n",
    "enrichment = df[['Protein names',column_name]]"
   ]
  },
  {
   "cell_type": "code",
   "execution_count": 204,
   "metadata": {
    "collapsed": true
   },
   "outputs": [],
   "source": [
    "#Some entries will have missing data. These will have not a number entries. We remove these.\n",
    "enrichment2 = enrichment.dropna()"
   ]
  },
  {
   "cell_type": "code",
   "execution_count": 6,
   "metadata": {},
   "outputs": [],
   "source": [
    "#We will view only those proteins that bind to DNA as only they could be transcription factors.\n",
    "def check_DNA(s):\n",
    "    if 'DNA' in s or 'HTH' in s or 'Transcriptional' in s or 'repress' in s or 'transcript' in s or 'activator' in s or 'regulator' in s:\n",
    "        return True\n",
    "    else:\n",
    "        return False"
   ]
  },
  {
   "cell_type": "code",
   "execution_count": 188,
   "metadata": {
    "collapsed": true
   },
   "outputs": [],
   "source": [
    "#apply the check_dna function and then keep only the DNA binding rows\n",
    "goodrows = enrichment2['Protein names'].apply(check_DNA)\n",
    "\n",
    "enrichment3 = enrichment2[goodrows]"
   ]
  },
  {
   "cell_type": "code",
   "execution_count": 191,
   "metadata": {},
   "outputs": [
    {
     "data": {
      "image/png": "[encoded data removed]",
      "text/plain": [
       "<Figure size 252x180 with 1 Axes>"
      ]
     },
     "metadata": {},
     "output_type": "display_data"
    }
   ],
   "source": [
    "#plot the results.\n",
    "fig,ax = plt.subplots()\n",
    "ax.set_ylabel('enrichment')\n",
    "sns.stripplot(data= list(enrichment3[column_name]),jitter=True,size=12,alpha=.7)\n",
    "plt.show()"
   ]
  }
 ],
 "metadata": {
  "kernelspec": {
   "display_name": "Python 3",
   "language": "python",
   "name": "python3"
  },
  "language_info": {
   "codemirror_mode": {
    "name": "ipython",
    "version": 3
   },
   "file_extension": ".py",
   "mimetype": "text/x-python",
   "name": "python",
   "nbconvert_exporter": "python",
   "pygments_lexer": "ipython3",
   "version": "3.6.9"
  }
 },
 "nbformat": 4,
 "nbformat_minor": 2
}
