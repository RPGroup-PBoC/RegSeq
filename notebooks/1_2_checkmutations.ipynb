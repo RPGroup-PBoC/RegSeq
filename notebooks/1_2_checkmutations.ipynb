{
 "cells": [
  {
   "cell_type": "markdown",
   "metadata": {},
   "source": [
    "# Generate sequences with mutations"
   ]
  },
  {
   "cell_type": "markdown",
   "metadata": {},
   "source": [
    "The code in this tutorial is released under the [MIT License](https://opensource.org/licenses/MIT). All the content in this notebook is under a [CC-by 4.0 License](https://creativecommons.org/licenses/by/4.0/). "
   ]
  },
  {
   "cell_type": "code",
   "execution_count": 7,
   "metadata": {
    "vscode": {
     "languageId": "python"
    }
   },
   "outputs": [],
   "source": [
    "import numpy as np\n",
    "import pandas as pd\n",
    "\n",
    "import Bio.SeqIO\n",
    "import regseq\n",
    "\n",
    "# import sortseq.utils as utils\n",
    "import mpathic.utils\n",
    "seq_dict,inv_dict = mpathic.utils.choose_dict('dna')"
   ]
  },
  {
   "cell_type": "markdown",
   "metadata": {},
   "source": [
    "For a more detailed explanation of the purpose of this notebook, refer to the [documentation of the Reg-Seq experiment](https://github.com/RPGroup-PBoC/regseq/wiki/1.-Sequence-Design)."
   ]
  },
  {
   "cell_type": "markdown",
   "metadata": {},
   "source": [
    "In this notebook, we are generating a collection of mutated sequences based on  sequences obtained from wild type. For a demonstration of how to obtain the necessary wild type sequences, refer to the chapter *Obtaining Wildtype Sequences of Regulatory Binding Sites* in the [documentation of the Reg-Seq experiment](https://github.com/RPGroup-PBoC/regseq/wiki/1.-Sequence-Design), as well as the `1_1_create_gene_seqs.ipynb` notebook in this repository. These sequences are the basis for creating the library and adding barcodes in the following steps."
   ]
  },
  {
   "cell_type": "markdown",
   "metadata": {},
   "source": [
    "The file contains the names of the genes of interest, their transcription start site, the direction of transcription, and the genetic sequence from 115 bp downstream and 45 bp upstream of the ranscription start site from the wild type genome. "
   ]
  },
  {
   "cell_type": "code",
   "execution_count": 8,
   "metadata": {
    "vscode": {
     "languageId": "python"
    }
   },
   "outputs": [
    {
     "data": {
      "text/html": [
       "<div>\n",
       "<style scoped>\n",
       "    .dataframe tbody tr th:only-of-type {\n",
       "        vertical-align: middle;\n",
       "    }\n",
       "\n",
       "    .dataframe tbody tr th {\n",
       "        vertical-align: top;\n",
       "    }\n",
       "\n",
       "    .dataframe thead th {\n",
       "        text-align: right;\n",
       "    }\n",
       "</style>\n",
       "<table border=\"1\" class=\"dataframe\">\n",
       "  <thead>\n",
       "    <tr style=\"text-align: right;\">\n",
       "      <th></th>\n",
       "      <th>name</th>\n",
       "      <th>start_site</th>\n",
       "      <th>rev</th>\n",
       "      <th>geneseq</th>\n",
       "    </tr>\n",
       "  </thead>\n",
       "  <tbody>\n",
       "    <tr>\n",
       "      <th>0</th>\n",
       "      <td>livM</td>\n",
       "      <td>3597755</td>\n",
       "      <td>rev</td>\n",
       "      <td>ACAAAATTAAAACATTAGAGAATGAAAAATGTCCAGCATAATCCCC...</td>\n",
       "    </tr>\n",
       "    <tr>\n",
       "      <th>1</th>\n",
       "      <td>ygbI</td>\n",
       "      <td>2861256</td>\n",
       "      <td>rev</td>\n",
       "      <td>AAGATAACGGTATGGTGATCTGATTCACATAAATTAACATTGTGTG...</td>\n",
       "    </tr>\n",
       "    <tr>\n",
       "      <th>2</th>\n",
       "      <td>deaD</td>\n",
       "      <td>3308086</td>\n",
       "      <td>rev</td>\n",
       "      <td>AAGTACTACCTAAGTCTGGGGGATTTGGACAGCGCCACGGCACTGT...</td>\n",
       "    </tr>\n",
       "    <tr>\n",
       "      <th>3</th>\n",
       "      <td>frlR</td>\n",
       "      <td>3504043</td>\n",
       "      <td>fwd</td>\n",
       "      <td>ATTCAGTACCACGGTGCCTGGTAGGTATAACGTTGGCGTGAGCATC...</td>\n",
       "    </tr>\n",
       "    <tr>\n",
       "      <th>4</th>\n",
       "      <td>slyA</td>\n",
       "      <td>1720870</td>\n",
       "      <td>rev</td>\n",
       "      <td>TAATAAATATTCTTTAAGTGCGAAAAATTTACGCGCAATTTCTGAA...</td>\n",
       "    </tr>\n",
       "  </tbody>\n",
       "</table>\n",
       "</div>"
      ],
      "text/plain": [
       "   name  start_site  rev                                            geneseq\n",
       "0  livM     3597755  rev  ACAAAATTAAAACATTAGAGAATGAAAAATGTCCAGCATAATCCCC...\n",
       "1  ygbI     2861256  rev  AAGATAACGGTATGGTGATCTGATTCACATAAATTAACATTGTGTG...\n",
       "2  deaD     3308086  rev  AAGTACTACCTAAGTCTGGGGGATTTGGACAGCGCCACGGCACTGT...\n",
       "3  frlR     3504043  fwd  ATTCAGTACCACGGTGCCTGGTAGGTATAACGTTGGCGTGAGCATC...\n",
       "4  slyA     1720870  rev  TAATAAATATTCTTTAAGTGCGAAAAATTTACGCGCAATTTCTGAA..."
      ]
     },
     "execution_count": 8,
     "metadata": {},
     "output_type": "execute_result"
    }
   ],
   "source": [
    "df = pd.read_csv('../data/prior_designs/example/wtsequences.csv')\n",
    "df.head()"
   ]
  },
  {
   "cell_type": "markdown",
   "metadata": {},
   "source": [
    "When generating mutated sequences for a Reg-Seq experiment, we typically \"cluster\" 3-5 mutated gene libraries together. Each of these clusters shares a set of orthogonal primer binding sites, enabling each cluster to be individually amplified, apart from the other mutated libraries. In this context orthogonal means that the generated primers do not cross-hybridize, i.e., the probability of binding of primers to each other is very low. The number of possible 20mers is about $10^12$, therefore the probability of generating a primer that is identical to a 20mer in the genome is negligible. We cluster genes in this way for a couple of reasons:\n",
    "\n",
    "1. If one pair of orthogonal primers does not amplify as well as the other primer pairs, one needs not throw out the entire oligo pool; rather, you could simply reorder the 3-5 affected genes, thus potentially saving money in the future.\n",
    "2. Clustering genes enables selective amplification of a subset of genes. If you wanted to repeat Reg-Seq on just a handful of related genes, for instance, then you could specifically amplify that subset and repeat the experiment. Again, this would save money, as you would not waste sequencing reads on an Illumina machine by repeating a Reg-Seq experiment on the entire oligo pool.\n",
    "\n",
    "There are many orthogonal primer pairs (3,000, to be exact) that can be appended to groups of sequences for selective amplification. We use orthogonal primer pairs that were developed by the Kosuri lab at UCLA, a full list of which can be found in the the data/primers folder of this GitHub repository."
   ]
  },
  {
   "cell_type": "code",
   "execution_count": 9,
   "metadata": {
    "vscode": {
     "languageId": "python"
    }
   },
   "outputs": [],
   "source": [
    "kosprimefwd = Bio.SeqIO.parse('../data/primers/forward_finalprimers.fasta','fasta')\n",
    "kosprimerev = Bio.SeqIO.parse('../data/primers/reverse_finalprimers.fasta','fasta')"
   ]
  },
  {
   "cell_type": "markdown",
   "metadata": {},
   "source": [
    "Let's have a look at a couple of primers. Since the primers are in the `fasta` format, we first have to read out the format and find the sequence."
   ]
  },
  {
   "cell_type": "code",
   "execution_count": 10,
   "metadata": {
    "vscode": {
     "languageId": "python"
    }
   },
   "outputs": [
    {
     "name": "stdout",
     "output_type": "stream",
     "text": [
      "GCTTATTCGTGCCGTGTTAT\n",
      "TTTGCTTCAGTCAGATTCGC\n",
      "GTCGAGTCCTATGTAACCGT\n",
      "GTAAGATGGAAGCCGGGATA\n",
      "GGTGTCGCAACATGATCTAC\n"
     ]
    }
   ],
   "source": [
    "seqs = list(enumerate(kosprimefwd))[100:105]\n",
    "for i,fwd_rec in seqs:\n",
    "    print(str(fwd_rec.seq))"
   ]
  },
  {
   "cell_type": "markdown",
   "metadata": {},
   "source": [
    "These 20-mers are where the amplification primers bind and amplify, and each pair is orthogonal from the others (e.g. they will not cross-amplify). Since all primer pairs in the list are equally orthogonal, there is no logic in choosing primers.\n",
    "<br><br>\n",
    "We append these primer sequences to the 5' and 3' ends (fwd and rev sequences, respectively) for each mutated promoter sequence that is ordered. The mutated sequences for each promoter are designed computationally such that each base in the 160 bp promoter region has a 10% probability of being mutated. For each given promoter’s library, ensure that the mutation rate as averaged across all sequences is kept between 9.5% and 10.5%, otherwise regenerate the library."
   ]
  },
  {
   "cell_type": "markdown",
   "metadata": {},
   "source": [
    "Now we have to find the number of primer pairs we need for the experiment. Therefore we count the number of genes in the list provided above, stored in the dataframe `df`. "
   ]
  },
  {
   "cell_type": "code",
   "execution_count": 11,
   "metadata": {
    "vscode": {
     "languageId": "python"
    }
   },
   "outputs": [
    {
     "name": "stdout",
     "output_type": "stream",
     "text": [
      "Number of genes: 8\n",
      "Number of primer pairs: 2\n"
     ]
    }
   ],
   "source": [
    "ngenes = len(df.index)\n",
    "print(\"Number of genes: {}\".format(ngenes))\n",
    "num_groups = int(np.ceil(ngenes/5))\n",
    "print(\"Number of primer pairs: {}\".format(num_groups))"
   ]
  },
  {
   "cell_type": "markdown",
   "metadata": {},
   "source": [
    "Having the number of primer pairs we need, we can extract them from the list. Therefore we use the function `get_primers` in the `regseq.prior_designs` module. We need to give the list of forward and reverse primers that we loaded in previously, and the index of the first primer pair, which we set to 100 here. As said previously, there is no logic in choosing primer pairs, but we had success using these pairs in experiments. "
   ]
  },
  {
   "cell_type": "code",
   "execution_count": 12,
   "metadata": {
    "vscode": {
     "languageId": "python"
    }
   },
   "outputs": [],
   "source": [
    "kosprimefwd = Bio.SeqIO.parse('../data/primers/forward_finalprimers.fasta','fasta')\n",
    "kosprimerev = Bio.SeqIO.parse('../data/primers/reverse_finalprimers.fasta','fasta')\n",
    "fwdprimes, revprimes = regseq.prior_designs.get_primers(kosprimefwd, kosprimerev, 100, 100+num_groups-1)"
   ]
  },
  {
   "cell_type": "markdown",
   "metadata": {},
   "source": [
    "The function returns two lists, containing the forward and reverse primers each. Let's have a look at one of these lists."
   ]
  },
  {
   "cell_type": "code",
   "execution_count": 13,
   "metadata": {
    "vscode": {
     "languageId": "python"
    }
   },
   "outputs": [
    {
     "data": {
      "text/plain": [
       "['GCTTATTCGTGCCGTGTTAT', 'TTTGCTTCAGTCAGATTCGC']"
      ]
     },
     "execution_count": 13,
     "metadata": {},
     "output_type": "execute_result"
    }
   ],
   "source": [
    "fwdprimes"
   ]
  },
  {
   "cell_type": "markdown",
   "metadata": {},
   "source": [
    "In total, we ordered 150000 sequences for the Reg-Seq experiment. This is the combined number for all genes considered. To compute how many mutated sequences we generate per gene, we have to divide this number by the number of genes. The result should be at least 1200-1500 per gene. If the resulting number is far lower, you have to consider ordering more sequences. In this example we compute the number of sequences per gene with the variable `nseqs`, which is 150000/8 - 1 = 18749. We have to substract one from the number of generated sequences, since the first sequence for each gene will be the wildtype sequence. "
   ]
  },
  {
   "cell_type": "code",
   "execution_count": 14,
   "metadata": {
    "vscode": {
     "languageId": "python"
    }
   },
   "outputs": [
    {
     "data": {
      "text/plain": [
       "18749"
      ]
     },
     "execution_count": 14,
     "metadata": {},
     "output_type": "execute_result"
    }
   ],
   "source": [
    "norder = 150000\n",
    "nseqs = int(np.floor(norder/ngenes))-1\n",
    "nseqs"
   ]
  },
  {
   "cell_type": "markdown",
   "metadata": {},
   "source": [
    "Now we generate mutated sequences and create an output data frame with each mutant sequence and associated gene. For information on this function, either type `?regseq.prior_designs.mutation_sequences`, or find the function in the `../regseq/prior_designs.py` file. In short, we are generating sequences from the wild type sequence, with a mutation rate of 0.1/bp. This process is completely random, is possible that some sequences end up with a higher or lower rate than this, or that some nucleotides are underrepresented. We tackle that issue later in this notebook."
   ]
  },
  {
   "cell_type": "code",
   "execution_count": 15,
   "metadata": {
    "vscode": {
     "languageId": "python"
    }
   },
   "outputs": [],
   "source": [
    "allseqs, primer_df = regseq.prior_designs.mutation_sequences(df, fwdprimes, revprimes, nseqs)"
   ]
  },
  {
   "cell_type": "markdown",
   "metadata": {},
   "source": [
    "Now we can evaluate the resulting sequences to check for a good mutation rates. If the reader is interested in details of this function, we recommend the docstring, `?regseq.prior_designs.check_mutation_rate`. The full code can be found in the file `../regseq/prior_designs.py`. The function checks the generated sequences for repeated sequences, either very high or very total mutation rates computed from all generated sequences, and exceptionally rare nucleotides. The user can decide if a just a warning should be returned if a criteria is not met, or if new sequences should be generated to fulfill the criteria.\n",
    "<br>\n",
    "For example, in the cell below we want to generate new sequences in case that a nucleotide is underrepresented, since this issue is occuring quite frequently. "
   ]
  },
  {
   "cell_type": "code",
   "execution_count": 16,
   "metadata": {
    "vscode": {
     "languageId": "python"
    }
   },
   "outputs": [
    {
     "name": "stdout",
     "output_type": "stream",
     "text": [
      "Gene livM done.\n",
      "Gene ygbI done.\n",
      "Gene deaD done.\n",
      "Gene frlR done.\n",
      "Gene slyA done.\n",
      "Gene wzxC done.\n",
      "Gene ycgB done.\n",
      "Gene ymgC done.\n"
     ]
    }
   ],
   "source": [
    "allseqs = regseq.prior_designs.check_mutation_rate(df, allseqs, max_it=10, fix_low_base=True, fix_ex_rate=True, primer_df=primer_df)"
   ]
  },
  {
   "cell_type": "markdown",
   "metadata": {},
   "source": [
    "Let’s look at a mutated sequences and compare them to the wildtype for gene `livM`. Therefore we read the first line of the dataframe `allseqs` we just created, and read the wildtype sequence from the list of wildtype sequences from the beginning."
   ]
  },
  {
   "cell_type": "code",
   "execution_count": 17,
   "metadata": {
    "vscode": {
     "languageId": "python"
    }
   },
   "outputs": [
    {
     "name": "stdout",
     "output_type": "stream",
     "text": [
      "Length wildtype sequence: 160\n",
      "Length generated sequence: 200\n"
     ]
    }
   ],
   "source": [
    "# Find mutated sequence\n",
    "mutated = allseqs.loc[allseqs[\"gene\"] == \"livM\"].iloc[1][\"seq\"]\n",
    "\n",
    "# Find wildtype sequence\n",
    "wildtype = df.loc[df[\"name\"] == \"livM\", \"geneseq\"].values[0]\n",
    "\n",
    "print(\"Length wildtype sequence: {}\".format(len(wildtype)))\n",
    "print(\"Length generated sequence: {}\".format(len(mutated)))"
   ]
  },
  {
   "cell_type": "markdown",
   "metadata": {},
   "source": [
    "Let's look at the section of the sequences and compare the generated sequences to the wildtype. You will find some patterns in the mutations. This is coming from the way the `mpathic` package is creating the sequences. However, when checking the sequences we made sure that there are no pathologies. "
   ]
  },
  {
   "cell_type": "code",
   "execution_count": 18,
   "metadata": {
    "vscode": {
     "languageId": "python"
    }
   },
   "outputs": [
    {
     "name": "stdout",
     "output_type": "stream",
     "text": [
      "Wildtype: \n",
      "ACAAAATTAAAACATTAGAGAATGAAAAAT\n",
      "Mutated: \n",
      "AAAAAAATAAAACATTAGTGAATGAAAAAT\n",
      "AAAAAAATAAAGCATTAGAGCATGAAAAAT\n",
      "AAAAAAATAAGACATTAGAGAATGAAAAAT\n",
      "AAAAAAATGAAACATTAGAGTATGAAAAAT\n"
     ]
    }
   ],
   "source": [
    "# Get multiple sequences\n",
    "mutated = allseqs.loc[allseqs[\"gene\"] == \"livM\"].iloc[10:15][\"seq\"].values\n",
    "\n",
    "# Show sequences\n",
    "print(\"Wildtype: \\n{}\".format(wildtype[:30]))\n",
    "print(\"Mutated: \")\n",
    "for i in range(4):\n",
    "    print(mutated[i][20:50])"
   ]
  },
  {
   "cell_type": "markdown",
   "metadata": {},
   "source": [
    "All sequences are very similar to the wild type sequences, but differer in a couple of positions (10% on average). You will find that on a first look, the mutated sequences do not seem to be completely random. That is because the we use the `mpathic` package to generate mutated sequences, and the list of mutated sequences is sorted by the sequence. To double check on this, lets look at a base and its mutation rate. "
   ]
  },
  {
   "cell_type": "code",
   "execution_count": 20,
   "metadata": {
    "vscode": {
     "languageId": "python"
    }
   },
   "outputs": [
    {
     "name": "stdout",
     "output_type": "stream",
     "text": [
      "Mutation rate at base 10: 0.09675698741199061\n"
     ]
    }
   ],
   "source": [
    "# Base to test\n",
    "base = 10\n",
    "\n",
    "# Get nucleotide in wildtype sequence\n",
    "wildtypebase = wildtype[base]\n",
    "\n",
    "# Get all mutated sequences\n",
    "mutated_seqs = allseqs.loc[allseqs[\"gene\"] == \"livM\"].iloc[2:][\"seq\"].values\n",
    "\n",
    "# Add 20 bases due to additional primer leading the sequence\n",
    "rate = sum([wildtypebase != mut[base+20] for mut in mutated_seqs])/len(mutated_seqs)\n",
    "\n",
    "print(\"Mutation rate at base {}: {}\".format(base, rate))"
   ]
  },
  {
   "cell_type": "markdown",
   "metadata": {},
   "source": [
    "All the steps shown above are combined into a single function."
   ]
  },
  {
   "cell_type": "code",
   "execution_count": 13,
   "metadata": {
    "vscode": {
     "languageId": "python"
    }
   },
   "outputs": [
    {
     "data": {
      "text/plain": [
       "\u001b[0;31mSignature:\u001b[0m\n",
       "\u001b[0mregseq\u001b[0m\u001b[0;34m.\u001b[0m\u001b[0mprior_designs\u001b[0m\u001b[0;34m.\u001b[0m\u001b[0mgen_mutated_seq\u001b[0m\u001b[0;34m(\u001b[0m\u001b[0;34m\u001b[0m\n",
       "\u001b[0;34m\u001b[0m    \u001b[0mfile\u001b[0m\u001b[0;34m,\u001b[0m\u001b[0;34m\u001b[0m\n",
       "\u001b[0;34m\u001b[0m    \u001b[0moutput\u001b[0m\u001b[0;34m,\u001b[0m\u001b[0;34m\u001b[0m\n",
       "\u001b[0;34m\u001b[0m    \u001b[0mforward_primers\u001b[0m\u001b[0;34m=\u001b[0m\u001b[0;34m'../data/primers/forward_finalprimers.fasta'\u001b[0m\u001b[0;34m,\u001b[0m\u001b[0;34m\u001b[0m\n",
       "\u001b[0;34m\u001b[0m    \u001b[0mreverse_primers\u001b[0m\u001b[0;34m=\u001b[0m\u001b[0;34m'../data/primers/reverse_finalprimers.fasta'\u001b[0m\u001b[0;34m,\u001b[0m\u001b[0;34m\u001b[0m\n",
       "\u001b[0;34m\u001b[0m    \u001b[0mnorder\u001b[0m\u001b[0;34m=\u001b[0m\u001b[0;36m150000\u001b[0m\u001b[0;34m,\u001b[0m\u001b[0;34m\u001b[0m\n",
       "\u001b[0;34m\u001b[0m    \u001b[0mfix_ex_rate\u001b[0m\u001b[0;34m=\u001b[0m\u001b[0;32mFalse\u001b[0m\u001b[0;34m,\u001b[0m\u001b[0;34m\u001b[0m\n",
       "\u001b[0;34m\u001b[0m    \u001b[0mfix_rep\u001b[0m\u001b[0;34m=\u001b[0m\u001b[0;32mFalse\u001b[0m\u001b[0;34m,\u001b[0m\u001b[0;34m\u001b[0m\n",
       "\u001b[0;34m\u001b[0m    \u001b[0mfix_low_base\u001b[0m\u001b[0;34m=\u001b[0m\u001b[0;32mFalse\u001b[0m\u001b[0;34m,\u001b[0m\u001b[0;34m\u001b[0m\n",
       "\u001b[0;34m\u001b[0m\u001b[0;34m)\u001b[0m\u001b[0;34m\u001b[0m\u001b[0;34m\u001b[0m\u001b[0m\n",
       "\u001b[0;31mDocstring:\u001b[0m\n",
       "Generate mutated sequences from given sequences.\n",
       "\n",
       "Parameters\n",
       "----------\n",
       "file : str\n",
       "    Path to file with wild type sequences\n",
       "output : str\n",
       "    Path to file where results are stored\n",
       "forward_primers : str, default '../data/primers/forward_finalprimers.fasta'\n",
       "    Path to file containing list of forward primers.\n",
       "reverse_primers : str, default '../data/primers/reverse_finalprimers.fasta'  \n",
       "    Path to file containing list of reverse primers.\n",
       "norder : int, default 150000\n",
       "    Number of total sequences\n",
       "fix_ex_rate : boolean, default False\n",
       "    If True, generate new sequences if genes have expectional mutation rates.\n",
       "fix_rep : boolean, default False\n",
       "    If True, generate new sequences if sequences are not unique.\n",
       "fix_low_base : boolean, default False\n",
       "    If True, generate new sequences if some bases are underrepresented.\n",
       "\u001b[0;31mFile:\u001b[0m      ~/git/RegSeq/regseq/prior_designs.py\n",
       "\u001b[0;31mType:\u001b[0m      function\n"
      ]
     },
     "metadata": {},
     "output_type": "display_data"
    }
   ],
   "source": [
    "?regseq.prior_designs.gen_mutated_seq"
   ]
  },
  {
   "cell_type": "markdown",
   "metadata": {},
   "source": [
    "As input we give the location of the file containing genes of interest and the wildtype sequence. The output is a table with all generated sequences for every gene. The path to where this file is supposed to be stored has to be given as an input to the function."
   ]
  },
  {
   "cell_type": "code",
   "execution_count": 21,
   "metadata": {
    "vscode": {
     "languageId": "python"
    }
   },
   "outputs": [
    {
     "name": "stdout",
     "output_type": "stream",
     "text": [
      "Gene livM done.\n",
      "Gene ygbI done.\n",
      "Gene deaD done.\n",
      "Gene frlR done.\n",
      "Gene slyA done.\n",
      "Gene wzxC done.\n",
      "Gene ycgB done.\n",
      "Gene ymgC done.\n"
     ]
    }
   ],
   "source": [
    "file = '../data/prior_designs/example/wtsequences.csv'\n",
    "output = '../data/prior_designs/mutatedseqs.csv'\n",
    "\n",
    "regseq.prior_designs.gen_mutated_seq(file, output)"
   ]
  },
  {
   "cell_type": "markdown",
   "metadata": {},
   "source": [
    "Finally, here are the versions of packages used in this notebook. To display the versions, we are using the Jupyter Lab extension `watermark`, which can be found [here](https://github.com/rasbt/watermark). (This will already be installed if you use the environment we prepared.)"
   ]
  },
  {
   "cell_type": "markdown",
   "metadata": {},
   "source": [
    "## Computing environment"
   ]
  },
  {
   "cell_type": "code",
   "execution_count": 15,
   "metadata": {
    "vscode": {
     "languageId": "python"
    }
   },
   "outputs": [
    {
     "name": "stdout",
     "output_type": "stream",
     "text": [
      "CPython 3.6.9\n",
      "IPython 7.13.0\n",
      "\n",
      "numpy 1.18.1\n",
      "pandas 1.0.3\n",
      "Bio 1.76\n",
      "mpathic 0.1.20\n",
      "regseq 0.0.2\n"
     ]
    }
   ],
   "source": [
    "%load_ext watermark\n",
    "%watermark -v -p numpy,pandas,Bio,mpathic,regseq"
   ]
  }
 ],
 "metadata": {
  "kernelspec": {
   "display_name": "Python (mpathic)",
   "language": "python",
   "name": "mpathic_env"
  }
 },
 "nbformat": 4,
 "nbformat_minor": 4
}
