{
 "cells": [
  {
   "cell_type": "markdown",
   "metadata": {},
   "source": [
    "# Plot Mass spectometry"
   ]
  },
  {
   "cell_type": "markdown",
   "metadata": {},
   "source": [
    "The code in this tutorial is released under the [MIT License](https://opensource.org/licenses/MIT). All the content in this notebook is under a [CC-by 4.0 License](https://creativecommons.org/licenses/by/4.0/). "
   ]
  },
  {
   "cell_type": "code",
   "execution_count": 1,
   "metadata": {},
   "outputs": [],
   "source": [
    "import regseq.viz\n",
    "\n",
    "# Set the PBoC plotting style\n",
    "from regseq.utils import pboc_style_mpl\n",
    "\n",
    "import glob as glob\n",
    "\n",
    "# Set plotting style\n",
    "pboc_style_mpl()"
   ]
  },
  {
   "cell_type": "markdown",
   "metadata": {},
   "source": [
    "For a more detailed explanation of the purpose of this notebook, refer to the [documentation of the Reg-Seq experiment](https://github.com/RPGroup-PBoC/regseq/wiki/5.-Mass-Spectrometry).<br>\n"
   ]
  },
  {
   "cell_type": "markdown",
   "metadata": {},
   "source": [
    "Previously we computed p values for the enrichment of proteins in a mass spec experiment. We used results from observing the proposed binding sites for *ykgE*. Here we are simply going to plot the enrichment for all observed proteins. We start by finding all files containing the gene of interest."
   ]
  },
  {
   "cell_type": "code",
   "execution_count": 2,
   "metadata": {},
   "outputs": [],
   "source": [
    "all_filtered = glob.glob('../data/massspec/filtered/*')\n",
    "ykgE_list = [x for x in all_filtered if \"ykgE\" in x]"
   ]
  },
  {
   "cell_type": "markdown",
   "metadata": {},
   "source": [
    "Let's have a look at the results from the previous step, where we found the proteins with the lowest p-value for enrichment."
   ]
  },
  {
   "cell_type": "code",
   "execution_count": 3,
   "metadata": {},
   "outputs": [
    {
     "name": "stdout",
     "output_type": "stream",
     "text": [
      "ykgE_22Apr_2019.csv,p_val\n",
      "Cation transport regulator ChaB,1.5229411396102862e-05\n",
      "ykgE_may5_2019.csv,p_val\n",
      "Uncharacterized HTH-type transcriptional regulator YieP,1.7079120002726256e-12\n"
     ]
    }
   ],
   "source": [
    "with open('../data/massspec/pval.txt') as f:\n",
    "    for line in f:\n",
    "        print(line.strip())"
   ]
  },
  {
   "cell_type": "markdown",
   "metadata": {},
   "source": [
    "To plot enrichment of all proteins, we can simply use `regseq.viz.mass_spec`, which takes a filtered file from mass spec experiments as input."
   ]
  },
  {
   "cell_type": "code",
   "execution_count": 6,
   "metadata": {},
   "outputs": [
    {
     "data": {
      "image/png": "[encoded data removed]",
      "text/plain": [
       "<Figure size 252x180 with 1 Axes>"
      ]
     },
     "metadata": {},
     "output_type": "display_data"
    }
   ],
   "source": [
    "p = regseq.viz.mass_spec(ykgE_list[1])"
   ]
  },
  {
   "cell_type": "markdown",
   "metadata": {},
   "source": [
    "We are looking for plots like these, where we can clearly see one protein being highly enriched compared to the others. Here we found that *YieP* binds to the repressor binding site of the promoter region of *ykgE*."
   ]
  },
  {
   "cell_type": "markdown",
   "metadata": {},
   "source": [
    "## Computing Environment"
   ]
  },
  {
   "cell_type": "code",
   "execution_count": 5,
   "metadata": {},
   "outputs": [
    {
     "name": "stdout",
     "output_type": "stream",
     "text": [
      "CPython 3.6.9\n",
      "IPython 7.13.0\n",
      "\n",
      "jupyterlab not installed\n",
      "matplotlib 3.1.3\n",
      "seaborn 0.10.1\n",
      "pandas 1.0.3\n",
      "numpy 1.18.1\n",
      "regseq 0.0.2\n"
     ]
    }
   ],
   "source": [
    "%load_ext watermark\n",
    "%watermark -v -p jupyterlab,matplotlib,seaborn,pandas,numpy,regseq"
   ]
  }
 ],
 "metadata": {
  "kernelspec": {
   "display_name": "Python (mpathic)",
   "language": "python",
   "name": "mpathic_env"
  },
  "language_info": {
   "codemirror_mode": {
    "name": "ipython",
    "version": 3
   },
   "file_extension": ".py",
   "mimetype": "text/x-python",
   "name": "python",
   "nbconvert_exporter": "python",
   "pygments_lexer": "ipython3",
   "version": "3.6.9"
  }
 },
 "nbformat": 4,
 "nbformat_minor": 4
}
