{
 "cells": [
  {
   "cell_type": "markdown",
   "metadata": {},
   "source": [
    "# Plot Mass spectometry"
   ]
  },
  {
   "cell_type": "code",
   "execution_count": 1,
   "metadata": {},
   "outputs": [],
   "source": [
    "import regseq.viz\n",
    "\n",
    "# Set the PBoC plotting style\n",
    "from regseq.utils import pboc_style_mpl\n",
    "pboc_style_mpl()"
   ]
  },
  {
   "cell_type": "markdown",
   "metadata": {},
   "source": [
    "For a more detailed explanation of the purpose of this notebook, refer to the [documentation of the regseq experiment](https://github.com/RPGroup-PBoC/regseq/wiki/5.-Mass-Spectrometry).<br>\n",
    "First we load in the mass spectometry data."
   ]
  },
  {
   "cell_type": "markdown",
   "metadata": {},
   "source": [
    "We use the viz submodule to plot the massspec enrichment ratios. "
   ]
  },
  {
   "cell_type": "code",
   "execution_count": 2,
   "metadata": {},
   "outputs": [
    {
     "data": {
      "text/plain": [
       "<matplotlib.axes._subplots.AxesSubplot at 0x7f740df7c1d0>"
      ]
     },
     "execution_count": 2,
     "metadata": {},
     "output_type": "execute_result"
    },
    {
     "name": "stderr",
     "output_type": "stream",
     "text": [
      "findfont: Font family ['Lucida Sans Unicode'] not found. Falling back to DejaVu Sans.\n",
      "findfont: Font family ['Lucida Sans Unicode'] not found. Falling back to DejaVu Sans.\n"
     ]
    },
    {
     "data": {
      "image/png": "[encoded data removed]",
      "text/plain": [
       "<Figure size 252x180 with 1 Axes>"
      ]
     },
     "metadata": {},
     "output_type": "display_data"
    }
   ],
   "source": [
    "file = '../data/massspec/filtered/ykgE_may5_2019.csv'\n",
    "regseq.viz.mass_spec(file)"
   ]
  },
  {
   "cell_type": "markdown",
   "metadata": {},
   "source": [
    "## Computing Environment"
   ]
  },
  {
   "cell_type": "code",
   "execution_count": 3,
   "metadata": {},
   "outputs": [
    {
     "name": "stdout",
     "output_type": "stream",
     "text": [
      "CPython 3.6.9\n",
      "IPython 7.13.0\n",
      "\n",
      "jupyterlab not installed\n",
      "matplotlib 3.1.3\n",
      "seaborn 0.10.1\n",
      "pandas 1.0.3\n",
      "numpy 1.18.1\n",
      "regseq 0.0.2\n"
     ]
    }
   ],
   "source": [
    "%load_ext watermark\n",
    "%watermark -v -p jupyterlab,matplotlib,seaborn,pandas,numpy,regseq"
   ]
  }
 ],
 "metadata": {
  "kernelspec": {
   "display_name": "Python (mpathic)",
   "language": "python",
   "name": "mpathic_env"
  },
  "language_info": {
   "codemirror_mode": {
    "name": "ipython",
    "version": 3
   },
   "file_extension": ".py",
   "mimetype": "text/x-python",
   "name": "python",
   "nbconvert_exporter": "python",
   "pygments_lexer": "ipython3",
   "version": "3.6.9"
  }
 },
 "nbformat": 4,
 "nbformat_minor": 4
}
