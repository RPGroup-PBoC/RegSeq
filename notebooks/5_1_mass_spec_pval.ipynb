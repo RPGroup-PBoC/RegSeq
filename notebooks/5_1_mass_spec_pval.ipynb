{
 "cells": [
  {
   "cell_type": "markdown",
   "metadata": {},
   "source": [
    "# Compute p-values from mass spectrometry data"
   ]
  },
  {
   "cell_type": "markdown",
   "metadata": {},
   "source": [
    "The code in this tutorial is released under the [MIT License](https://opensource.org/licenses/MIT). All the content in this notebook is under a [CC-by 4.0 License](https://creativecommons.org/licenses/by/4.0/). "
   ]
  },
  {
   "cell_type": "code",
   "execution_count": 1,
   "metadata": {},
   "outputs": [],
   "source": [
    "#import basic modules\n",
    "import glob\n",
    "import numpy as np\n",
    "import pandas as pd\n",
    "import os\n",
    "\n",
    "import regseq.utils"
   ]
  },
  {
   "cell_type": "markdown",
   "metadata": {},
   "source": [
    "For a detailed explanation of the steps leading to this notebook, as well as the experimental context, refer to the [Reg-Seq wiki](https://github.com/RPGroup-PBoC/RegSeq/wiki)."
   ]
  },
  {
   "cell_type": "markdown",
   "metadata": {},
   "source": [
    "Previously we analyzed sequencing datasets obtained by Reg-Seq experiments, and used information footprints to identify significant binding sites. We also used the package `logomaker` to create sequence logos of significant binding sites. We used the function `regseq.find_region.find_region` to identify significant binding sites, which we are going to use again here. To identify which proteins are binding to the proposed binding sites, we performed Mass spectrometry experiments. Here we compute p values for enrichment of all transcription factors observed in the experiments."
   ]
  },
  {
   "cell_type": "markdown",
   "metadata": {},
   "source": [
    "First we load in all the file names for protein groups, which are found in the folder `/data/massspec/filtered/`. In the repo you will find two files for *ykgE*, which we are going to use to demonstrate the procedure. The files contain the normalized heavy to light ratios for all\n",
    "identified proteins."
   ]
  },
  {
   "cell_type": "code",
   "execution_count": 2,
   "metadata": {
    "scrolled": true
   },
   "outputs": [],
   "source": [
    "# Find all files for our gene of interest\n",
    "all_filtered = glob.glob('../data/massspec/filtered/*')\n",
    "ykgE_list = [x for x in all_filtered if \"ykgE\" in x]"
   ]
  },
  {
   "cell_type": "markdown",
   "metadata": {},
   "source": [
    "Let's have a look at one of these files."
   ]
  },
  {
   "cell_type": "code",
   "execution_count": 3,
   "metadata": {},
   "outputs": [
    {
     "data": {
      "text/html": [
       "<div>\n",
       "<style scoped>\n",
       "    .dataframe tbody tr th:only-of-type {\n",
       "        vertical-align: middle;\n",
       "    }\n",
       "\n",
       "    .dataframe tbody tr th {\n",
       "        vertical-align: top;\n",
       "    }\n",
       "\n",
       "    .dataframe thead th {\n",
       "        text-align: right;\n",
       "    }\n",
       "</style>\n",
       "<table border=\"1\" class=\"dataframe\">\n",
       "  <thead>\n",
       "    <tr style=\"text-align: right;\">\n",
       "      <th></th>\n",
       "      <th>Unnamed: 0</th>\n",
       "      <th>Protein names</th>\n",
       "      <th>Peptide counts (razor+unique)</th>\n",
       "      <th>Ratio H/L normalized</th>\n",
       "    </tr>\n",
       "  </thead>\n",
       "  <tbody>\n",
       "    <tr>\n",
       "      <th>0</th>\n",
       "      <td>736</td>\n",
       "      <td>Uncharacterized HTH-type transcriptional regul...</td>\n",
       "      <td>2</td>\n",
       "      <td>75.36200</td>\n",
       "    </tr>\n",
       "    <tr>\n",
       "      <th>1</th>\n",
       "      <td>406</td>\n",
       "      <td>DNA-binding protein HU-beta</td>\n",
       "      <td>3</td>\n",
       "      <td>1.85570</td>\n",
       "    </tr>\n",
       "    <tr>\n",
       "      <th>2</th>\n",
       "      <td>472</td>\n",
       "      <td>DNA gyrase subunit B</td>\n",
       "      <td>16</td>\n",
       "      <td>1.12090</td>\n",
       "    </tr>\n",
       "    <tr>\n",
       "      <th>3</th>\n",
       "      <td>88</td>\n",
       "      <td>DNA topoisomerase 1</td>\n",
       "      <td>33</td>\n",
       "      <td>1.01800</td>\n",
       "    </tr>\n",
       "    <tr>\n",
       "      <th>4</th>\n",
       "      <td>471</td>\n",
       "      <td>DNA gyrase subunit A</td>\n",
       "      <td>7</td>\n",
       "      <td>0.77814</td>\n",
       "    </tr>\n",
       "    <tr>\n",
       "      <th>5</th>\n",
       "      <td>410</td>\n",
       "      <td>Deoxyribose operon repressor</td>\n",
       "      <td>1</td>\n",
       "      <td>0.68261</td>\n",
       "    </tr>\n",
       "    <tr>\n",
       "      <th>6</th>\n",
       "      <td>279</td>\n",
       "      <td>DNA-directed RNA polymerase subunit beta</td>\n",
       "      <td>16</td>\n",
       "      <td>0.65153</td>\n",
       "    </tr>\n",
       "    <tr>\n",
       "      <th>7</th>\n",
       "      <td>574</td>\n",
       "      <td>DNA topoisomerase 3</td>\n",
       "      <td>9</td>\n",
       "      <td>0.60886</td>\n",
       "    </tr>\n",
       "    <tr>\n",
       "      <th>8</th>\n",
       "      <td>277</td>\n",
       "      <td>DNA-directed RNA polymerase subunit beta</td>\n",
       "      <td>18</td>\n",
       "      <td>0.57989</td>\n",
       "    </tr>\n",
       "    <tr>\n",
       "      <th>9</th>\n",
       "      <td>836</td>\n",
       "      <td>Penicillin-binding protein activator LpoA</td>\n",
       "      <td>3</td>\n",
       "      <td>0.40466</td>\n",
       "    </tr>\n",
       "    <tr>\n",
       "      <th>10</th>\n",
       "      <td>496</td>\n",
       "      <td>DNA topoisomerase 4 subunit A</td>\n",
       "      <td>14</td>\n",
       "      <td>0.36740</td>\n",
       "    </tr>\n",
       "    <tr>\n",
       "      <th>11</th>\n",
       "      <td>34</td>\n",
       "      <td>DNA polymerase I</td>\n",
       "      <td>18</td>\n",
       "      <td>0.35589</td>\n",
       "    </tr>\n",
       "  </tbody>\n",
       "</table>\n",
       "</div>"
      ],
      "text/plain": [
       "    Unnamed: 0                                      Protein names  \\\n",
       "0          736  Uncharacterized HTH-type transcriptional regul...   \n",
       "1          406                        DNA-binding protein HU-beta   \n",
       "2          472                               DNA gyrase subunit B   \n",
       "3           88                                DNA topoisomerase 1   \n",
       "4          471                               DNA gyrase subunit A   \n",
       "5          410                       Deoxyribose operon repressor   \n",
       "6          279           DNA-directed RNA polymerase subunit beta   \n",
       "7          574                                DNA topoisomerase 3   \n",
       "8          277           DNA-directed RNA polymerase subunit beta   \n",
       "9          836          Penicillin-binding protein activator LpoA   \n",
       "10         496                      DNA topoisomerase 4 subunit A   \n",
       "11          34                                   DNA polymerase I   \n",
       "\n",
       "    Peptide counts (razor+unique)  Ratio H/L normalized  \n",
       "0                               2              75.36200  \n",
       "1                               3               1.85570  \n",
       "2                              16               1.12090  \n",
       "3                              33               1.01800  \n",
       "4                               7               0.77814  \n",
       "5                               1               0.68261  \n",
       "6                              16               0.65153  \n",
       "7                               9               0.60886  \n",
       "8                              18               0.57989  \n",
       "9                               3               0.40466  \n",
       "10                             14               0.36740  \n",
       "11                             18               0.35589  "
      ]
     },
     "execution_count": 3,
     "metadata": {},
     "output_type": "execute_result"
    }
   ],
   "source": [
    "pd.read_csv(ykgE_list[1])"
   ]
  },
  {
   "cell_type": "markdown",
   "metadata": {},
   "source": [
    "To compute the p-values and identify proteins with the smallest p-value, we use the function `regseq.utils.cox_mann_p_values`, which computes the p-value following [Cox and Mann(2008)](https://www.nature.com/articles/nbt.1511). As input we give the list of files that we are considering, and the path where the output is stored (`output_name`). The output is a text file which contains the protein with the lowest p-value for each file that us in the input.\n"
   ]
  },
  {
   "cell_type": "code",
   "execution_count": 4,
   "metadata": {},
   "outputs": [],
   "source": [
    "output_name = '../data/massspec/pval.txt'\n",
    "regseq.utils.cox_mann_p_values(ykgE_list, output_file=output_name)"
   ]
  },
  {
   "cell_type": "markdown",
   "metadata": {},
   "source": [
    "Let's have a look at the results for the two files we used here."
   ]
  },
  {
   "cell_type": "code",
   "execution_count": 5,
   "metadata": {},
   "outputs": [
    {
     "name": "stdout",
     "output_type": "stream",
     "text": [
      "ykgE_22Apr_2019.csv,p_val\n",
      "Cation transport regulator ChaB,1.5229411396102862e-05\n",
      "ykgE_may5_2019.csv,p_val\n",
      "Uncharacterized HTH-type transcriptional regulator YieP,1.7079120002726256e-12\n"
     ]
    }
   ],
   "source": [
    "with open(output_name) as f:\n",
    "    for line in f:\n",
    "        print(line.strip())"
   ]
  },
  {
   "cell_type": "markdown",
   "metadata": {},
   "source": [
    "We found proteins with very small p-values here. However, we have not yet confirmed that these proteins are binding to DNA. We will do this in the next step."
   ]
  },
  {
   "cell_type": "markdown",
   "metadata": {},
   "source": [
    "Finally, here are the versions of packages used in this notebook. To display the versions, we are using the Jupyter Lab extension `watermark`, which can be found [here](https://github.com/rasbt/watermark)."
   ]
  },
  {
   "cell_type": "markdown",
   "metadata": {},
   "source": [
    "## Computing Environment"
   ]
  },
  {
   "cell_type": "code",
   "execution_count": 7,
   "metadata": {},
   "outputs": [
    {
     "name": "stdout",
     "output_type": "stream",
     "text": [
      "The watermark extension is already loaded. To reload it, use:\n",
      "  %reload_ext watermark\n",
      "CPython 3.6.9\n",
      "IPython 7.13.0\n",
      "\n",
      "pandas 1.0.3\n",
      "numpy 1.18.1\n",
      "regseq 0.0.2\n"
     ]
    }
   ],
   "source": [
    "%load_ext watermark\n",
    "%watermark -v -p pandas,numpy,regseq"
   ]
  },
  {
   "cell_type": "code",
   "execution_count": null,
   "metadata": {},
   "outputs": [],
   "source": []
  }
 ],
 "metadata": {
  "kernelspec": {
   "display_name": "Python (mpathic)",
   "language": "python",
   "name": "mpathic_env"
  },
  "language_info": {
   "codemirror_mode": {
    "name": "ipython",
    "version": 3
   },
   "file_extension": ".py",
   "mimetype": "text/x-python",
   "name": "python",
   "nbconvert_exporter": "python",
   "pygments_lexer": "ipython3",
   "version": "3.6.9"
  }
 },
 "nbformat": 4,
 "nbformat_minor": 4
}
