{
 "cells": [
  {
   "cell_type": "markdown",
   "metadata": {},
   "source": [
    "# Compute p-values from mass spectrometry data"
   ]
  },
  {
   "cell_type": "code",
   "execution_count": 1,
   "metadata": {},
   "outputs": [],
   "source": [
    "#import basic modules\n",
    "import glob\n",
    "import numpy as np\n",
    "import pandas as pd\n",
    "import os\n",
    "\n",
    "import regseq.utils"
   ]
  },
  {
   "cell_type": "markdown",
   "metadata": {},
   "source": [
    "First we load in all the file names for protein groups. The files contain the normalized heavy to light ratios for all\n",
    "#identified proteins."
   ]
  },
  {
   "cell_type": "code",
   "execution_count": 2,
   "metadata": {},
   "outputs": [],
   "source": [
    "allnames = glob.glob('../data/massspec/proteinGroups*.txt')\n",
    "# File that gives an error message\n",
    "allnames.remove(\"../data/massspec/proteinGroups_Oct5v2.txt\")"
   ]
  },
  {
   "cell_type": "markdown",
   "metadata": {},
   "source": [
    "We can also load in the protein group files for only the targets we will be summarizing."
   ]
  },
  {
   "cell_type": "code",
   "execution_count": 3,
   "metadata": {},
   "outputs": [
    {
     "data": {
      "text/plain": [
       "['../data/massspec/filtered/ykgE_may5_2019.csv',\n",
       " '../data/massspec/filtered/cpxR_1Apr_19.csv',\n",
       " '../data/massspec/filtered/aphA_May_19.csv',\n",
       " '../data/massspec/filtered/rspA_22Apr_2019.csv',\n",
       " '../data/massspec/filtered/idnK_1Apr_19.csv',\n",
       " '../data/massspec/filtered/rspA_may5_2019.csv',\n",
       " '../data/massspec/filtered/rhle_Mar9_2018.csv',\n",
       " '../data/massspec/filtered/ybjx_9Mar_18.csv',\n",
       " '../data/massspec/filtered/leuABCD_9May_19.csv',\n",
       " '../data/massspec/filtered/ykgE_22Apr_2019.csv',\n",
       " '../data/massspec/filtered/phnA_Mar9_2018.csv']"
      ]
     },
     "execution_count": 3,
     "metadata": {},
     "output_type": "execute_result"
    }
   ],
   "source": [
    "all_filtered = glob.glob('../data/massspec/filtered/*')\n",
    "all_filtered"
   ]
  },
  {
   "cell_type": "markdown",
   "metadata": {},
   "source": [
    "We will format an output dataframe that contains a mean value and variance the most highly enriched protein and for all background proteins."
   ]
  },
  {
   "cell_type": "code",
   "execution_count": 4,
   "metadata": {},
   "outputs": [],
   "source": [
    "#create a dataframe for pvals\n",
    "out_pval = pd.DataFrame(columns=['pval'])\n",
    "\n",
    "#format the output look of each dataframe.\n",
    "pd.set_option('max_colwidth', 999)\n",
    "pd.set_option('display.float_format', '{:10,.9f}'.format)"
   ]
  },
  {
   "cell_type": "markdown",
   "metadata": {},
   "source": [
    "We will loop through all enriched proteins displayed in the figures in the Reg-Seq paper. The following function stores the resilts "
   ]
  },
  {
   "cell_type": "code",
   "execution_count": 5,
   "metadata": {},
   "outputs": [],
   "source": [
    "output_name = '../data/massspec/pval.txt'\n",
    "regseq.utils.cox_mann_p_values(all_filtered,output_file=output_name)"
   ]
  },
  {
   "cell_type": "code",
   "execution_count": 6,
   "metadata": {},
   "outputs": [
    {
     "name": "stdout",
     "output_type": "stream",
     "text": [
      "ykgE_may5_2019.csv,p_val\n",
      "Uncharacterized HTH-type transcriptional regulator YieP,1.7079120002726256e-12\n",
      "cpxR_1Apr_19.csv,p_val\n",
      "Transcriptional regulatory protein CpxR,0.012627564862595015\n",
      "aphA_May_19.csv,p_val\n",
      "Deoxyribose operon repressor,1.2154400378041871e-08\n",
      "rspA_22Apr_2019.csv,p_val\n",
      "Glycerol-3-phosphate regulon repressor,0.00019362933512586566\n",
      "idnK_1Apr_19.csv,p_val\n",
      "Uncharacterized HTH-type transcriptional regulator YgbI,0.0001822896318279769\n",
      "rspA_may5_2019.csv,p_val\n",
      "Deoxyribose operon repressor,3.745348588798884e-34\n",
      "rhle_Mar9_2018.csv,p_val\n",
      "Glycerol-3-phosphate regulon repressor,0.000358827346436375\n",
      "ybjx_9Mar_18.csv,p_val\n",
      "DNA-binding protein StpA,0.005292003097828884\n",
      "leuABCD_9May_19.csv,p_val\n",
      "Uncharacterized HTH-type transcriptional regulator YgbI,0.00818124122601652\n",
      "ykgE_22Apr_2019.csv,p_val\n",
      "Cation transport regulator ChaB,1.5229411396102862e-05\n",
      "phnA_Mar9_2018.csv,p_val\n",
      "Uncharacterized HTH-type transcriptional regulator YciT,1.1746117315592258e-05\n"
     ]
    }
   ],
   "source": [
    "with open(output_name) as f:\n",
    "    for line in f:\n",
    "        print(line.strip())"
   ]
  },
  {
   "cell_type": "markdown",
   "metadata": {},
   "source": [
    "Finally, here are the versions of packages used in this notebook. To display the versions, we are using the Jupyter Lab extension `watermark`, which can be found [here](https://github.com/rasbt/watermark)."
   ]
  },
  {
   "cell_type": "markdown",
   "metadata": {},
   "source": [
    "## Computing Environment"
   ]
  },
  {
   "cell_type": "code",
   "execution_count": 7,
   "metadata": {},
   "outputs": [
    {
     "name": "stdout",
     "output_type": "stream",
     "text": [
      "CPython 3.6.9\n",
      "IPython 7.13.0\n",
      "\n",
      "jupyterlab not installed\n",
      "pandas 1.0.3\n",
      "numpy 1.18.1\n",
      "regseq 0.0.2\n"
     ]
    }
   ],
   "source": [
    "%load_ext watermark\n",
    "%watermark -v -p jupyterlab,pandas,numpy,regseq"
   ]
  }
 ],
 "metadata": {
  "kernelspec": {
   "display_name": "Python (mpathic)",
   "language": "python",
   "name": "mpathic_env"
  },
  "language_info": {
   "codemirror_mode": {
    "name": "ipython",
    "version": 3
   },
   "file_extension": ".py",
   "mimetype": "text/x-python",
   "name": "python",
   "nbconvert_exporter": "python",
   "pygments_lexer": "ipython3",
   "version": "3.6.9"
  }
 },
 "nbformat": 4,
 "nbformat_minor": 4
}
