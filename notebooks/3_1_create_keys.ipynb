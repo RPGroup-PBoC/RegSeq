{
 "cells": [
  {
   "cell_type": "markdown",
   "metadata": {},
   "source": [
    "# Create key to match sequences to barcodes"
   ]
  },
  {
   "cell_type": "markdown",
   "metadata": {},
   "source": [
    "The code in this tutorial is released under the [MIT License](https://opensource.org/licenses/MIT). All the content in this notebook is under a [CC-by 4.0 License](https://creativecommons.org/licenses/by/4.0/). "
   ]
  },
  {
   "cell_type": "code",
   "execution_count": 1,
   "metadata": {},
   "outputs": [],
   "source": [
    "import regseq.create_key\n",
    "import pandas as pd"
   ]
  },
  {
   "cell_type": "markdown",
   "metadata": {},
   "source": [
    "For a detailed explanation of the steps leading to this notebook, as well as the experimental context, refer to the [RegSeq wiki](https://github.com/RPGroup-PBoC/RegSeq/wiki)."
   ]
  },
  {
   "cell_type": "markdown",
   "metadata": {},
   "source": [
    "In this notebook we perform the mapping step on the quality score filtered sequences. Therefore we need to find the barcode and the sequences we generated in previous steps, and filter for unique barcode and sequence mappings. First, we check the length of sequences and discard sequences whose length is varying from the consensus, since this is likely caused by insertions or deletions. Also we are discarding sequences with unresolved base pairs, i.e., a `N` in the sequence. <br><br>\n",
    "We are taking into consideration that there might be sequencing errors that lead to ambiguous mappings, therefore if a barcode maps to multiple sequences which are very similar, the most counted sequence is taken as consensus sequence. Finally, we compare sequences to the wild type genome, to identify which gene the sequence belongs to. "
   ]
  },
  {
   "cell_type": "code",
   "execution_count": 2,
   "metadata": {},
   "outputs": [],
   "source": [
    "data_file = \"../data/sequencing_data/mappingseqs.fastq\"\n",
    "output_path = \"../data/barcode_keys/\""
   ]
  },
  {
   "cell_type": "markdown",
   "metadata": {},
   "source": [
    "We start by checking the sequences for the right length."
   ]
  },
  {
   "cell_type": "code",
   "execution_count": 3,
   "metadata": {},
   "outputs": [
    {
     "name": "stdout",
     "output_type": "stream",
     "text": [
      "optimal length is 295\n"
     ]
    }
   ],
   "source": [
    "correct_seq = regseq.create_key.check_length(data_file)"
   ]
  },
  {
   "cell_type": "markdown",
   "metadata": {},
   "source": [
    "Using the right sequences, we are going to stitch the part of the sequence we are interested in together with the barcode."
   ]
  },
  {
   "cell_type": "code",
   "execution_count": 4,
   "metadata": {},
   "outputs": [],
   "source": [
    "stitched = regseq.create_key.stitch_barcode_sequence(correct_seq)"
   ]
  },
  {
   "cell_type": "markdown",
   "metadata": {},
   "source": [
    "Find unique barcode/sequence relations."
   ]
  },
  {
   "cell_type": "code",
   "execution_count": 5,
   "metadata": {},
   "outputs": [],
   "source": [
    "barcodes, counts, seq_tag_df = regseq.create_key.check_barcode_uniqueness(stitched)"
   ]
  },
  {
   "cell_type": "markdown",
   "metadata": {},
   "source": [
    "Check for possible sequencing errors in mapping"
   ]
  },
  {
   "cell_type": "code",
   "execution_count": 6,
   "metadata": {},
   "outputs": [
    {
     "name": "stdout",
     "output_type": "stream",
     "text": [
      "number of good sequencing counts 10450\n"
     ]
    }
   ],
   "source": [
    "seq_tag_df = regseq.create_key.check_rare_barcode_errors(barcodes, counts, seq_tag_df)"
   ]
  },
  {
   "cell_type": "markdown",
   "metadata": {},
   "source": [
    "Find gene relating to sequence and store result"
   ]
  },
  {
   "cell_type": "code",
   "execution_count": 7,
   "metadata": {},
   "outputs": [],
   "source": [
    "wildtypefile='../data/prior_designs/wtsequences.csv'\n",
    "df = regseq.create_key.detect_genes(seq_tag_df, wildtypefile)"
   ]
  },
  {
   "cell_type": "markdown",
   "metadata": {},
   "source": [
    "Store results as one file per gene."
   ]
  },
  {
   "cell_type": "code",
   "execution_count": 14,
   "metadata": {},
   "outputs": [],
   "source": [
    "genes = ['bdcR']\n",
    "if genes == None:\n",
    "    for gene in df[\"gene\"].unique():\n",
    "        genedf = df.loc[df[\"gene\"] ==gene]\n",
    "        genedf.drop(['gene'], axis=1).to_csv(output_path + gene + \"_barcode_key.csv\", index=False)\n",
    "else:\n",
    "    for gene in genes:\n",
    "        genedf = df.loc[df[\"gene\"] ==gene]\n",
    "        genedf.drop(['gene'], axis=1).to_csv(output_path + gene + \"_barcode_key.csv\", index=False)"
   ]
  },
  {
   "cell_type": "markdown",
   "metadata": {},
   "source": [
    "The steps above are combined into a single function. Below you can find the docstring as well as "
   ]
  },
  {
   "cell_type": "code",
   "execution_count": 2,
   "metadata": {},
   "outputs": [
    {
     "data": {
      "text/plain": [
       "\u001b[0;31mSignature:\u001b[0m\n",
       "\u001b[0mck\u001b[0m\u001b[0;34m.\u001b[0m\u001b[0mkey_barcode_sequence\u001b[0m\u001b[0;34m(\u001b[0m\u001b[0;34m\u001b[0m\n",
       "\u001b[0;34m\u001b[0m    \u001b[0mdata_file\u001b[0m\u001b[0;34m,\u001b[0m\u001b[0;34m\u001b[0m\n",
       "\u001b[0;34m\u001b[0m    \u001b[0moutput_path\u001b[0m\u001b[0;34m,\u001b[0m\u001b[0;34m\u001b[0m\n",
       "\u001b[0;34m\u001b[0m    \u001b[0mwildtypefile\u001b[0m\u001b[0;34m=\u001b[0m\u001b[0;34m'../data/prior_designs/wtsequences.csv'\u001b[0m\u001b[0;34m,\u001b[0m\u001b[0;34m\u001b[0m\n",
       "\u001b[0;34m\u001b[0m    \u001b[0mgenes\u001b[0m\u001b[0;34m=\u001b[0m\u001b[0;32mNone\u001b[0m\u001b[0;34m,\u001b[0m\u001b[0;34m\u001b[0m\n",
       "\u001b[0;34m\u001b[0m\u001b[0;34m)\u001b[0m\u001b[0;34m\u001b[0m\u001b[0;34m\u001b[0m\u001b[0m\n",
       "\u001b[0;31mDocstring:\u001b[0m\n",
       "Go through functions to create unique map of barcode to sequence and gene in wiltype.\n",
       "\n",
       "The sequences are checked for correct lengths, to exlude insertion and deletion events.\n",
       "Then, created sequences and barcodes are extracted (removing overhangs) and unique barcode/\n",
       "sequence maps are found. Possible sequencing errors that lead to false negatives in uniqueness\n",
       "are considered. Sequences are compared to gene sequences in wildtype.\n",
       "\n",
       "Parameters\n",
       "----------\n",
       "data_file : str\n",
       "    Path to file containing sequencing data.\n",
       "output_path : str\n",
       "    Path to folder where results are stored.\n",
       "wildtypefile : str\n",
       "    Path for file containing wild type genetic sequences.\n",
       "genes : List, default None\n",
       "    List of genes for which mapping is returned. If None, all maps are returned.\n",
       "Returns\n",
       "-------\n",
       "\u001b[0;31mFile:\u001b[0m      ~/git/RegSeq/regseq/create_key.py\n",
       "\u001b[0;31mType:\u001b[0m      function\n"
      ]
     },
     "metadata": {},
     "output_type": "display_data"
    }
   ],
   "source": [
    "?ck.key_barcode_sequence"
   ]
  },
  {
   "cell_type": "markdown",
   "metadata": {},
   "source": [
    "Finally, here are the versions of packages used in this notebook. To display the versions, we are using the Jupyter Lab extension `watermark`, which can be found [here](https://github.com/rasbt/watermark). (This will already be installed if you use the environment we prepared.)"
   ]
  },
  {
   "cell_type": "markdown",
   "metadata": {},
   "source": [
    "## Computing Environment"
   ]
  },
  {
   "cell_type": "code",
   "execution_count": 5,
   "metadata": {},
   "outputs": [
    {
     "name": "stdout",
     "output_type": "stream",
     "text": [
      "CPython 3.6.9\n",
      "IPython 7.13.0\n",
      "\n",
      "regseq 0.0.2\n"
     ]
    }
   ],
   "source": [
    "%load_ext watermark\n",
    "%watermark -v -p regseq"
   ]
  }
 ],
 "metadata": {
  "kernelspec": {
   "display_name": "Python (mpathic)",
   "language": "python",
   "name": "mpathic_env"
  },
  "language_info": {
   "codemirror_mode": {
    "name": "ipython",
    "version": 3
   },
   "file_extension": ".py",
   "mimetype": "text/x-python",
   "name": "python",
   "nbconvert_exporter": "python",
   "pygments_lexer": "ipython3",
   "version": "3.6.9"
  }
 },
 "nbformat": 4,
 "nbformat_minor": 4
}
