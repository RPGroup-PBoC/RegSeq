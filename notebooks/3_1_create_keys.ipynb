{
 "cells": [
  {
   "cell_type": "markdown",
   "metadata": {},
   "source": [
    "# Create key to match sequences to barcodes"
   ]
  },
  {
   "cell_type": "markdown",
   "metadata": {},
   "source": [
    "The code in this tutorial is released under the [MIT License](https://opensource.org/licenses/MIT). All the content in this notebook is under a [CC-by 4.0 License](https://creativecommons.org/licenses/by/4.0/). "
   ]
  },
  {
   "cell_type": "markdown",
   "metadata": {},
   "source": [
    "For a detailed explanation of the steps leading to this notebook, as well as the experimental context, refer to the [Reg-Seq wiki](https://github.com/RPGroup-PBoC/RegSeq/wiki)."
   ]
  },
  {
   "cell_type": "code",
   "execution_count": 1,
   "metadata": {},
   "outputs": [],
   "source": [
    "import regseq.create_key\n",
    "import pandas as pd\n",
    "import numpy as np"
   ]
  },
  {
   "cell_type": "markdown",
   "metadata": {},
   "source": [
    "After performing sequencing on the prepared library, the data has to be prepared to be in the right format for the next steps. This includes connecting pair-ended reads using the software `FLASH` and removing low quality score reads using `FastX`. We won't go into detail on how to use the software here, for a tutorial on using the software, as well as links to downloadable files, refer to the *Computational Analysis of the \"Mapping\" Run (Building the Codex)* chapter of the [Reg-Seq wiki](https://github.com/RPGroup-PBoC/RegSeq/wiki/3.-Sequencing).\n",
    "\n",
    "\n",
    "In this notebook we perform the mapping step on the quality score filtered sequences. The mapping is used in the next step to count sequences in the DNA and RNA datasets obtained from growth experiments (more in this in the notebook `4_1_match_data.ipynb`). Therefore we need to find the barcode and the sequences we generated in previous steps, and filter for unique barcode and sequence mappings. First, we check the length of sequences and discard sequences whose length is varying from the consensus, since this is likely caused by insertions or deletions. Also we are discarding sequences with unresolved base pairs, i.e., a `N` in the sequence. <br><br>\n",
    "We are taking into consideration that there might be sequencing errors that lead to ambiguous mappings, therefore if a barcode maps to multiple sequences which are very similar, the most counted sequence is taken as consensus sequence. Finally, we compare sequences to the wild type genome, to identify which gene the sequence belongs to. "
   ]
  },
  {
   "cell_type": "markdown",
   "metadata": {},
   "source": [
    "In this notebook we use a file we obtained after processing experimental data using the software discussed above. "
   ]
  },
  {
   "cell_type": "code",
   "execution_count": 2,
   "metadata": {},
   "outputs": [],
   "source": [
    "data_file = \"../data/sequencing_data/mappingseqs.fastq\""
   ]
  },
  {
   "cell_type": "markdown",
   "metadata": {},
   "source": [
    "There will be some number of base pairs after the barcode in each sequence. For our sequencing set up we have either 24 bp or 20 bp at the end of the sequences. If the total sequence length is 299 bp, then the total trailing sequence length is 24 bp, otherwise if the total length is 295 then the trailing sequence length is 20 bp. Additionally, there are 20 bp preceding the sequence.\n",
    "<br><br>\n",
    "As first step, we check that the sequences are one of the two lengths. If the sequences from your experiment have different lengths, simply change the argument in the function below."
   ]
  },
  {
   "cell_type": "code",
   "execution_count": 3,
   "metadata": {},
   "outputs": [
    {
     "name": "stdout",
     "output_type": "stream",
     "text": [
      "optimal length is 295\n"
     ]
    }
   ],
   "source": [
    "correct_seq = regseq.create_key.check_length(data_file, optimal_lengths=[299, 295], trailing_lengths=[24, 20], starting_length=20)"
   ]
  },
  {
   "cell_type": "markdown",
   "metadata": {},
   "source": [
    "The output of this function is a list with sequences that have the required length, excluding the extra bp at the beginning and end of the sequences. Let's have a look at the output."
   ]
  },
  {
   "cell_type": "code",
   "execution_count": 4,
   "metadata": {},
   "outputs": [
    {
     "name": "stdout",
     "output_type": "stream",
     "text": [
      "Sequence length: 255\n",
      "\n"
     ]
    },
    {
     "data": {
      "text/plain": [
       "1     ACGTACGAAATCGACGCCGCCACCACGACTGCCACCGAGGATGAGAACTGCCTTAGACGTAAAAGCGCCCATAAGGACACCTTGATTAATTGTGTAACATGCATTGCAAACCTGTTTTAACTATCTGTTAAGAGGTTTTGTAATGGTCACTATAAAACAGCCGGGATTCAGTGATTGAACTATTAGGCTTCTCCTCAGCGTTAATCACTGGCCGTCGTTTTACATGACTGACTGACACCGGTCGACTCATCGAAT\n",
       "5     ACGGTCGATAGCGGCACCGATACTACTGCTGCCACCGAGGATGAGAACTGTCTTACCTGTAAAAGCGCCCATCAGCACCCCTTGATTTATTATGTAACATCCATTACAAACCTAATTTAACTTCCTGTCAATAGGTTTTGCAATGGTCACTAAAAAATAACCGGGATTCAGTGATTGAACTATTAGGCTTCTCCTCAGCGTTAATCACTGGCCGTCGTTTTACATGACTGACTGAGTTCACCGGTTCAATATTTG\n",
       "17    AAGTACGATAGCGGCACCGACACCAAGACTGCTACCGAGGATGAGAACTGTCTCACATGTCAAAGCGCCCATAAGGATTCCTTGATTTCTTATGTAACATGCATTACAAAACTGTTTTAAAGTTCTGACAACACGTTTTGTAATGGTCACTTAAAAACAACCGGGATTCAGTGATTGAACTATTAGGCTTCTCCTCAGCGTTAATCACTGGCCGTCGTTTTACATGACTGACTGATTCTAGGCTTGAAAGCTAGG\n",
       "25    ACGTACGATAGCGGCACCGAAACCATGCCCGGCACCGAAGAGGAGAACTGTCTTACCTGTAAAAACGCTCATCAGGACTCCTTGATTTATTATGTGACACACCTTACAACACTGTTTTGACTTTCTGTCAACAGGTTTGGTAACGGTCACACAAAAACAACCGGGAGTCAGTGATTGAACTATTAGGCTGCACCTCAGCGTTAATCACTGGCCGTCGTTTTACATGACTGACTGACGGATCTAACCCCCGACTTT\n",
       "29    ACGTACGATAGCGGCCCCGATATCACGACTGCCACCGAGGAGGAGAACTGTTTTACCTGGAAGTGCGCCCATAAGGATTCTTAGACCTATTATGTAACATGCATCACAAAACTGTTTTAACTTTCTGGCAACCGGTTTTGTAATTGTCACAAAAAAGCAACCGGGATTCAGTGATTGAACTATTAGGCTTCTCCTCAGCGTTAATCACTGGCCGTCGTTTTACATGACTGACTGAGCACACTTCTCGCGTGAAAG\n",
       "Name: 0, dtype: object"
      ]
     },
     "execution_count": 4,
     "metadata": {},
     "output_type": "execute_result"
    }
   ],
   "source": [
    "# Increase displaying width\n",
    "pd.options.display.max_colwidth = 350\n",
    "print(\"Sequence length: {}\\n\".format(len(correct_seq.iloc[0])))\n",
    "correct_seq.head()"
   ]
  },
  {
   "cell_type": "markdown",
   "metadata": {},
   "source": [
    "By looking at the sequences, we can see that they all have the same length, where the initial 20 bp, and 20 bp at the end were removed, hence the length of 255bp instead of 295bp."
   ]
  },
  {
   "cell_type": "markdown",
   "metadata": {},
   "source": [
    "Using the sequences with the right length, we are going to stitch the part of the sequence we are interested in together with the barcode. There are still some bases between the sequences we generated and the barcode, which have to be removed in the next step. This is needed for the follwing step to look for unique barcode/ sequence interactions. "
   ]
  },
  {
   "cell_type": "code",
   "execution_count": 5,
   "metadata": {},
   "outputs": [
    {
     "data": {
      "text/plain": [
       "1     ACGTACGAAATCGACGCCGCCACCACGACTGCCACCGAGGATGAGAACTGCCTTAGACGTAAAAGCGCCCATAAGGACACCTTGATTAATTGTGTAACATGCATTGCAAACCTGTTTTAACTATCTGTTAAGAGGTTTTGTAATGGTCACTATAAAACAGCACCGGTCGACTCATCGAAT\n",
       "5     ACGGTCGATAGCGGCACCGATACTACTGCTGCCACCGAGGATGAGAACTGTCTTACCTGTAAAAGCGCCCATCAGCACCCCTTGATTTATTATGTAACATCCATTACAAACCTAATTTAACTTCCTGTCAATAGGTTTTGCAATGGTCACTAAAAAATAAGTTCACCGGTTCAATATTTG\n",
       "17    AAGTACGATAGCGGCACCGACACCAAGACTGCTACCGAGGATGAGAACTGTCTCACATGTCAAAGCGCCCATAAGGATTCCTTGATTTCTTATGTAACATGCATTACAAAACTGTTTTAAAGTTCTGACAACACGTTTTGTAATGGTCACTTAAAAACAATTCTAGGCTTGAAAGCTAGG\n",
       "25    ACGTACGATAGCGGCACCGAAACCATGCCCGGCACCGAAGAGGAGAACTGTCTTACCTGTAAAAACGCTCATCAGGACTCCTTGATTTATTATGTGACACACCTTACAACACTGTTTTGACTTTCTGTCAACAGGTTTGGTAACGGTCACACAAAAACAACGGATCTAACCCCCGACTTT\n",
       "29    ACGTACGATAGCGGCCCCGATATCACGACTGCCACCGAGGAGGAGAACTGTTTTACCTGGAAGTGCGCCCATAAGGATTCTTAGACCTATTATGTAACATGCATCACAAAACTGTTTTAACTTTCTGGCAACCGGTTTTGTAATTGTCACAAAAAAGCAAGCACACTTCTCGCGTGAAAG\n",
       "dtype: object"
      ]
     },
     "execution_count": 5,
     "metadata": {},
     "output_type": "execute_result"
    }
   ],
   "source": [
    "stitched = regseq.create_key.stitch_barcode_sequence(correct_seq)\n",
    "stitched.head()"
   ]
  },
  {
   "cell_type": "markdown",
   "metadata": {},
   "source": [
    "Now we are left with sequences of length 180, of which 160bp are the sequences we generated and 20bp are the barcodes. Now we check that the barcode/sequence mappings are unique. "
   ]
  },
  {
   "cell_type": "code",
   "execution_count": 6,
   "metadata": {},
   "outputs": [],
   "source": [
    "barcodes, counts, seq_tag_df = regseq.create_key.check_barcode_uniqueness(stitched)"
   ]
  },
  {
   "cell_type": "markdown",
   "metadata": {},
   "source": [
    "Since there can be sequencing errors, which can lead to a barcode being mapped on supposedly different sequences, we are checking the sequences for this possibility."
   ]
  },
  {
   "cell_type": "code",
   "execution_count": 7,
   "metadata": {},
   "outputs": [
    {
     "name": "stdout",
     "output_type": "stream",
     "text": [
      "number of good sequencing counts 10450\n"
     ]
    }
   ],
   "source": [
    "seq_tag_df = regseq.create_key.check_rare_barcode_errors(barcodes, counts, seq_tag_df)"
   ]
  },
  {
   "cell_type": "markdown",
   "metadata": {},
   "source": [
    "Having the unique barcode/sequence mapping in hand, we can check from which gene the sequence originated. Therefore we need to use the file we generated in the first step of the protocol, the list of gene names and corresponding wildtype sequences. We choose the gene which is most similar to the observed sequence, i.e., has the least mutations, and assign the sequence to the gene. Let'ts look at the output of the function."
   ]
  },
  {
   "cell_type": "code",
   "execution_count": 8,
   "metadata": {},
   "outputs": [
    {
     "data": {
      "text/html": [
       "<div>\n",
       "<style scoped>\n",
       "    .dataframe tbody tr th:only-of-type {\n",
       "        vertical-align: middle;\n",
       "    }\n",
       "\n",
       "    .dataframe tbody tr th {\n",
       "        vertical-align: top;\n",
       "    }\n",
       "\n",
       "    .dataframe thead th {\n",
       "        text-align: right;\n",
       "    }\n",
       "</style>\n",
       "<table border=\"1\" class=\"dataframe\">\n",
       "  <thead>\n",
       "    <tr style=\"text-align: right;\">\n",
       "      <th></th>\n",
       "      <th>tag</th>\n",
       "      <th>seq</th>\n",
       "      <th>count</th>\n",
       "      <th>gene</th>\n",
       "      <th>nmut</th>\n",
       "    </tr>\n",
       "  </thead>\n",
       "  <tbody>\n",
       "    <tr>\n",
       "      <th>0</th>\n",
       "      <td>ATTCGTGAACGTGACCATTA</td>\n",
       "      <td>ACGTACGGTAGCGGCACCAATACCACGTCTGCCACCGAGGATGAGACCTGTCATACTCGTAAAAGCGCCCATAGGGACTCCTTGATTTATTATGTAACATGCATTACAAAACTGTTTTAATTATCTTTCAACAGGTTTTGTAATTATCACTAAAAAACAA</td>\n",
       "      <td>9</td>\n",
       "      <td>bdcR</td>\n",
       "      <td>13</td>\n",
       "    </tr>\n",
       "    <tr>\n",
       "      <th>1</th>\n",
       "      <td>GGACCCCTGAATTTAAATGT</td>\n",
       "      <td>ACCTACGATAGCGGCACCGATACCACGACTGCCCCCGAGGATGGGAACTGACTTGCATGTAAAAGCGCCCATAAGGACTCCTTGATTTATTTTGTAACATGGATTATAAAACTGTTTTAGCTTTCTGACAACAGGTATTGTAATGGACACTAAAAAACAA</td>\n",
       "      <td>9</td>\n",
       "      <td>bdcR</td>\n",
       "      <td>13</td>\n",
       "    </tr>\n",
       "    <tr>\n",
       "      <th>2</th>\n",
       "      <td>AGTCACCATTTATGGGTCAA</td>\n",
       "      <td>ACGTATGATAGTGTCGCCGATACCATGACTTCCACCGACGGGAAGAACTGTCTTGCCTGTAAAAGCGCCAATAAGGTCTCCTCGATTTAGTATGTATCATGCATTATAAAACTGTTCTAACTTCCTGCCAACAGGATTTGTAATGCTCACTAAAAAACAA</td>\n",
       "      <td>8</td>\n",
       "      <td>bdcR</td>\n",
       "      <td>22</td>\n",
       "    </tr>\n",
       "    <tr>\n",
       "      <th>3</th>\n",
       "      <td>TTGCTTTTCGTGGTTTTAGC</td>\n",
       "      <td>ACGTACGCTAGCGGCATCTGGACCACCACTGCCACCGAGCATGAGAGCCGTCTTACCTGTAAAATCGCCCATAAGCACTCCTTGATTTATGATGTTACATGCATTACAAAACTGTTTTAACTTTCTGACAACACGTTTTGTAATGGTCACTAAAAAACAA</td>\n",
       "      <td>8</td>\n",
       "      <td>bdcR</td>\n",
       "      <td>15</td>\n",
       "    </tr>\n",
       "    <tr>\n",
       "      <th>4</th>\n",
       "      <td>TACGTGAATGCTACTTACCT</td>\n",
       "      <td>CCGTACGATAGCGGCACCGATACCGCGACTGCCGCCGAGAATGTAAACTGTCTTACCTGTAAAAGCGCCCATAAGAACTCCTTGATTTATTATGTAACTTGCATTACAAAACTGTTTTAACTTTCTGTCAACGTGTTTTGTAATGGTCACTAAAAAACAA</td>\n",
       "      <td>7</td>\n",
       "      <td>bdcR</td>\n",
       "      <td>10</td>\n",
       "    </tr>\n",
       "  </tbody>\n",
       "</table>\n",
       "</div>"
      ],
      "text/plain": [
       "                    tag  \\\n",
       "0  ATTCGTGAACGTGACCATTA   \n",
       "1  GGACCCCTGAATTTAAATGT   \n",
       "2  AGTCACCATTTATGGGTCAA   \n",
       "3  TTGCTTTTCGTGGTTTTAGC   \n",
       "4  TACGTGAATGCTACTTACCT   \n",
       "\n",
       "                                                                                                                                                                seq  \\\n",
       "0  ACGTACGGTAGCGGCACCAATACCACGTCTGCCACCGAGGATGAGACCTGTCATACTCGTAAAAGCGCCCATAGGGACTCCTTGATTTATTATGTAACATGCATTACAAAACTGTTTTAATTATCTTTCAACAGGTTTTGTAATTATCACTAAAAAACAA   \n",
       "1  ACCTACGATAGCGGCACCGATACCACGACTGCCCCCGAGGATGGGAACTGACTTGCATGTAAAAGCGCCCATAAGGACTCCTTGATTTATTTTGTAACATGGATTATAAAACTGTTTTAGCTTTCTGACAACAGGTATTGTAATGGACACTAAAAAACAA   \n",
       "2  ACGTATGATAGTGTCGCCGATACCATGACTTCCACCGACGGGAAGAACTGTCTTGCCTGTAAAAGCGCCAATAAGGTCTCCTCGATTTAGTATGTATCATGCATTATAAAACTGTTCTAACTTCCTGCCAACAGGATTTGTAATGCTCACTAAAAAACAA   \n",
       "3  ACGTACGCTAGCGGCATCTGGACCACCACTGCCACCGAGCATGAGAGCCGTCTTACCTGTAAAATCGCCCATAAGCACTCCTTGATTTATGATGTTACATGCATTACAAAACTGTTTTAACTTTCTGACAACACGTTTTGTAATGGTCACTAAAAAACAA   \n",
       "4  CCGTACGATAGCGGCACCGATACCGCGACTGCCGCCGAGAATGTAAACTGTCTTACCTGTAAAAGCGCCCATAAGAACTCCTTGATTTATTATGTAACTTGCATTACAAAACTGTTTTAACTTTCTGTCAACGTGTTTTGTAATGGTCACTAAAAAACAA   \n",
       "\n",
       "   count  gene  nmut  \n",
       "0      9  bdcR    13  \n",
       "1      9  bdcR    13  \n",
       "2      8  bdcR    22  \n",
       "3      8  bdcR    15  \n",
       "4      7  bdcR    10  "
      ]
     },
     "execution_count": 8,
     "metadata": {},
     "output_type": "execute_result"
    }
   ],
   "source": [
    "wildtypefile = '../data/prior_designs/wtsequences.csv'\n",
    "df = regseq.create_key.detect_genes(seq_tag_df, wildtypefile)\n",
    "df.head()"
   ]
  },
  {
   "cell_type": "markdown",
   "metadata": {},
   "source": [
    "The table contains the information about barcode and mutated sequence, the gene, how often the unique barcode/sequence combination was found, and the number of mutations compared to the wildtype genome."
   ]
  },
  {
   "cell_type": "markdown",
   "metadata": {},
   "source": [
    "The steps above are combined into a single function. Below you can find the docstring as well as "
   ]
  },
  {
   "cell_type": "code",
   "execution_count": 9,
   "metadata": {},
   "outputs": [
    {
     "data": {
      "text/plain": [
       "\u001b[0;31mSignature:\u001b[0m\n",
       "\u001b[0mregseq\u001b[0m\u001b[0;34m.\u001b[0m\u001b[0mcreate_key\u001b[0m\u001b[0;34m.\u001b[0m\u001b[0mkey_barcode_sequence\u001b[0m\u001b[0;34m(\u001b[0m\u001b[0;34m\u001b[0m\n",
       "\u001b[0;34m\u001b[0m    \u001b[0mdata_file\u001b[0m\u001b[0;34m,\u001b[0m\u001b[0;34m\u001b[0m\n",
       "\u001b[0;34m\u001b[0m    \u001b[0moutput_path\u001b[0m\u001b[0;34m,\u001b[0m\u001b[0;34m\u001b[0m\n",
       "\u001b[0;34m\u001b[0m    \u001b[0mwildtypefile\u001b[0m\u001b[0;34m=\u001b[0m\u001b[0;34m'../data/prior_designs/wtsequences.csv'\u001b[0m\u001b[0;34m,\u001b[0m\u001b[0;34m\u001b[0m\n",
       "\u001b[0;34m\u001b[0m    \u001b[0mgenes\u001b[0m\u001b[0;34m=\u001b[0m\u001b[0;32mNone\u001b[0m\u001b[0;34m,\u001b[0m\u001b[0;34m\u001b[0m\n",
       "\u001b[0;34m\u001b[0m\u001b[0;34m)\u001b[0m\u001b[0;34m\u001b[0m\u001b[0;34m\u001b[0m\u001b[0m\n",
       "\u001b[0;31mDocstring:\u001b[0m\n",
       "Go through functions to create unique map of barcode to sequence and gene in wiltype.\n",
       "\n",
       "The sequences are checked for correct lengths, to exlude insertion and deletion events.\n",
       "Then, created sequences and barcodes are extracted (removing overhangs) and unique barcode/\n",
       "sequence maps are found. Possible sequencing errors that lead to false negatives in uniqueness\n",
       "are considered. Sequences are compared to gene sequences in wildtype.\n",
       "\n",
       "Parameters\n",
       "----------\n",
       "data_file : str\n",
       "    Path to file containing sequencing data.\n",
       "output_path : str\n",
       "    Path to folder where results are stored.\n",
       "wildtypefile : str\n",
       "    Path for file containing wild type genetic sequences.\n",
       "genes : List, default None\n",
       "    List of genes for which mapping is returned. If None, all maps are returned.\n",
       "Returns\n",
       "-------\n",
       "\u001b[0;31mFile:\u001b[0m      ~/git/RegSeq/regseq/create_key.py\n",
       "\u001b[0;31mType:\u001b[0m      function\n"
      ]
     },
     "metadata": {},
     "output_type": "display_data"
    }
   ],
   "source": [
    "?regseq.create_key.key_barcode_sequence"
   ]
  },
  {
   "cell_type": "markdown",
   "metadata": {},
   "source": [
    "We have to define a path were the keys are being stored. We are using the `\"../data/barcode_keys/\"` in this repo. The function below will store a file for every gene observed in the sequence data."
   ]
  },
  {
   "cell_type": "code",
   "execution_count": 10,
   "metadata": {},
   "outputs": [],
   "source": [
    "output_path=\"../data/barcode_keys/\""
   ]
  },
  {
   "cell_type": "code",
   "execution_count": 11,
   "metadata": {},
   "outputs": [
    {
     "name": "stdout",
     "output_type": "stream",
     "text": [
      "optimal length is 295\n",
      "number of good sequencing counts 10450\n"
     ]
    }
   ],
   "source": [
    "regseq.create_key.key_barcode_sequence(data_file, output_path)"
   ]
  },
  {
   "cell_type": "markdown",
   "metadata": {},
   "source": [
    "In the example file we provided were sequence from one gene only, so there will only be one file in the folder."
   ]
  },
  {
   "cell_type": "code",
   "execution_count": 12,
   "metadata": {},
   "outputs": [
    {
     "name": "stdout",
     "output_type": "stream",
     "text": [
      "bdcR_barcode_key.csv\n"
     ]
    }
   ],
   "source": [
    "!ls ../data/barcode_keys/"
   ]
  },
  {
   "cell_type": "markdown",
   "metadata": {},
   "source": [
    "Finally, here are the versions of packages used in this notebook. To display the versions, we are using the Jupyter Lab extension `watermark`, which can be found [here](https://github.com/rasbt/watermark). (This will already be installed if you use the environment we prepared.)"
   ]
  },
  {
   "cell_type": "markdown",
   "metadata": {},
   "source": [
    "## Computing Environment"
   ]
  },
  {
   "cell_type": "code",
   "execution_count": 13,
   "metadata": {},
   "outputs": [
    {
     "name": "stdout",
     "output_type": "stream",
     "text": [
      "CPython 3.6.9\n",
      "IPython 7.13.0\n",
      "\n",
      "regseq 0.0.2\n",
      "numpy 1.18.1\n",
      "pandas 1.0.3\n"
     ]
    }
   ],
   "source": [
    "%load_ext watermark\n",
    "%watermark -v -p regseq,numpy,pandas"
   ]
  }
 ],
 "metadata": {
  "kernelspec": {
   "display_name": "Python (mpathic)",
   "language": "python",
   "name": "mpathic_env"
  },
  "language_info": {
   "codemirror_mode": {
    "name": "ipython",
    "version": 3
   },
   "file_extension": ".py",
   "mimetype": "text/x-python",
   "name": "python",
   "nbconvert_exporter": "python",
   "pygments_lexer": "ipython3",
   "version": "3.6.9"
  }
 },
 "nbformat": 4,
 "nbformat_minor": 4
}
