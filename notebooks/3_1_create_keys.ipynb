{
 "cells": [
  {
   "cell_type": "markdown",
   "metadata": {},
   "source": [
    "# Create key to match sequences to barcodes"
   ]
  },
  {
   "cell_type": "markdown",
   "metadata": {},
   "source": [
    "The code in this tutorial is released under the [MIT License](https://opensource.org/licenses/MIT). All the content in this notebook is under a [CC-by 4.0 License](https://creativecommons.org/licenses/by/4.0/). "
   ]
  },
  {
   "cell_type": "markdown",
   "metadata": {},
   "source": [
    "For a detailed explanation of the steps leading to this notebook, as well as the experimental context, refer to the [Reg-Seq wiki](https://github.com/RPGroup-PBoC/RegSeq/wiki)."
   ]
  },
  {
   "cell_type": "code",
   "execution_count": 11,
   "metadata": {},
   "outputs": [],
   "source": [
    "import regseq.create_key\n",
    "import pandas as pd\n",
    "import numpy as np"
   ]
  },
  {
   "cell_type": "markdown",
   "metadata": {},
   "source": [
    "After performing sequencing on the prepared library, the data has to be prepared to be in the right format for the next steps. This includes connecting pair-ended reads using the software `FLASH` and removing low quality score reads using `FastX`. We won't go into detail on how to use the software here, for a tutorial on using the software, as well as links to downloadable files, refer to the *Computational Analysis of the \"Mapping\" Run (Building the Codex)* chapter of the [Reg-Seq wiki](https://github.com/RPGroup-PBoC/RegSeq/wiki/3.-Sequencing).\n",
    "\n",
    "**Update 06/24/2022**\n",
    "We have added bash scripts to the repository. They require the installation of [fastp](https://github.com/OpenGene/fastp). The script `process_mapping_sequencing.sh` performs the filtering of raw sequencing files and merging of pair ended reads. Put the raw sequencing files in `fastq` format in the folder `/RegSeq/data/sequencing_data/`, or change the paths in the bash scripts appropriately. \n",
    "\n",
    "In this notebook we perform the mapping step on the quality score filtered sequences. The mapping is used in the next step to count sequences in the DNA and RNA datasets obtained from growth experiments (more in this in the notebook `4_1_match_data.ipynb`). Therefore we need to find the barcode and the sequences we generated in previous steps, and filter for unique barcode and sequence mappings. First, we check the length of sequences and discard sequences whose length is varying from the consensus, since this is likely caused by insertions or deletions. Also we are discarding sequences with unresolved base pairs, i.e., a `N` in the sequence. <br><br>\n",
    "We are taking into consideration that there might be sequencing errors that lead to ambiguous mappings, therefore if a barcode maps to multiple sequences which are very similar, the most counted sequence is taken as consensus sequence. Finally, we compare sequences to the wild type genome, to identify which gene the sequence belongs to. "
   ]
  },
  {
   "cell_type": "markdown",
   "metadata": {},
   "source": [
    "In this notebook we use a file we obtained after processing experimental data using the software discussed above. "
   ]
  },
  {
   "cell_type": "code",
   "execution_count": 60,
   "metadata": {},
   "outputs": [],
   "source": [
    "data_file = \"../data/sequencing_data/processed_sequencing/dna_mapping_sequences.txt\""
   ]
  },
  {
   "cell_type": "markdown",
   "metadata": {},
   "source": [
    "There will be some number of base pairs after the barcode in each sequence. For our sequencing set up we have either 24 bp or 20 bp at the end of the sequences. If the total sequence length is 299 bp, then the total trailing sequence length is 24 bp, otherwise if the total length is 295 then the trailing sequence length is 20 bp. Additionally, there are 20 bp preceding the sequence.\n",
    "<br><br>\n",
    "As first step, we check that the sequences are one of the two lengths. If the sequences from your experiment have different lengths, simply change the argument in the function below."
   ]
  },
  {
   "cell_type": "code",
   "execution_count": 61,
   "metadata": {},
   "outputs": [],
   "source": [
    "def check_length(\n",
    "    input_file_name, \n",
    "    barcode_length=20, \n",
    "    sequence_length=160, \n",
    "    optimal_lengths= np.array([299, 295]), \n",
    "    trailing_lengths= np.array([24, 20]),\n",
    "    starting_length=20\n",
    "):\n",
    "    \"\"\"\n",
    "    Check length of sequences.\n",
    "    \n",
    "    Return sequences that have 24 or 20 trailing bp, and have 20 bp at the start. Sequences\n",
    "    with varying length have insertions and deletions and are filtered out.\n",
    "    Parameters:\n",
    "    ----------\n",
    "    input_file_name : str\n",
    "        file name for the fastq sequencing\n",
    "    barcode_length : int, default 20\n",
    "    sequence_length : int, default 160\n",
    "    optimal_lengths : array-like, default np.array([299, 295])\n",
    "        Numpy array containing possible lengths of sequences\n",
    "    trailing_lengths : array-like, default np.array([24, 20])\n",
    "        Numpy array containing possible number of trailing bp after barcode\n",
    "    starting_length : int, default 20\n",
    "        Number of bp preceding the sequence of interest\n",
    "    \n",
    "    Return\n",
    "    ------\n",
    "    sliceddf : Pandas DataFrame\n",
    "        DataFrame containing only the mutated sequence and the barcode\n",
    "    \n",
    "    \"\"\"\n",
    "    if type(trailing_lengths) == list:\n",
    "        trailing_lengths = np.array(trailing_lengths)\n",
    "    elif type(trailing_lengths) == np.ndarray:\n",
    "        pass\n",
    "    else:\n",
    "        raise RuntimeError(\"`trailing_lengths` has to be a numpy array or list.\")\n",
    "        \n",
    "    if type(optimal_lengths) == list:\n",
    "        optimal_lengths = np.array(optimal_lengths)\n",
    "    elif type(optimal_lengths) == np.ndarray:\n",
    "        pass\n",
    "    else:\n",
    "        raise RuntimeError(\"`optimal_lengths` has to be a numpy array or list.\")\n",
    "        \n",
    "    # Load data\n",
    "    df = pd.read_csv(input_file_name, header=None, index_col=None, names=['seq'])#, delim_whitespace=True, header=None)\n",
    "    #Select only rows with sequences (fastq format).\n",
    "    #df = df.loc[1::4, 0]\n",
    "\n",
    "    # Find all lengths\n",
    "    lengths = df['seq'].apply(len)\n",
    "\n",
    "    # Find the correct length by finding the most common length\n",
    "    lengthsmax = list(lengths.value_counts().index)[0]\n",
    "    print('optimal length is ' + str(lengthsmax))\n",
    "\n",
    "\n",
    "    # Find all sequences with correct length.\n",
    "    goodlength = (df['seq'].apply(len) == lengthsmax)\n",
    "    df = df.loc[goodlength]\n",
    "    ind = np.where(optimal_lengths == lengthsmax)[0]\n",
    "    if len(ind) == 0:\n",
    "        raise ValueError('Sequence length not in the list of required lengths.')\n",
    "    else:\n",
    "        sliceddf = df['seq'].str.slice(starting_length, -trailing_lengths[ind[0]])\n",
    "        \n",
    "    return sliceddf.reset_index(drop=True)"
   ]
  },
  {
   "cell_type": "code",
   "execution_count": 62,
   "metadata": {},
   "outputs": [
    {
     "name": "stdout",
     "output_type": "stream",
     "text": [
      "optimal length is 295\n"
     ]
    },
    {
     "data": {
      "text/plain": [
       "0           TAGGGAGTGAACGTCATCCGTCGCCGGAAAACGTTGTACTGTCAGTCAACGGAGCCCGTTCTATAACGGGCTCTTCCGCCCGCCTTAATGATAAAATTTCGACATTGCCCCTGAAAAAGGCGCGGGACTATACCCTTTTTCTCTTTCTCGTGTGCGGTTATTCCACAGCTCTATGAGGTGTATTAGGCTTCTCCTCAGCGACGCTCACTGGCCGTCGTTTTACATGACTGACTGACGTCCCGCATGGAGATTTCC\n",
       "1           AGTTCTTAACAATGCCAAATCCCCAGTTCTCACCGCAAAATTATTTGTCGTTATGCTTTAAATGTTTTGTTTTACACTTTATCAAGCGTAACTATCACTCCGCGGCATAACTACCTCGGTCAAAGACCTCGGAGCGTGCAGGCTGGCGGTAAGCTTTACGCTATGGGCATTCCCGTACGATATTAGGCTTCTCCTCAGCGGCGCTCACTGGCCGTCGTTTTACATGACTGACTGGCAATTATCACAGCACTACCG\n",
       "2           CACAACAGGTATTCTCTTTCATCTTTTGTCAACCATTCACAGCGCAAATATACGCCTTTTTTTGTGATCAGTCCGGCCTTTTTCGATCTTTATACTTCTATGGTAGTAGCTCAGTTGCGTAGATTTCATACATCACGAAAAGCGATGCACGGAATCGAACCTATGGTCATTCCCGTACGATATTAGGCTTCTCCTCAGCGGCTCTCACTGGCCGTCGTTTTACATGACTGACTGAGCTACGGGGAGCGCGTCCTG\n",
       "3           TGTCTAATAATCGGCTTATGCCCGATGATATTCCTTTCATCGGGCTATTTATCCGTTACTGCTGTCTCTCTCTCCCAACCCTACCCCCTCCGTCTTATGAACTAGACTTGTTACAGTTATAGCATTCCGGAGCTGGCGAATCATGATCCATACGGTTGGACTCTGGTCATTCCCGTACTATATTAGGCTTCTCCTCAGCGGCGCTCACTGGCCGTCGTTTTACATGACTGACTGATGAACCTGACTCCGTGTGGC\n",
       "4           TCTGGGCAACGTTATGAAGGTGACGGATTCATATATCAATTAATTTTTTAACGCCATTGTAAAACTGCCGTTTTACCTCGTTTACAACGCGTGCGCTGGACATTACCCTCCACCTCTGCGATTTATCATCGCAACCGCACGACTCGGGGCGCCGTTCTGCGGGCACAGCAATCTAAAGTATATTAGGCTTCTCCTCCGCGTTGATCACTGGCCGTCGTTTTACATGACTGACTGATTCAAGGCCGTAGCTAATCA\n",
       "                                                                                                                                         ...                                                                                                                               \n",
       "36012254    CNTTTTCGATCGAAGGGCATTATGTCACCTGAAGAAGGATGAAAAGTGTGCCAAACGGTAATCTGCAAGGCGTGCCCCTGAACAGCGATGGCGCGGCTTAATACAATCGGAGCTAACTAAAGTGCGCTCGTGTTTATTAAGGAGTCACCGTTAAACGGTACTCATATGCTAGCTCGACTCTATTAGGCTTCTCCTCAGCGGTTATCACTGGCCGTCGTTTTACATGACTGACTGAGAACCAGTCACACGACTGCT\n",
       "36012255    ANTCATATCAAATAAAAATGCATATACCATGACTTTTAATTCAAATAAACCGTCTGCACCGACAAACTATTGCATCAACTGCTTGGGCCGCCTCTGACGATGAGTATAATGCGGGAGAATTTGCCGGGAGGATGAATGGTTGAGTGTGTTCGACATTTTAATGGTAAGAAGCTCCCACAATATTAGGCTTCTCCTCAGCGTGGGTCACTGGCCGTCGTTTTACATGACTGACTGACGCAAATGTATTAGGGACAG\n",
       "36012256    TNTGGATGTCGTTATGAAGGTGCNGGAATCATATATCCAATAATTGATTGACGTGACTGTAAGACTTCCGTTTTTCCTCGTTTACATCGCGTGCGCTGGACATTACCATCCTCCTCTGCGATTTATCATCGCAACCAATCGACACGGGGTGCCTTTCTGCGGGCACAGCAATCAAAAGTATATTAGGCTTCTCCTCAGCGTTGATCACTGGCCGTCGTTTTACATGACTGACTGATCATTAGCTATTTGTGTCCG\n",
       "36012257    TNAACCATAATTCTTTTTATCAANTGGAATATCTATCACATTGCTTTTCACCGCAAGATTCGTGGCAGAGATTTTTTCTTATTATTCCTCCCCATCTAGTATTACCCTGCTGCCCATTAACCTATTCAACAGAACTGCGACGCGCCATGACACATATCGGCTCCTATGGTAGCTCGACTCTATTAGGCTTCTCCTCAGCGGTTATCACTGGCCGTCGTTTTACATGACTGACTGATGACCGGCGTATCAATCACG\n",
       "36012258    CNGCGAACTCAGGCATGCATCACNCATAGAGAGGGACTGCCGTTTGCAGTAATCCCTCTTTTCAGACCTTTAATTCGCAGACCATAGGCGCTAACATAGAGCCGCATTTTTTTGCTGGGGTTGATGTGCGTTTGTTACTTCCACCGATGGAAGGAGTTCTGCAAACATGACTAGGAACCGTATTAGGCTTCTCCTCAGCGGAATTCACTGGCCGTCGTTTTACACGACTGACTGAGAATCCTGACAGTGGACGCG\n",
       "Name: seq, Length: 36012259, dtype: object"
      ]
     },
     "execution_count": 62,
     "metadata": {},
     "output_type": "execute_result"
    }
   ],
   "source": [
    "correct_seq = check_length(data_file, optimal_lengths=[299, 295], trailing_lengths=[24, 20], starting_length=20)\n",
    "correct_seq"
   ]
  },
  {
   "cell_type": "markdown",
   "metadata": {},
   "source": [
    "The output of this function is a list with sequences that have the required length, excluding the extra bp at the beginning and end of the sequences. Let's have a look at the output."
   ]
  },
  {
   "cell_type": "code",
   "execution_count": 63,
   "metadata": {},
   "outputs": [
    {
     "name": "stdout",
     "output_type": "stream",
     "text": [
      "Sequence length: 255\n",
      "\n"
     ]
    },
    {
     "data": {
      "text/plain": [
       "0    TAGGGAGTGAACGTCATCCGTCGCCGGAAAACGTTGTACTGTCAGTCAACGGAGCCCGTTCTATAACGGGCTCTTCCGCCCGCCTTAATGATAAAATTTCGACATTGCCCCTGAAAAAGGCGCGGGACTATACCCTTTTTCTCTTTCTCGTGTGCGGTTATTCCACAGCTCTATGAGGTGTATTAGGCTTCTCCTCAGCGACGCTCACTGGCCGTCGTTTTACATGACTGACTGACGTCCCGCATGGAGATTTCC\n",
       "1    AGTTCTTAACAATGCCAAATCCCCAGTTCTCACCGCAAAATTATTTGTCGTTATGCTTTAAATGTTTTGTTTTACACTTTATCAAGCGTAACTATCACTCCGCGGCATAACTACCTCGGTCAAAGACCTCGGAGCGTGCAGGCTGGCGGTAAGCTTTACGCTATGGGCATTCCCGTACGATATTAGGCTTCTCCTCAGCGGCGCTCACTGGCCGTCGTTTTACATGACTGACTGGCAATTATCACAGCACTACCG\n",
       "2    CACAACAGGTATTCTCTTTCATCTTTTGTCAACCATTCACAGCGCAAATATACGCCTTTTTTTGTGATCAGTCCGGCCTTTTTCGATCTTTATACTTCTATGGTAGTAGCTCAGTTGCGTAGATTTCATACATCACGAAAAGCGATGCACGGAATCGAACCTATGGTCATTCCCGTACGATATTAGGCTTCTCCTCAGCGGCTCTCACTGGCCGTCGTTTTACATGACTGACTGAGCTACGGGGAGCGCGTCCTG\n",
       "3    TGTCTAATAATCGGCTTATGCCCGATGATATTCCTTTCATCGGGCTATTTATCCGTTACTGCTGTCTCTCTCTCCCAACCCTACCCCCTCCGTCTTATGAACTAGACTTGTTACAGTTATAGCATTCCGGAGCTGGCGAATCATGATCCATACGGTTGGACTCTGGTCATTCCCGTACTATATTAGGCTTCTCCTCAGCGGCGCTCACTGGCCGTCGTTTTACATGACTGACTGATGAACCTGACTCCGTGTGGC\n",
       "4    TCTGGGCAACGTTATGAAGGTGACGGATTCATATATCAATTAATTTTTTAACGCCATTGTAAAACTGCCGTTTTACCTCGTTTACAACGCGTGCGCTGGACATTACCCTCCACCTCTGCGATTTATCATCGCAACCGCACGACTCGGGGCGCCGTTCTGCGGGCACAGCAATCTAAAGTATATTAGGCTTCTCCTCCGCGTTGATCACTGGCCGTCGTTTTACATGACTGACTGATTCAAGGCCGTAGCTAATCA\n",
       "Name: seq, dtype: object"
      ]
     },
     "execution_count": 63,
     "metadata": {},
     "output_type": "execute_result"
    }
   ],
   "source": [
    "# Increase displaying width\n",
    "pd.options.display.max_colwidth = 350\n",
    "print(\"Sequence length: {}\\n\".format(len(correct_seq.iloc[0])))\n",
    "correct_seq.head()"
   ]
  },
  {
   "cell_type": "markdown",
   "metadata": {},
   "source": [
    "By looking at the sequences, we can see that they all have the same length, where the initial 20 bp, and 20 bp at the end were removed, hence the length of 255bp instead of 295bp."
   ]
  },
  {
   "cell_type": "markdown",
   "metadata": {},
   "source": [
    "Using the sequences with the right length, we are going to stitch the part of the sequence we are interested in together with the barcode. There are still some bases between the sequences we generated and the barcode, which have to be removed in the next step. This is needed for the follwing step to look for unique barcode/ sequence interactions. "
   ]
  },
  {
   "cell_type": "code",
   "execution_count": 64,
   "metadata": {},
   "outputs": [
    {
     "data": {
      "text/plain": [
       "0    TAGGGAGTGAACGTCATCCGTCGCCGGAAAACGTTGTACTGTCAGTCAACGGAGCCCGTTCTATAACGGGCTCTTCCGCCCGCCTTAATGATAAAATTTCGACATTGCCCCTGAAAAAGGCGCGGGACTATACCCTTTTTCTCTTTCTCGTGTGCGGTTACGTCCCGCATGGAGATTTCC\n",
       "1    AGTTCTTAACAATGCCAAATCCCCAGTTCTCACCGCAAAATTATTTGTCGTTATGCTTTAAATGTTTTGTTTTACACTTTATCAAGCGTAACTATCACTCCGCGGCATAACTACCTCGGTCAAAGACCTCGGAGCGTGCAGGCTGGCGGTAAGCTTTACGCAATTATCACAGCACTACCG\n",
       "2    CACAACAGGTATTCTCTTTCATCTTTTGTCAACCATTCACAGCGCAAATATACGCCTTTTTTTGTGATCAGTCCGGCCTTTTTCGATCTTTATACTTCTATGGTAGTAGCTCAGTTGCGTAGATTTCATACATCACGAAAAGCGATGCACGGAATCGAACGCTACGGGGAGCGCGTCCTG\n",
       "3    TGTCTAATAATCGGCTTATGCCCGATGATATTCCTTTCATCGGGCTATTTATCCGTTACTGCTGTCTCTCTCTCCCAACCCTACCCCCTCCGTCTTATGAACTAGACTTGTTACAGTTATAGCATTCCGGAGCTGGCGAATCATGATCCATACGGTTGGATGAACCTGACTCCGTGTGGC\n",
       "4    TCTGGGCAACGTTATGAAGGTGACGGATTCATATATCAATTAATTTTTTAACGCCATTGTAAAACTGCCGTTTTACCTCGTTTACAACGCGTGCGCTGGACATTACCCTCCACCTCTGCGATTTATCATCGCAACCGCACGACTCGGGGCGCCGTTCTGCTTCAAGGCCGTAGCTAATCA\n",
       "dtype: object"
      ]
     },
     "execution_count": 64,
     "metadata": {},
     "output_type": "execute_result"
    }
   ],
   "source": [
    "correct_seq = regseq.create_key.stitch_barcode_sequence(correct_seq)\n",
    "correct_seq.head()"
   ]
  },
  {
   "cell_type": "markdown",
   "metadata": {},
   "source": [
    "Now we are left with sequences of length 180, of which 160bp are the sequences we generated and 20bp are the barcodes. Now we check that the barcode/sequence mappings are unique. "
   ]
  },
  {
   "cell_type": "code",
   "execution_count": 65,
   "metadata": {},
   "outputs": [],
   "source": [
    "barcodes, counts, seq_tag_df = regseq.create_key.check_barcode_uniqueness(stitched)"
   ]
  },
  {
   "cell_type": "markdown",
   "metadata": {},
   "source": [
    "Since there can be sequencing errors, which can lead to a barcode being mapped on supposedly different sequences, we are checking the sequences for this possibility."
   ]
  },
  {
   "cell_type": "code",
   "execution_count": 66,
   "metadata": {},
   "outputs": [
    {
     "name": "stdout",
     "output_type": "stream",
     "text": [
      "number of good sequencing counts 2283046.0\n"
     ]
    }
   ],
   "source": [
    "seq_tag_df = regseq.create_key.check_rare_barcode_errors(barcodes, counts, seq_tag_df)"
   ]
  },
  {
   "cell_type": "markdown",
   "metadata": {},
   "source": [
    "Having the unique barcode/sequence mapping in hand, we can check from which gene the sequence originated. Therefore we need to use the file we generated in the first step of the protocol, the list of gene names and corresponding wildtype sequences. We choose the gene which is most similar to the observed sequence, i.e., has the least mutations, and assign the sequence to the gene. Let'ts look at the output of the function."
   ]
  },
  {
   "cell_type": "code",
   "execution_count": 67,
   "metadata": {},
   "outputs": [],
   "source": [
    "wildtypefile = '../data/prior_designs/wtsequences.csv'\n",
    "df = regseq.create_key.detect_genes(seq_tag_df, wildtypefile)\n",
    "df.head()"
   ]
  },
  {
   "cell_type": "code",
   "execution_count": null,
   "metadata": {},
   "outputs": [],
   "source": [
    "df.to_csv(\"just_store.csv\")"
   ]
  },
  {
   "cell_type": "markdown",
   "metadata": {},
   "source": [
    "The table contains the information about barcode and mutated sequence, the gene, how often the unique barcode/sequence combination was found, and the number of mutations compared to the wildtype genome."
   ]
  },
  {
   "cell_type": "markdown",
   "metadata": {},
   "source": [
    "The steps above are combined into a single function. Below you can find the docstring."
   ]
  },
  {
   "cell_type": "markdown",
   "metadata": {},
   "source": [
    "?regseq.create_key.key_barcode_sequence"
   ]
  },
  {
   "cell_type": "markdown",
   "metadata": {},
   "source": [
    "We have to define a path were the keys are being stored. We are using the `\"../data/barcode_keys/\"` in this repo. The function below will store a file for every gene observed in the sequence data."
   ]
  },
  {
   "cell_type": "markdown",
   "metadata": {},
   "source": [
    "output_path=\"../data/barcode_keys/\""
   ]
  },
  {
   "cell_type": "markdown",
   "metadata": {},
   "source": [
    "regseq.create_key.key_barcode_sequence(data_file, output_path)"
   ]
  },
  {
   "cell_type": "markdown",
   "metadata": {},
   "source": [
    "In the example file we provided were sequence from one gene only, so there will only be one file in the folder."
   ]
  },
  {
   "cell_type": "markdown",
   "metadata": {},
   "source": [
    "!ls ../data/barcode_keys/"
   ]
  },
  {
   "cell_type": "markdown",
   "metadata": {},
   "source": [
    "In the following steps we will use these keys to count sequence from growth experiments."
   ]
  },
  {
   "cell_type": "markdown",
   "metadata": {},
   "source": [
    "Finally, here are the versions of packages used in this notebook. To display the versions, we are using the Jupyter Lab extension `watermark`, which can be found [here](https://github.com/rasbt/watermark). (This will already be installed if you use the environment we prepared.)"
   ]
  },
  {
   "cell_type": "markdown",
   "metadata": {},
   "source": [
    "## Bash scripts\n",
    "\n",
    "For large sequencing files memory can become an issue and running notebooks is inefficient. For that reason we use bash scripts for the analysis of large "
   ]
  },
  {
   "cell_type": "markdown",
   "metadata": {},
   "source": []
  },
  {
   "cell_type": "markdown",
   "metadata": {},
   "source": [
    "## Computing Environment"
   ]
  },
  {
   "cell_type": "markdown",
   "metadata": {},
   "source": [
    "%load_ext watermark\n",
    "%watermark -v -p regseq,numpy,pandas"
   ]
  },
  {
   "cell_type": "code",
   "execution_count": null,
   "metadata": {},
   "outputs": [],
   "source": []
  }
 ],
 "metadata": {
  "kernelspec": {
   "display_name": "Python 3.9.13 ('base')",
   "language": "python",
   "name": "python3"
  },
  "language_info": {
   "codemirror_mode": {
    "name": "ipython",
    "version": 3
   },
   "file_extension": ".py",
   "mimetype": "text/x-python",
   "name": "python",
   "nbconvert_exporter": "python",
   "pygments_lexer": "ipython3",
   "version": "3.9.13"
  },
  "vscode": {
   "interpreter": {
    "hash": "9d6dea3053e6c906f4b5e2f82eaabd83a1c07be5555f557c9597ac8732ad9cb8"
   }
  }
 },
 "nbformat": 4,
 "nbformat_minor": 4
}
