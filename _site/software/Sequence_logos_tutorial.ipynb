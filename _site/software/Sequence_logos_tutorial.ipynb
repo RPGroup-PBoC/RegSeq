{
 "cells": [
  {
   "cell_type": "markdown",
   "metadata": {},
   "source": [
    "## Tutorial : Creation of Sequence Logos"
   ]
  },
  {
   "cell_type": "markdown",
   "metadata": {},
   "source": [
    "We often choose to view the sequence preference of a DNA-protein interaction in terms of sequence logo. The relative heights of the base pairs A, C, G, and T represent the relative probabilities of finding that base in that position in a naturally occuring binding site. \n",
    "\n",
    "The total height of the base pair stack at that position represents the information content of that position. This means that if each base occurs with a 25% probability, then the base stack will have height zero.\n",
    "\n",
    "To show how we generate sequence logos from energy matrices we will first load in an energy matrix."
   ]
  },
  {
   "cell_type": "code",
   "execution_count": 1,
   "metadata": {},
   "outputs": [],
   "source": [
    "#Import basic stuff\n",
    "import numpy as np\n",
    "import matplotlib.pyplot as plt\n",
    "import pandas as pd\n",
    "import sys\n",
    "\n",
    "#add path to where all the code is\n",
    "sys.path.append('../code/')\n",
    "#import anylogo python file written by Justin Kinney.\n",
    "import RNAseqplotlogo"
   ]
  },
  {
   "cell_type": "code",
   "execution_count": 2,
   "metadata": {},
   "outputs": [],
   "source": [
    "#load in energy matrix\n",
    "emat = pd.io.parsers.read_csv('/home/bill/test_fdoh/maoPhdfRdataset_alldone_with_largeMCMC195',delim_whitespace=True)"
   ]
  },
  {
   "cell_type": "markdown",
   "metadata": {},
   "source": [
    "To convert energy matrices to sequence logos we must first convert the energy entries to probabilities. Probabilities are defined by what frequency of each base we would find in a large number of naturally occuring binding sites. "
   ]
  },
  {
   "cell_type": "code",
   "execution_count": 3,
   "metadata": {},
   "outputs": [],
   "source": [
    "bg_df = pd.DataFrame([0.25,0.25,0.25,0.25])\n",
    "\n",
    "def effect_df_to_prob_df(effect_df,bg_df,beta):\n",
    "    '''This function converts an energy matrix to a probability matrix. effect_df is the energy matrix.\n",
    "    bg_df is a pandas data frame that describes the background probabilities of each base.'''\n",
    "    prob_df = effect_df.copy()\n",
    "    vals = effect_df.values\n",
    "    #fix values so that the minimum value for each position is 0\n",
    "    vals -= vals.min(axis=1)[:,np.newaxis]\n",
    "    #We determine probabilities by assuming a boltzmann distribution. We can then determine statistical\n",
    "    #weights of each of the 4 base pairs\n",
    "    weights = np.exp(-beta*vals)*bg_df.values\n",
    "    #we can then convert these weights to probabilities. \n",
    "    prob_df.loc[:,:] = weights/weights.sum(axis=1)[:,np.newaxis]\n",
    "    return prob_df"
   ]
  },
  {
   "cell_type": "markdown",
   "metadata": {},
   "source": [
    "We can now plot the logo with the following function based on anylogo (Justin Kinney 2017)."
   ]
  },
  {
   "cell_type": "code",
   "execution_count": 5,
   "metadata": {},
   "outputs": [
    {
     "name": "stdout",
     "output_type": "stream",
     "text": [
      "(array([ 61,  61,  61,  61,  83,  83,  83,  83, 148, 148, 148, 148]), array([0, 1, 2, 3, 0, 1, 2, 3, 0, 1, 2, 3]))\n"
     ]
    },
    {
     "ename": "AssertionError",
     "evalue": "",
     "output_type": "error",
     "traceback": [
      "\u001b[0;31m---------------------------------------------------------------------------\u001b[0m",
      "\u001b[0;31mAssertionError\u001b[0m                            Traceback (most recent call last)",
      "\u001b[0;32m<ipython-input-5-677c488dae51>\u001b[0m in \u001b[0;36m<module>\u001b[0;34m\u001b[0m\n\u001b[0;32m----> 1\u001b[0;31m \u001b[0mfig\u001b[0m \u001b[0;34m=\u001b[0m \u001b[0mRNAseqplotlogo\u001b[0m\u001b[0;34m.\u001b[0m\u001b[0mplot_logo\u001b[0m\u001b[0;34m(\u001b[0m\u001b[0memat\u001b[0m\u001b[0;34m)\u001b[0m\u001b[0;34m\u001b[0m\u001b[0;34m\u001b[0m\u001b[0m\n\u001b[0m",
      "\u001b[0;32m/media/bill/New_Volume/RNAseq_SortSeq/code/RNAseqplotlogo.py\u001b[0m in \u001b[0;36mplot_logo\u001b[0;34m(energy_df, clip, invert, scaledown)\u001b[0m\n\u001b[1;32m     55\u001b[0m     anylogo.draw(ax, effect_df=energy_df_scaled, logo_type='information',\n\u001b[1;32m     56\u001b[0m                  \u001b[0mbackground\u001b[0m \u001b[0;34m=\u001b[0m \u001b[0mbackground_df\u001b[0m\u001b[0;34m,\u001b[0m\u001b[0;34m\u001b[0m\u001b[0;34m\u001b[0m\u001b[0m\n\u001b[0;32m---> 57\u001b[0;31m                  use_transparency=False,find_beta=False)\n\u001b[0m\u001b[1;32m     58\u001b[0m     \u001b[0max\u001b[0m\u001b[0;34m.\u001b[0m\u001b[0mset_ylim\u001b[0m\u001b[0;34m(\u001b[0m\u001b[0;34m[\u001b[0m\u001b[0;36m0\u001b[0m\u001b[0;34m,\u001b[0m\u001b[0;36m2\u001b[0m\u001b[0;34m]\u001b[0m\u001b[0;34m)\u001b[0m\u001b[0;34m\u001b[0m\u001b[0;34m\u001b[0m\u001b[0m\n\u001b[1;32m     59\u001b[0m     \u001b[0;32mreturn\u001b[0m \u001b[0mfig\u001b[0m\u001b[0;34m\u001b[0m\u001b[0;34m\u001b[0m\u001b[0m\n",
      "\u001b[0;32m/media/bill/New_Volume/RNAseq_SortSeq/code/anylogo.py\u001b[0m in \u001b[0;36mdraw\u001b[0;34m(ax, prob_df, effect_df, find_beta, info_per_pos, use_transparency, background, ylabel, logo_type, color_scheme, shuffle_colors, font_name, floor_line_width)\u001b[0m\n\u001b[1;32m    706\u001b[0m                 \u001b[0mylabel\u001b[0m\u001b[0;34m=\u001b[0m\u001b[0mylabel\u001b[0m\u001b[0;34m,\u001b[0m\u001b[0;34m\u001b[0m\u001b[0;34m\u001b[0m\u001b[0m\n\u001b[1;32m    707\u001b[0m             \u001b[0mfont_name\u001b[0m\u001b[0;34m=\u001b[0m\u001b[0mfont_name\u001b[0m\u001b[0;34m,\u001b[0m\u001b[0;34m\u001b[0m\u001b[0;34m\u001b[0m\u001b[0m\n\u001b[0;32m--> 708\u001b[0;31m             floor_line_width=floor_line_width)\n\u001b[0m\u001b[1;32m    709\u001b[0m \u001b[0;34m\u001b[0m\u001b[0m\n\u001b[1;32m    710\u001b[0m     \u001b[0;32melif\u001b[0m \u001b[0mlogo_type\u001b[0m\u001b[0;34m==\u001b[0m\u001b[0;34m'probability'\u001b[0m\u001b[0;34m:\u001b[0m\u001b[0;34m\u001b[0m\u001b[0;34m\u001b[0m\u001b[0m\n",
      "\u001b[0;32m/media/bill/New_Volume/RNAseq_SortSeq/code/anylogo.py\u001b[0m in \u001b[0;36m__init__\u001b[0;34m(self, prob_df, bg_df, color_dict, ylabel, use_transparency, font_name, floor_line_width)\u001b[0m\n\u001b[1;32m    156\u001b[0m         \u001b[0mdf\u001b[0m\u001b[0;34m.\u001b[0m\u001b[0mloc\u001b[0m\u001b[0;34m[\u001b[0m\u001b[0;34m:\u001b[0m\u001b[0;34m,\u001b[0m\u001b[0;34m:\u001b[0m\u001b[0;34m]\u001b[0m \u001b[0;34m=\u001b[0m \u001b[0mprob_df\u001b[0m\u001b[0;34m.\u001b[0m\u001b[0mvalues\u001b[0m\u001b[0;34m*\u001b[0m\u001b[0minfo_vec\u001b[0m\u001b[0;34m.\u001b[0m\u001b[0msum\u001b[0m\u001b[0;34m(\u001b[0m\u001b[0maxis\u001b[0m\u001b[0;34m=\u001b[0m\u001b[0;36m1\u001b[0m\u001b[0;34m)\u001b[0m\u001b[0;34m[\u001b[0m\u001b[0;34m:\u001b[0m\u001b[0;34m,\u001b[0m\u001b[0mnp\u001b[0m\u001b[0;34m.\u001b[0m\u001b[0mnewaxis\u001b[0m\u001b[0;34m]\u001b[0m\u001b[0;34m\u001b[0m\u001b[0;34m\u001b[0m\u001b[0m\n\u001b[1;32m    157\u001b[0m         \u001b[0mprint\u001b[0m\u001b[0;34m(\u001b[0m\u001b[0mnp\u001b[0m\u001b[0;34m.\u001b[0m\u001b[0mnonzero\u001b[0m\u001b[0;34m(\u001b[0m\u001b[0mdf\u001b[0m\u001b[0;34m.\u001b[0m\u001b[0mvalues\u001b[0m \u001b[0;34m<=\u001b[0m\u001b[0;36m0\u001b[0m\u001b[0;34m)\u001b[0m\u001b[0;34m)\u001b[0m\u001b[0;34m\u001b[0m\u001b[0;34m\u001b[0m\u001b[0m\n\u001b[0;32m--> 158\u001b[0;31m         \u001b[0;32massert\u001b[0m \u001b[0mall\u001b[0m\u001b[0;34m(\u001b[0m\u001b[0mnp\u001b[0m\u001b[0;34m.\u001b[0m\u001b[0mravel\u001b[0m\u001b[0;34m(\u001b[0m\u001b[0mdf\u001b[0m\u001b[0;34m.\u001b[0m\u001b[0mvalues\u001b[0m\u001b[0;34m)\u001b[0m\u001b[0;34m>=\u001b[0m\u001b[0;36m0\u001b[0m\u001b[0;34m)\u001b[0m\u001b[0;34m\u001b[0m\u001b[0;34m\u001b[0m\u001b[0m\n\u001b[0m\u001b[1;32m    159\u001b[0m \u001b[0;34m\u001b[0m\u001b[0m\n\u001b[1;32m    160\u001b[0m         char_list, box = compute_logo_characters(\n",
      "\u001b[0;31mAssertionError\u001b[0m: "
     ]
    },
    {
     "data": {
      "image/png": "[encoded data removed]",
      "text/plain": [
       "<Figure size 432x288 with 1 Axes>"
      ]
     },
     "metadata": {
      "needs_background": "light"
     },
     "output_type": "display_data"
    }
   ],
   "source": [
    "fig = RNAseqplotlogo.plot_logo(emat)"
   ]
  },
  {
   "cell_type": "code",
   "execution_count": null,
   "metadata": {},
   "outputs": [],
   "source": []
  },
  {
   "cell_type": "code",
   "execution_count": null,
   "metadata": {},
   "outputs": [],
   "source": []
  }
 ],
 "metadata": {
  "kernelspec": {
   "display_name": "Python 3",
   "language": "python",
   "name": "python3"
  },
  "language_info": {
   "codemirror_mode": {
    "name": "ipython",
    "version": 3
   },
   "file_extension": ".py",
   "mimetype": "text/x-python",
   "name": "python",
   "nbconvert_exporter": "python",
   "pygments_lexer": "ipython3",
   "version": "3.6.9"
  }
 },
 "nbformat": 4,
 "nbformat_minor": 2
}
